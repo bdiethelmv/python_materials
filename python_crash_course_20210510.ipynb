{
 "cells": [
  {
   "cell_type": "code",
   "execution_count": 1,
   "metadata": {},
   "outputs": [],
   "source": [
    "#!/usr/bin/python3\n",
    "## September 27 2020\n",
    "## Author: Benjamin Diethelm-Varela\n",
    "## Crash course in python for data science"
   ]
  },
  {
   "cell_type": "markdown",
   "metadata": {},
   "source": [
    "# FOREWORD\n",
    "\n",
    "This crash course covers fundamental concepts, syntax, and examples of the python 3 programming language\n",
    "\n",
    "I hope that, after reading through this guide, you may have learned a thing or two about Python\n",
    "\n",
    "## Sources and inspiration used to write this guide\n",
    "\n",
    " Jay Lacroix (youtube.com/learnlinuxtv)\n",
    " \n",
    " Data Science from Scratch (O'Reilly Books)\n",
    " \n",
    " Tony Staunton - Basic Python Course (skillshare.com)\n",
    " \n",
    "\n",
    "## Recommended documentation\n",
    "Official python documentation and tutorial\n",
    "    - www.python.org\n",
    "    - Documentation at: docs.python.org/3/\n",
    "    - Tutorials at: docs.python.org/3/tutorials\n",
    "\n",
    "www.learnpython.org\n",
    "\n",
    "The Hitchhiker's Guide to Python - docs.python-guide.org\n",
    "\n",
    "Learn Python 3 the Hard Way - Zed A. Shaw\n",
    "\n",
    "Python 3 Object-oriented programming - Dusty Phillips\n",
    "\n",
    "## Comments, indentation, and style\n",
    "Refer to the Style Guide for Python Code for proper style.\n",
    "\n",
    "Comments such  are placed by starting the line with a hashbang (#, also called shebang or hashtag). The interpreter ignores comments. The exception is in the first line, where a hashbang is specifically used to declare the interpreter. Pythonic guidelines recommend limiting comment line length to about 72 characters.\n",
    "\n",
    "Indentation is common in Python. It is officially recommended that four spaces are used instead of a \"tab\" when using indentation."
   ]
  },
  {
   "cell_type": "markdown",
   "metadata": {},
   "source": [
    "# BUILT-IN PYTHON FUNCTIONS\n",
    "In Python, functions follow this syntax:\n",
    "\n",
    "    function(argument)"
   ]
  },
  {
   "cell_type": "markdown",
   "metadata": {},
   "source": [
    "## Print function\n",
    "One of the most common procedures in python is instructing it to print some kind of output into the screen. This is most often done with the print method."
   ]
  },
  {
   "cell_type": "code",
   "execution_count": 2,
   "metadata": {},
   "outputs": [
    {
     "name": "stdout",
     "output_type": "stream",
     "text": [
      "Hello\n"
     ]
    }
   ],
   "source": [
    "print('Hello') "
   ]
  },
  {
   "cell_type": "markdown",
   "metadata": {},
   "source": [
    "## Length function\n",
    "Returns the length of any item with iterable parts"
   ]
  },
  {
   "cell_type": "code",
   "execution_count": 78,
   "metadata": {},
   "outputs": [
    {
     "data": {
      "text/plain": [
       "9"
      ]
     },
     "execution_count": 78,
     "metadata": {},
     "output_type": "execute_result"
    }
   ],
   "source": [
    "# Length is passed as len()\n",
    "len('marianelo')"
   ]
  },
  {
   "cell_type": "markdown",
   "metadata": {},
   "source": [
    "## Sum function\n",
    "Returns the sum of a collection of numbers. These must be passed as a sequenced item, such as a list (see below)."
   ]
  },
  {
   "cell_type": "code",
   "execution_count": 80,
   "metadata": {},
   "outputs": [
    {
     "data": {
      "text/plain": [
       "15"
      ]
     },
     "execution_count": 80,
     "metadata": {},
     "output_type": "execute_result"
    }
   ],
   "source": [
    "sum([1,2,3,4,5])"
   ]
  },
  {
   "cell_type": "markdown",
   "metadata": {},
   "source": [
    "## Sorted function\n",
    "Returns the ordered version of a sequence. It doesn't alter the original sequence; it returns a different one"
   ]
  },
  {
   "cell_type": "code",
   "execution_count": 81,
   "metadata": {},
   "outputs": [
    {
     "data": {
      "text/plain": [
       "[1, 5, 24]"
      ]
     },
     "execution_count": 81,
     "metadata": {},
     "output_type": "execute_result"
    }
   ],
   "source": [
    "list1 = [1,24,5]\n",
    "sorted(list1)"
   ]
  },
  {
   "cell_type": "code",
   "execution_count": 83,
   "metadata": {},
   "outputs": [
    {
     "data": {
      "text/plain": [
       "[1, 5, 24]"
      ]
     },
     "execution_count": 83,
     "metadata": {},
     "output_type": "execute_result"
    }
   ],
   "source": [
    "# Lists also have a sort method, which works similarly, but alters the list permanently \n",
    "list1.sort()\n",
    "list1"
   ]
  },
  {
   "cell_type": "markdown",
   "metadata": {},
   "source": [
    "# DATA TYPES\n",
    "There are various types of data in python, all of which are recognized as objects in the programming language. The most important are: strings, integers, floats (numbers with decimal figures), and booleans. Advanced data types are lists, dictionaries, functions, and classes. \n",
    "\n",
    "The type of a piece of data can be queried with the type() method."
   ]
  },
  {
   "cell_type": "code",
   "execution_count": 57,
   "metadata": {},
   "outputs": [
    {
     "name": "stdout",
     "output_type": "stream",
     "text": [
      "<class 'int'>\n",
      "<class 'float'>\n",
      "<class 'str'>\n",
      "<class 'str'>\n",
      "<class 'bool'>\n",
      "<class 'list'>\n",
      "<class 'dict'>\n",
      "<class 'NoneType'>\n"
     ]
    }
   ],
   "source": [
    "# This is an integer\n",
    "print(type(3))\n",
    "# This is a float\n",
    "print(type(3.5))\n",
    "# This is a string\n",
    "print(type('3.5'))\n",
    "# This is a string\n",
    "print(type('three point five'))\n",
    "# This is a boolean (called logical in some other languages)\n",
    "print(type(True))\n",
    "# This is a list \n",
    "print(type(['pepe', 'juan', 'pablo']))\n",
    "# This is a dictionary\n",
    "print(type({'pepe': 'fool', 'pablo': 'fooler'})) \n",
    "# This is the None data type\n",
    "print(type(None))\n",
    "\n",
    "# Data types can be assigned to arbitrarily-named variables\n",
    "\n",
    "# This variable is an integer\n",
    "variable1 = 3 \n",
    "\n",
    "# This variable is a string\n",
    "variable2 = 'three' "
   ]
  },
  {
   "cell_type": "markdown",
   "metadata": {},
   "source": [
    "# STRINGS\n",
    "Strings are collections of characters. They can be enclosed in either single or double quotes. This doesn't generate issues as long as the quotes match."
   ]
  },
  {
   "cell_type": "code",
   "execution_count": null,
   "metadata": {},
   "outputs": [],
   "source": [
    "string1 = 'My name is N00b'\n",
    "string2 = \"Your name is Bob\"\n",
    "\n",
    "# This would generate an error if uncommented\n",
    "#string3 = 'Her name is Polka\"\n",
    "\n",
    "# Multiline strings are created by using triple double-quotes\n",
    "\n",
    "string4 = \"\"\"This is\n",
    "a multiline\n",
    "string\n",
    "cuz\n",
    "why not\"\"\"\n",
    "print(string4)"
   ]
  },
  {
   "cell_type": "markdown",
   "metadata": {},
   "source": [
    "# BOOLEANS AND COMPARISON OPERATORS\n",
    "A boolean is a variable holding one value of a binary classification: True or False.\n",
    "Because they represent a yes/no answer to queries, boolean sit at the heart of comparison operations and flags and checks in programs"
   ]
  },
  {
   "cell_type": "code",
   "execution_count": 62,
   "metadata": {},
   "outputs": [
    {
     "name": "stdout",
     "output_type": "stream",
     "text": [
      "True\n",
      "True\n",
      "False\n",
      "\n",
      "\n",
      "False\n",
      "False\n",
      "False\n",
      "False\n",
      "False\n",
      "True\n",
      "True\n",
      "True\n",
      "\n",
      "\n",
      "False\n",
      "False\n",
      "True\n",
      "False\n"
     ]
    }
   ],
   "source": [
    "# The following comparisons return a boolean\n",
    "# note: the equality operator is ==, and the inequality operator is !=\n",
    "print(2+2 == 4)\n",
    "print(2+2 != 5)\n",
    "print(2>5)\n",
    "print('\\n')\n",
    "\n",
    "# A foor loop using an operator. Each iteration returns a boolean. For loops are studied later\n",
    "for i in [1,2,3,4,5,6,7,8]:\n",
    "    print(i>5)\n",
    "print('\\n')\n",
    "# Comparison operations work with strings as well. If greater or less than are used, alphabetical order is considered\n",
    "print('chorgle'=='Chorgle')\n",
    "print(666=='666')\n",
    "print(666==int('666'))\n",
    "print('A'>'B')"
   ]
  },
  {
   "cell_type": "code",
   "execution_count": 61,
   "metadata": {},
   "outputs": [
    {
     "name": "stdout",
     "output_type": "stream",
     "text": [
      "True\n",
      "False\n",
      "True\n",
      "True\n",
      "True\n",
      "True\n"
     ]
    }
   ],
   "source": [
    "# The operators is, is not, and, or, in, and not in are used to evaluate conditions and return booleans\n",
    "# A statement is True if all the and conditions are True\n",
    "# A statement is True if at least one of the or conditions are True\n",
    "print(1 in [1,2,3]) \n",
    "print(True and False)\n",
    "print(True or False)\n",
    "print(True and not False)\n",
    "print('mariposa' not in [1,2,3])\n",
    "print(True is not False and None is None and False is not None and False is True and None is not False or 1 in [1,2,'dinosaurio'])"
   ]
  },
  {
   "cell_type": "markdown",
   "metadata": {},
   "source": [
    "# OBJECTS AND METHODS\n",
    "As said above, all data types in python are known as objects. All objects have functions associated to them that are specific to that object type. These are known as methods."
   ]
  },
  {
   "cell_type": "markdown",
   "metadata": {},
   "source": [
    "# LISTS\n",
    "A list is an ordered collection of items, be it strings, integers, floats, or any other.\n",
    "\n",
    "They can be assigned to any variable."
   ]
  },
  {
   "cell_type": "code",
   "execution_count": 2,
   "metadata": {},
   "outputs": [
    {
     "name": "stdout",
     "output_type": "stream",
     "text": [
      "John\n",
      "George\n"
     ]
    }
   ],
   "source": [
    "people = ['donald', 'alberto', 'joe']\n",
    "\n",
    "# Lists are stored in memory. If a variable is linked to it, the variable accesses the list whenever called\n",
    "\n",
    "# A list can contain a combination of data types, such as integers,floats and numbers. it can even contain \n",
    "# lists and dictionaries inside\n",
    "\n",
    "list1 = [1, 'orange', 'moths', 3.5, ['pedro', 'juan', 'diego']]\n",
    "\n",
    "ages = ['emma', 35, 'barbara', 84, 'pablo', 35]\n",
    "\n",
    "# Lists inside lists are known as nested lists\n",
    "\n",
    "testing_team = ['John', 'Paul', 'George']\n",
    "\n",
    "sales_team = ['Emma', 'Paco', 'Luis']\n",
    "\n",
    "employees = [testing_team, sales_team]\n",
    "\n",
    "# List elements can be accessed with positional arguments, from left to right, starting at zero\n",
    "\n",
    "print(testing_team[0])\n",
    "\n",
    "# Negative values can be used to access list items in reverse, where -1 is the position for the last item\n",
    "\n",
    "print(testing_team[-1])\n",
    "\n",
    "# A list slice can be created which grabs an interval of the list denoted by positional arguments and converts \n",
    "# that interval into a new list\n",
    "\n",
    "# When slicing, the element at the end of the interval is not sliced. In the case above, the slice consists of \n",
    "# items 0 and 1."
   ]
  },
  {
   "cell_type": "markdown",
   "metadata": {},
   "source": [
    "## List manipulation and subsetting\n",
    "Selections of elements in a list are known as subsetting.\n",
    "\n",
    "Modifications made to the elements of a list are collectively known as list manipulation.\n",
    "\n",
    "Indices begin at zero, therefore the third element is accessed with index 2.\n",
    "\n",
    "When slicing, the end element of the slice is not included."
   ]
  },
  {
   "cell_type": "code",
   "execution_count": 5,
   "metadata": {},
   "outputs": [
    {
     "name": "stdout",
     "output_type": "stream",
     "text": [
      "['John', 'Paul']\n",
      "['John', 'Ringo', 'George']\n",
      "George\n",
      "Ringo\n",
      "['Emma', 'Paco', 'Luis', 'Donna']\n",
      "Ringo\n",
      "['Paco', 'Luis', 'Donna']\n",
      "['pepe', 'juan', 'ana']\n",
      "['ana', 'maria luisa', 'jimmy']\n",
      "['doom', 'quake', 'sim city', 'duke nukem', 'descent', 'x-com']\n"
     ]
    }
   ],
   "source": [
    "print(testing_team[0:2])\n",
    "\n",
    "# Lists can be modified with positional arguments\n",
    "\n",
    "testing_team[1] = 'Ringo'\n",
    "print(testing_team)\n",
    "\n",
    "# Negative indices allow accessing a list from the end and backwards. -1 is the last element\n",
    "\n",
    "print(testing_team[-1])\n",
    "print(testing_team[-2])\n",
    "\n",
    "# Lists can also be modified by using concatenation\n",
    "\n",
    "sales_team = sales_team + ['Donna']\n",
    "\n",
    "print(sales_team)\n",
    "\n",
    "# The delete function allows removing items from a list\n",
    "\n",
    "del(sales_team[0])\n",
    "testing_experts = testing_team[0:2]\n",
    "\n",
    "testing_team[1] = 'Ringo'\n",
    "print(testing_team[1])\n",
    "\n",
    "\n",
    "print(sales_team)\n",
    "\n",
    "# If the start number in a slice is not included, the slice begins at index 0\n",
    "\n",
    "family = ['pepe', 'juan', 'ana', 'maria luisa', 'jimmy']\n",
    "print(family[:3])\n",
    "\n",
    "# If the end number in a slice is not included, the slice contains items up to \n",
    "#and including the last element in the list\n",
    "\n",
    "print(family[2:])\n",
    "\n",
    "# Adding together two lists simply pastes their contents together into a new list\n",
    "\n",
    "games1 = ['doom', 'quake', 'sim city']\n",
    "games2 = ['duke nukem', 'descent', 'x-com']\n",
    "allgames = games1 + games2\n",
    "print(allgames)"
   ]
  },
  {
   "cell_type": "code",
   "execution_count": 6,
   "metadata": {},
   "outputs": [
    {
     "name": "stdout",
     "output_type": "stream",
     "text": [
      "['allison', 'charles', 'koketa', 'tamara']\n",
      "[1, 2, 3, 4, 5, 7]\n",
      "Sorting a mixed list is not supported\n"
     ]
    }
   ],
   "source": [
    "# Lists can be sorted with the sorted() method. For strings, it sorts alphabetically.\n",
    "# For numbers, it sorts from lower to higher. Not supported in lists containing mixed data\n",
    "\n",
    "mynames = ['charles', 'koketa', 'tamara', 'allison']\n",
    "mynums = [3, 4, 7, 2, 1, 5]\n",
    "myall = ['elvis', 'alderaan', 2, 3, 5, 'javier']\n",
    "\n",
    "my_n_sort = sorted(mynames)\n",
    "print(my_n_sort)\n",
    "my_nu_sort = sorted(mynums)\n",
    "print(my_nu_sort)\n",
    "try:\n",
    "    my_a_sort = sorted(myall)\n",
    "    print(my_a_sort)\n",
    "except:\n",
    "    print('Sorting a mixed list is not supported')"
   ]
  },
  {
   "cell_type": "code",
   "execution_count": 7,
   "metadata": {},
   "outputs": [
    {
     "name": "stdout",
     "output_type": "stream",
     "text": [
      "['tamara', 'koketa', 'charles', 'allison']\n",
      "[1, 2, 3, 4, 6]\n"
     ]
    }
   ],
   "source": [
    "# Reverse sorting is also possible. Also, the .sort() method is built into lists. sort()\n",
    "# permanently modifies a list\n",
    "\n",
    "my_n_revsort = sorted(mynames, reverse = True)\n",
    "print(my_n_revsort)\n",
    "\n",
    "po = [4, 6, 2, 3, 1]\n",
    "po.sort()\n",
    "print(po)"
   ]
  },
  {
   "cell_type": "code",
   "execution_count": 8,
   "metadata": {},
   "outputs": [
    {
     "name": "stdout",
     "output_type": "stream",
     "text": [
      "[0, 1, 4, 9, 16, 25, 36, 49, 64, 81]\n",
      "[1, 2, 5, 10, 17, 26, 37, 50, 65, 82]\n",
      "[(0, 0), (0, 1), (0, 4), (0, 9), (0, 16), (0, 25), (0, 36), (0, 49), (0, 64), (0, 81), (1, 0), (1, 1), (1, 4), (1, 9), (1, 16), (1, 25), (1, 36), (1, 49), (1, 64), (1, 81)]\n"
     ]
    }
   ],
   "source": [
    "# List comprehensions involve transforming a list into another list by providing an instruction to modify\n",
    "# its elements\n",
    "\n",
    "squares = [x * x for x in range(10)]\n",
    "print(squares)\n",
    "\n",
    "squares_modified = [x + 1 for x in squares]\n",
    "print(squares_modified)\n",
    "\n",
    "stupid_pairs = [(x,y)\n",
    "               for x in range(2)\n",
    "               for y in squares]\n",
    "print(stupid_pairs)"
   ]
  },
  {
   "cell_type": "code",
   "execution_count": 9,
   "metadata": {},
   "outputs": [
    {
     "name": "stdout",
     "output_type": "stream",
     "text": [
      "[0, 1, 2, 3, 4, 5, 6, 7, 8, 9, 10, 11, 12, 13, 14, 15, 16, 17, 18, 19, 20, 21, 22, 23, 24, 25, 26, 27, 28, 29, 30, 31, 32, 33, 34, 35, 36, 37, 38, 39, 40, 41, 42, 43, 44, 45, 46, 47, 48, 49, 50, 51, 52, 53, 54, 55, 56, 57, 58, 59, 60, 61, 62, 63, 64, 65, 66, 67, 68, 69, 70, 71, 72, 73, 74, 75, 76, 77, 78, 79, 80, 81, 82, 83, 84, 85, 86, 87, 88, 89, 90, 91, 92, 93, 94, 95, 96, 97, 98, 99]\n"
     ]
    }
   ],
   "source": [
    "# Lists can get a bit unwieldy\n",
    "\n",
    "reasonable_range = [x for x in range(100)]\n",
    "print(reasonable_range)\n",
    "\n",
    "dumb_range = [x for x in range(1000000)]\n",
    "# print(dumb_range) This would actually generate an error cuz too much data"
   ]
  },
  {
   "cell_type": "markdown",
   "metadata": {},
   "source": [
    "Range function\n",
    "A built-in funtion used to generate an ordered number of integers. It is so commonly used it was decided to put it at the beginning\n",
    "\n",
    "    range(x)\n",
    "    \n",
    "Generates a sequence of integers in increments of 1 from 0 to x-1. In other words:\n",
    "\n",
    "    [0,1,2,3,4,5, ... ,x-1]\n",
    "\n",
    "It is common practice to assign this sequence to a list"
   ]
  },
  {
   "cell_type": "code",
   "execution_count": 68,
   "metadata": {},
   "outputs": [
    {
     "name": "stdout",
     "output_type": "stream",
     "text": [
      "[0, 1, 2, 3, 4, 5, 6, 7, 8, 9]\n",
      "[10, 11, 12, 13, 14, 15, 16, 17, 18, 19, 20]\n"
     ]
    }
   ],
   "source": [
    "# Range does not generate a list automatically; it must be assigned to one\n",
    "x = list(range(10))\n",
    "print(x)\n",
    "\n",
    "# We can specify the start of the sequence\n",
    "y = list(range(10,21))\n",
    "print(y)"
   ]
  },
  {
   "cell_type": "markdown",
   "metadata": {},
   "source": [
    "# TUPLES\n",
    "Tuples are a similar type of data structure as compared to lists; they consist of ordered collections of any type of variable.\n",
    "\n",
    "The main difference is that tuples cannot be altered. Any modification the likes of which is done in lists will result in an error. Tuples are thus inmutable.\n",
    "\n",
    "Some reasons for using tuples is in case a collection of non-mutable objects might be required for work, and also tuples employ less memory than lists.\n",
    "\n",
    "Tuples are created with round braces."
   ]
  },
  {
   "cell_type": "code",
   "execution_count": 10,
   "metadata": {},
   "outputs": [
    {
     "name": "stdout",
     "output_type": "stream",
     "text": [
      "('donald', 38, ['puerquito', 43], 'maribel', True)\n",
      "Cannot modify a tuple\n"
     ]
    }
   ],
   "source": [
    "tuple1 = ('donald', 38, ['puerquito', 43], 'maribel', True)\n",
    "print(tuple1)\n",
    "\n",
    "try:\n",
    "    tuple1[0] = 'billy'\n",
    "except:\n",
    "    print('Cannot modify a tuple')"
   ]
  },
  {
   "cell_type": "markdown",
   "metadata": {},
   "source": [
    "# DICTIONARIES\n",
    "Dictionaries are types of data structure that store key-value pairs.\n",
    "\n",
    "Each key on the dictionary is associated to a specific value.\n",
    "\n",
    "In that way, dictionaries can be thought of as two-column tables.\n",
    "\n",
    "Keys are analogous to lists' indices, but they don't need to be integers, and they contain additional info.\n",
    "\n",
    "Dictionaries are created with curly braces, with key-value pairs denoted by a colon, and items separated by commas."
   ]
  },
  {
   "cell_type": "code",
   "execution_count": 26,
   "metadata": {},
   "outputs": [
    {
     "name": "stdout",
     "output_type": "stream",
     "text": [
      "Eljohnny\n",
      "None\n",
      "technician\n",
      "{'Name': 'Eljohnny', 'Age': 994, 'Gender': 'male', 'Job': 'technician'}\n",
      "4\n",
      "994\n"
     ]
    }
   ],
   "source": [
    "dictionary1 = {'Name': 'Eljohnny', 'Age': 994, 'Gender': 'male'}\n",
    "print(dictionary1['Name'])\n",
    "\n",
    "# The syntax above looks up the value associated with the provided key\n",
    "#and prints it\n",
    "# Keys can be queried using the get method so that an error is not returned for a non-existing key\n",
    "print(dictionary1.get('Job'))\n",
    "\n",
    "# New key-value pairs can be added with the following syntax\n",
    "\n",
    "dictionary1['Job'] = 'technician'\n",
    "# Using the above method with an existig key replaces it with the new value\n",
    "print(dictionary1.get('Job'))\n",
    "print(dictionary1)\n",
    "print(len(dictionary1))\n",
    "# The len() function above informs how many elements are in the dictionary\n",
    "print(dictionary1['Age'])"
   ]
  },
  {
   "cell_type": "code",
   "execution_count": 28,
   "metadata": {},
   "outputs": [
    {
     "name": "stdout",
     "output_type": "stream",
     "text": [
      "dict_keys(['Name', 'Age', 'Gender', 'Job'])\n",
      "dict_values(['Eljohnny', 994, 'male', 'technician'])\n",
      "dict_items([('Name', 'Eljohnny'), ('Age', 994), ('Gender', 'male'), ('Job', 'technician')])\n",
      "<class 'dict_keys'>\n",
      "['Name', 'Age', 'Gender', 'Job']\n"
     ]
    }
   ],
   "source": [
    "# We can retrieve keys, values, or whole key-value pairs from dictionaries\n",
    "print(dictionary1.keys())\n",
    "print(dictionary1.values())\n",
    "print(dictionary1.items())\n",
    "# The last method (items()) returns a list of tuples consisting of all key-value pairs\n",
    "\n",
    "# The returned item for the keys and values methods is a special class called dict_keys. Can be typeset into other things\n",
    "print(type(dictionary1.keys()))\n",
    "thekeys = list(dictionary1.keys())\n",
    "print(thekeys)"
   ]
  },
  {
   "cell_type": "code",
   "execution_count": 24,
   "metadata": {},
   "outputs": [
    {
     "name": "stdout",
     "output_type": "stream",
     "text": [
      "{'Name': 'Eljohnny', 'Age': 994, 'Gender': 'male'}\n",
      "True\n"
     ]
    }
   ],
   "source": [
    "# Delete an item from a dictionary using del\n",
    "del(dictionary1['Job'])\n",
    "print(dictionary1)\n",
    "\n",
    "# Check for the presence of a key with the in keyword. A boolean is returned\n",
    "print('Age' in dictionary1)"
   ]
  },
  {
   "cell_type": "code",
   "execution_count": 25,
   "metadata": {},
   "outputs": [
    {
     "name": "stdout",
     "output_type": "stream",
     "text": [
      "el\n"
     ]
    }
   ],
   "source": [
    "# Dictionary keys can be any object, including immutables such as tuples\n",
    "dictionary2 = {1: 'yo', '2': 'tu', (0,3): 'el'}\n",
    "print(dictionary2[(0,3)])"
   ]
  },
  {
   "cell_type": "markdown",
   "metadata": {},
   "source": [
    "# SETS\n",
    "A set represents a collection of distinct elements. They are quick to check, and they don't contain repeated elements.\n",
    "\n",
    "Sets are unordered; they do not record element positions.\n",
    "\n",
    "They are created either with the set function or with curly brackets"
   ]
  },
  {
   "cell_type": "code",
   "execution_count": 33,
   "metadata": {},
   "outputs": [
    {
     "name": "stdout",
     "output_type": "stream",
     "text": [
      "{1}\n",
      "{1, 2, 'chorgle'}\n",
      "False\n",
      "<class 'set'>\n"
     ]
    }
   ],
   "source": [
    "# The add method allows adding additional items to the set. Only new items can be added; again, no duplicates!\n",
    "set1 = set()\n",
    "set1.add(1)\n",
    "print(set1)\n",
    "set1.add(1)\n",
    "set1.add(2)\n",
    "set1.add('chorgle')\n",
    "set1.add('chorgle')\n",
    "print(set1)\n",
    "print('brogle' in set1)\n",
    "print(type(set1))"
   ]
  },
  {
   "cell_type": "code",
   "execution_count": 34,
   "metadata": {},
   "outputs": [
    {
     "name": "stdout",
     "output_type": "stream",
     "text": [
      "{1, 2, 3, 4, 'boo'}\n",
      "{1, 2, 3, 4}\n"
     ]
    }
   ],
   "source": [
    "# Using curly brackets\n",
    "newset = {1,4,3,'boo',1,1,2}\n",
    "print(newset)\n",
    "\n",
    "# The remove method gets rid of elements\n",
    "newset.remove('boo')\n",
    "print(newset)"
   ]
  },
  {
   "cell_type": "code",
   "execution_count": 31,
   "metadata": {},
   "outputs": [
    {
     "name": "stdout",
     "output_type": "stream",
     "text": [
      "{1, 2, 3, 4, 5}\n"
     ]
    }
   ],
   "source": [
    "# Convert a list to a set\n",
    "mylist = [1,2,3,4,5,5]\n",
    "myset = set(mylist)\n",
    "print(myset)"
   ]
  },
  {
   "cell_type": "code",
   "execution_count": 40,
   "metadata": {},
   "outputs": [
    {
     "name": "stdout",
     "output_type": "stream",
     "text": [
      "{'jeremias', 'john', 'jorge', 'jaime', 'juan'}\n",
      "{'john'}\n",
      "{'john', 'jorge', 'jaime', 'juan', 'jeremias'}\n",
      "True\n",
      "True\n",
      "{'jaime', 'jeremias'}\n"
     ]
    }
   ],
   "source": [
    "# When combining lists into a set, only distinct elements will join the set\n",
    "# Try drawing a Venn diagram to predict which items will join\n",
    "list_a = ['juan', 'john', 'jorge']\n",
    "list_b = ['jaime', 'john', 'jeremias']\n",
    "set2 = set(list_a + list_b)\n",
    "print(set2)\n",
    "\n",
    "# The & operator allows joining only the intersection of two sets\n",
    "set_a = {'juan', 'john', 'jorge'}\n",
    "set_b = {'jaime', 'john', 'jeremias'}\n",
    "set_c = set_a & set_b\n",
    "print(set_c)\n",
    "\n",
    "# The union method joins together the union of all items in two sets\n",
    "set_d = set_a.union(set_b)\n",
    "print(set_d)\n",
    "\n",
    "# use the issubset method to see if a set is a subset of another\n",
    "# Superset is the opposite idea\n",
    "print(set_a.issubset(set_d))\n",
    "print(set_d.issuperset(set_a))\n",
    "\n",
    "# The difference method spots which items are in one set but not on another\n",
    "print(set_d.difference(set_a))"
   ]
  },
  {
   "cell_type": "markdown",
   "metadata": {},
   "source": [
    "# WHITESPACE AND INDENTATION\n",
    "Blocks of code are separated by indents, so care must be taken to be thorough with them. \n",
    "Inside data structures (functions, dictionaries, lists, etc.), spaces can be used with no issue; they are simply ignored by the interpreter.\n",
    "\n",
    "Spaces inside of a string are printed, so their use does make a difference in this situation."
   ]
  },
  {
   "cell_type": "code",
   "execution_count": 15,
   "metadata": {},
   "outputs": [
    {
     "name": "stdout",
     "output_type": "stream",
     "text": [
      "Item will be printed\n",
      "1\n",
      "Item will be printed\n",
      "2\n",
      "Item will be printed\n",
      "3\n",
      "Item will be printed\n",
      "4\n",
      "Item will be printed\n",
      "5\n",
      "Item will be printed\n",
      "6\n",
      "John\n",
      "Paul\n",
      "George\n",
      "Ringo\n",
      "The book is about 2 friends who go on 3 vacation trips.\n"
     ]
    }
   ],
   "source": [
    "list1 = [1, 2, 3, 4, 5, 6] # An equivalent way of writing the same list \n",
    "#is displayed on the commented line belowi\n",
    "#list1=[1,2,3,4,5,6]\n",
    "\n",
    "for item in list1:\n",
    "    print('Item will be printed') # The indentation marks the \n",
    "#beginning of the \"item\" block of code\n",
    "    print(item)\n",
    "\n",
    "# Whitespaces, indents and new lines can be used without issue inside \n",
    "#structures delimited by parentheses and brackets\n",
    "# Breakdown into multiple lines is often recommended for better code \n",
    "#readability \n",
    "\n",
    "list2 = [ 'john',\n",
    "    'paul',\n",
    "    'george',\n",
    "    'ringo'\n",
    "    ]\n",
    "\n",
    "for item in list2:\n",
    "    print(item.title())\n",
    "\n",
    "# When a statement not delimited by parentheses needs to continue on a \n",
    "#separate line, a backlash indicates that said line is a continuation \n",
    "#of the previous one\n",
    "\n",
    "profile = 'The book is about ' + str(list1[1]) + \\\n",
    "    ' friends who go on ' + str(list1[2]) + \\\n",
    "    ' vacation trips.'\n",
    "print(profile)"
   ]
  },
  {
   "cell_type": "markdown",
   "metadata": {},
   "source": [
    "# EXCEPTIONS\n",
    "When an error (i.e. exception) occurs, Python will crash. Exceptions can be created to instruct python how to handle an error and thus continue working. This is done through a try-except block.\n",
    "\n",
    "There are many errors, such as:\n",
    "- ZeroDivisionError\n",
    "- NameError\n",
    "- TypeError\n",
    "- IndexError"
   ]
  },
  {
   "cell_type": "code",
   "execution_count": 3,
   "metadata": {},
   "outputs": [
    {
     "name": "stdout",
     "output_type": "stream",
     "text": [
      "You can't divide by zero.\n",
      "No can do.\n",
      "You screwed up again\n",
      "integer division or modulo by zero\n"
     ]
    }
   ],
   "source": [
    "try:\n",
    "    print(5/0)\n",
    "except ZeroDivisionError:\n",
    "    print('You can\\'t divide by zero.')\n",
    "\n",
    "# In order to guard against any possible error, the except block can be\n",
    "#setup without any argument\n",
    "\n",
    "try:\n",
    "    print(5//0)\n",
    "except:\n",
    "    print('No can do.')\n",
    "\n",
    "# We can also capture the error as an alias and then print it for\n",
    "#troubleshooting\n",
    "\n",
    "try:\n",
    "    print(5//0)\n",
    "except ZeroDivisionError as err:\n",
    "    print('You screwed up again')\n",
    "    print(err)"
   ]
  },
  {
   "cell_type": "code",
   "execution_count": 93,
   "metadata": {},
   "outputs": [
    {
     "name": "stdout",
     "output_type": "stream",
     "text": [
      "2\n",
      "addition was successful!\n",
      "have a good day\n"
     ]
    }
   ],
   "source": [
    "# For communication and housekeeping purposes, add an else statement to communicate when an error does not occur, and a finally\n",
    "# block to end the program\n",
    "try:\n",
    "    print(1+1)\n",
    "except:\n",
    "    print('something happened')\n",
    "else:\n",
    "    print('addition was successful!')\n",
    "finally:\n",
    "    print('have a good day')"
   ]
  },
  {
   "cell_type": "markdown",
   "metadata": {},
   "source": [
    "# USER INPUT\n",
    "The input function allows storing user input as a variable."
   ]
  },
  {
   "cell_type": "code",
   "execution_count": 4,
   "metadata": {},
   "outputs": [
    {
     "name": "stdout",
     "output_type": "stream",
     "text": [
      "Please enter your name\n",
      "\n"
     ]
    },
    {
     "name": "stdin",
     "output_type": "stream",
     "text": [
      " dudu\n"
     ]
    },
    {
     "name": "stdout",
     "output_type": "stream",
     "text": [
      "Hello Dudu\n"
     ]
    },
    {
     "name": "stdin",
     "output_type": "stream",
     "text": [
      "Please enter your favorite color\n",
      " pink\n"
     ]
    },
    {
     "name": "stdout",
     "output_type": "stream",
     "text": [
      "Your favorite color is pink\n"
     ]
    },
    {
     "name": "stdin",
     "output_type": "stream",
     "text": [
      "Enter your age\n",
      " butterflies\n"
     ]
    },
    {
     "name": "stdout",
     "output_type": "stream",
     "text": [
      "I asked for your age. In numbers. You clown\n"
     ]
    }
   ],
   "source": [
    "print('Please enter your name\\n')\n",
    "name1 = input()\n",
    "print('Hello ' + name1.title())\n",
    "\n",
    "# An input statement can be made so that it by itself contains the text \n",
    "#string to be shown to the user instead of having to print it in a \n",
    "#separate print function\n",
    "\n",
    "color2 = input('Please enter your favorite color\\n')\n",
    "print('Your favorite color is ' + color2)\n",
    "\n",
    "# Bear in mind that an input statement always produces a string. If \n",
    "#the user input needs to be subject to calculus, it must be coerced \n",
    "#into an integer or float\n",
    "# This is a good opportunity to add an exception in case the user \n",
    "#inputs a string that is not convertible into an integer\n",
    "\n",
    "age = input('Enter your age\\n')\n",
    "try:\n",
    "    age_sum = int(age) + 2\n",
    "    print('In 2 more years you will be ' + str(age_sum) + ' years old.')\n",
    "except ValueError:\n",
    "    print('I asked for your age. In numbers. You clown')"
   ]
  },
  {
   "cell_type": "markdown",
   "metadata": {},
   "source": [
    "# GENERATORS AND ITERATORS\n",
    "A generator is a code block that iterates through a large data structure and acquires only data relevant to the specified conditions.\n",
    "A common way to produce a generator is through the yield operator."
   ]
  },
  {
   "cell_type": "code",
   "execution_count": null,
   "metadata": {},
   "outputs": [],
   "source": [
    "def funct1(x):\n",
    "    ran = [z for z in range(x)]\n",
    "    for item in ran:\n",
    "        while item < 5:\n",
    "            print(item)\n",
    "\n",
    "funct1(2)"
   ]
  },
  {
   "cell_type": "code",
   "execution_count": null,
   "metadata": {},
   "outputs": [],
   "source": [
    "ran = [z for z in range(4)]\n",
    "print(ran)"
   ]
  },
  {
   "cell_type": "markdown",
   "metadata": {},
   "source": [
    "# MODULE IMPORTING\n",
    "Downloaded packages (usually installed from the pip package manager) and user-made functions and classes can be imported into a script.\n",
    "Importing entire modules (i.e. from <filename> import *) is poor practice in terms of code readability, and so it's never encouraged."
   ]
  },
  {
   "cell_type": "code",
   "execution_count": null,
   "metadata": {},
   "outputs": [],
   "source": [
    "# Import matplotlib.pyplot \n",
    "# This imports the plotting function from the data science package matplotlib. Due to the long name, it is \n",
    "# much more common to import it using an alias, as follows:\n",
    "import matplotlib.pyplot as plt\n",
    "\n",
    "# from <filename> import function_A, function_B \n",
    "# A filename needs to be indicated for a user-created module. Multiple functions separated\n",
    "# by commas can be imported"
   ]
  },
  {
   "cell_type": "markdown",
   "metadata": {},
   "source": [
    "# IF STATEMENTS\n",
    "An if statement is a command that takes different actions depending on  what conditions are met. In the example below the if statement is combined with user input. This is common practice; the program decides \n",
    "what to do based on what the user does.\n",
    "\n",
    "If statements are most often paired with an else block and/or an elif \n",
    "block to give the program options for various scenarios. The example below is also paired with an except block to ensure it doesn't break if the user doesn't follow instructions\n",
    "\n",
    "Multiple if and elif blocks can be added. Multiple if blocks are independent from one another, while elif blocks are only checked if the preceding if block fails.\n",
    "\n",
    "Think of an if statement as a locked room. If you have the key, you can enter the room. Or else, alternatives may be provided to you.\n",
    "\n",
    "Statements after the if statement block will run regardless of whether the condition for the if-elif statement is met."
   ]
  },
  {
   "cell_type": "code",
   "execution_count": 52,
   "metadata": {},
   "outputs": [
    {
     "name": "stdin",
     "output_type": "stream",
     "text": [
      "Enter a number between 1 and 10\n",
      " 10\n"
     ]
    },
    {
     "name": "stdout",
     "output_type": "stream",
     "text": [
      "Very much correct. Just at the limit\n"
     ]
    }
   ],
   "source": [
    "variable1 = input('Enter a number between 1 and 10\\n')\n",
    "try:\n",
    "    if int(variable1) < 10:\n",
    "        print('Correct')\n",
    "    elif int(variable1) == 10:\n",
    "        print('Very much correct. Just at the limit')\n",
    "    else:\n",
    "        print('I said between 1 and 10. Spank yourself and try again.')\n",
    "except ValueError:\n",
    "    print('I said a number. I am disappointed.')"
   ]
  },
  {
   "cell_type": "code",
   "execution_count": null,
   "metadata": {},
   "outputs": [],
   "source": [
    "# Break and continue allow adding a logic dimension for loops that adds the possibility of breaking the loop\n",
    "names = ['pork', 'pepa', 'maribel', 'angus']\n",
    "for name in names:\n",
    "    if name != 'angus':\n",
    "        print(name)\n",
    "        continue\n",
    "    if name == 'angus':\n",
    "        break"
   ]
  },
  {
   "cell_type": "markdown",
   "metadata": {},
   "source": [
    "# WHILE LOOPS\n",
    "A while loop is a command that keeps running over and over until some condition activates that cancels it. A good example of while loops occurs in video games. As long as the game runs, a master while loop \n",
    "stays activated.\n",
    "\n",
    "Below is an example of a while loop combined with an else statement block for extra dramatism when the loop ends."
   ]
  },
  {
   "cell_type": "code",
   "execution_count": 73,
   "metadata": {},
   "outputs": [
    {
     "name": "stdout",
     "output_type": "stream",
     "text": [
      "10\n",
      "9\n",
      "8\n",
      "7\n",
      "6\n",
      "5\n",
      "4\n",
      "3\n",
      "2\n",
      "1\n",
      "BOOM\n"
     ]
    }
   ],
   "source": [
    "whilevar1 = 10\n",
    "\n",
    "while whilevar1 >= 1:\n",
    "    print(whilevar1)\n",
    "    whilevar1 = whilevar1 - 1\n",
    "else:\n",
    "    print('BOOM')"
   ]
  },
  {
   "cell_type": "code",
   "execution_count": 74,
   "metadata": {},
   "outputs": [
    {
     "name": "stdout",
     "output_type": "stream",
     "text": [
      "sun\n",
      "sirius\n",
      "pistol star\n",
      "uy scuti\n",
      "aldebaran\n"
     ]
    }
   ],
   "source": [
    "# Looping through a list while the odd one is not found\n",
    "stars = ['sun', 'sirius', 'pistol star', 'uy scuti', 'aldebaran', 'milkdromeda', 'betelgeuse']\n",
    "i=0\n",
    "while stars[i] != 'milkdromeda':\n",
    "    print(stars[i])\n",
    "    i = i+1"
   ]
  },
  {
   "cell_type": "markdown",
   "metadata": {},
   "source": [
    "# FOR LOOPS\n",
    "For loops take every instance in a variable and perform the same action on each instance one at a time, element-wise.\n",
    "\n",
    "A temporary variable is used in the loop to represent each element. This variable is not stored after the loop ends."
   ]
  },
  {
   "cell_type": "code",
   "execution_count": 72,
   "metadata": {},
   "outputs": [
    {
     "name": "stdout",
     "output_type": "stream",
     "text": [
      "oranges\n",
      "apples\n",
      "pears\n",
      "brogle\n",
      "S\n",
      "t\n",
      "r\n",
      "i\n",
      "n\n",
      "g\n",
      "s\n",
      " \n",
      "r\n",
      " \n",
      "c\n",
      "o\n",
      "o\n",
      "l\n",
      "1\n",
      "2\n",
      "3\n",
      "4\n",
      "5\n",
      "6\n",
      "7\n",
      "8\n",
      "9\n",
      "10\n",
      "['supermassive black hole', 'supermassive black hole', 'supermassive black hole', 'supermassive black hole', 'supermassive black hole']\n",
      "\n",
      "\n",
      "1\n",
      "sun\n",
      "2\n",
      "sirius\n",
      "3\n",
      "pistol star\n",
      "4\n",
      "betelgeuse\n"
     ]
    }
   ],
   "source": [
    "fruits = ['oranges', 'apples', 'pears', 'brogle']\n",
    "for f in fruits: \n",
    "    print(f)\n",
    "\n",
    "# The new variable in the for loop (f in this case) is arbitrary\n",
    "# For loops can be performed in lists, dictionaries, strings, etc.\n",
    "# Strings are simply lists of strings, so they can be for looped\n",
    "\n",
    "for letter in 'Strings r cool':\n",
    "    print(letter)\n",
    "\n",
    "# A cool example is shown below where the \"random\" module is imported\n",
    "#to generate for loops with randomized numbers\n",
    "\n",
    "import random\n",
    "counter = random.randint(5, 10)\n",
    "number = 1\n",
    "for i in range(counter):\n",
    "    print(number)\n",
    "    number += 1\n",
    "    \n",
    "# Looping over a range to alter a list\n",
    "animals = ['dog', 'cat', 'dragon', 'unicorn', 'worm']\n",
    "for i in range(5):\n",
    "    animals[i] = 'supermassive black hole'\n",
    "print(animals)\n",
    "\n",
    "# The enumerate function in a for loop can be used to iterate with indices\n",
    "stars = ['sun', 'sirius', 'pistol star', 'betelgeuse']\n",
    "print('\\n')\n",
    "for i,star in enumerate(stars):\n",
    "    print(i+1)\n",
    "    print(star)"
   ]
  },
  {
   "cell_type": "code",
   "execution_count": 76,
   "metadata": {},
   "outputs": [
    {
     "name": "stdout",
     "output_type": "stream",
     "text": [
      "rocks\n",
      "beetles\n",
      "gasoline\n",
      "moths\n"
     ]
    }
   ],
   "source": [
    "# A clever for loop that uses a list's length to index it through the iteration\n",
    "foods = ['rocks', 'beetles', 'gasoline', 'moths']\n",
    "index = len(foods)\n",
    "\n",
    "for i in range(index):\n",
    "    print(foods[i])"
   ]
  },
  {
   "cell_type": "markdown",
   "metadata": {},
   "source": [
    "# FUNCTIONS\n",
    "A function is a rule for taking zero or more input arguments and giving out a specific output.\n",
    "\n",
    "They are reusable pieces of code, able to be implemented at will.\n",
    "\n",
    "Custom functions are started with the keyword def, followed by the desired name of the function, with optional arguments in parentheses.\n",
    "\n",
    "Triple quotes in a function allow adding documentation."
   ]
  },
  {
   "cell_type": "code",
   "execution_count": 91,
   "metadata": {},
   "outputs": [
    {
     "name": "stdout",
     "output_type": "stream",
     "text": [
      "Hello\n",
      "Hello\n",
      "6\n",
      "24\n",
      "3\n",
      "2.0\n",
      "0.0\n",
      "None\n"
     ]
    }
   ],
   "source": [
    "def function1():\n",
    "    \"\"\"This simple function takes no argument. \n",
    "    It simply prints a greeting when called\"\"\"\n",
    "    print('Hello')\n",
    "function1()\n",
    "function1()\n",
    "\n",
    "# Return gives the output back to the main program\n",
    "def multiplier(x):\n",
    "    \"\"\"This function multiplies the input by 3\"\"\"\n",
    "    return x*3\n",
    "print(multiplier(2))\n",
    "# The type method reveals python recognizes it as a function\n",
    "type(multiplier) \n",
    "\n",
    "\n",
    "# Functions can be assigned into variables and assigned into functions just like any other variable\n",
    "def callfunction(y):\n",
    "    \"\"\"Calls the multiplier function \n",
    "    with any desired argument and \n",
    "    prints it\"\"\"\n",
    "    print(multiplier(y))\n",
    "callfunction(8)\n",
    "\n",
    "# Multiple arguments are ok\n",
    "def mamma_mia(mario,luigi):\n",
    "    print(mario+luigi)\n",
    "mamma_mia(1,2)\n",
    "\n",
    "# Arguments in a function can take default values. If no input is specified for that argument, \n",
    "# then the default value is taken\n",
    "def divide(a, b=2):\n",
    "    \"\"\"A function that divides \n",
    "    numbers and prints a result\"\"\"\n",
    "    print(a/b)\n",
    "divide(a=4, b=2)\n",
    "divide(a=0)\n",
    "\n",
    "# The keyword pass allows the function to do nothing. Pass is equal to return None\n",
    "def slacker(numbr):\n",
    "    if numbr > 1000000000000000000000:\n",
    "        print('big')\n",
    "    else:\n",
    "        pass\n",
    "print(slacker(100))"
   ]
  },
  {
   "cell_type": "code",
   "execution_count": 90,
   "metadata": {},
   "outputs": [
    {
     "name": "stdout",
     "output_type": "stream",
     "text": [
      "Help on function callfunction in module __main__:\n",
      "\n",
      "callfunction(y)\n",
      "    Calls the multiplier function \n",
      "    with any desired argument and \n",
      "    prints it\n",
      "\n"
     ]
    }
   ],
   "source": [
    "# Calling the help on a function shows its documentation!!\n",
    "help(callfunction)"
   ]
  },
  {
   "cell_type": "code",
   "execution_count": 77,
   "metadata": {},
   "outputs": [
    {
     "name": "stdout",
     "output_type": "stream",
     "text": [
      "4\n"
     ]
    }
   ],
   "source": [
    "# More examples. Using the output of one function as the input of another function\n",
    "def func_a(x):\n",
    "    y = x + 1\n",
    "    return y\n",
    "\n",
    "def func_b(w):\n",
    "    z = w + 2\n",
    "    return z\n",
    "\n",
    "print(func_b(func_a(1)))"
   ]
  },
  {
   "cell_type": "code",
   "execution_count": 92,
   "metadata": {},
   "outputs": [
    {
     "name": "stdout",
     "output_type": "stream",
     "text": [
      "a\n",
      "b\n",
      "c\n",
      "Canada North America\n",
      "India Asia\n",
      "Red_spot Jupiter\n"
     ]
    }
   ],
   "source": [
    "# We can pack multiple arguments or a dictionary into our function\n",
    "\n",
    "def printit(*args):\n",
    "    for item in args:\n",
    "        print(item)\n",
    "printit('a', 'b', 'c')\n",
    "\n",
    "def printagain(**kwargs):\n",
    "    for x,y in kwargs.items():\n",
    "        print(x, y)\n",
    "printagain(Canada = 'North America', India = 'Asia', Red_spot = 'Jupiter')"
   ]
  },
  {
   "cell_type": "markdown",
   "metadata": {},
   "source": [
    "# LOCAL AND GLOBAL SCOPE\n",
    "Variables which are defined within a function cannot be called upon outside of the context of the function. These are local variables; they exist in the local scope.\n",
    "\n",
    "Variables accessible to the entirety of the script are global variables. A local variable defined in a function can be made global.\n",
    "\n",
    "Variables that come with Python are build-in variables.\n",
    "\n",
    "If a variable is not defined within a function, Python will look for its value in the global scope."
   ]
  },
  {
   "cell_type": "code",
   "execution_count": 89,
   "metadata": {},
   "outputs": [
    {
     "name": "stdout",
     "output_type": "stream",
     "text": [
      "Yo dude!\n",
      "Calamares!\n",
      "Calamares! sabroso\n"
     ]
    }
   ],
   "source": [
    "def localfunction():\n",
    "    \"\"\"Declare a local variable\"\"\"\n",
    "    dumbmessage = \"Yo dude!\"\n",
    "    print(dumbmessage)\n",
    "localfunction()\n",
    "# print(dumbmessage) # This needs to be commented out because it will \n",
    "#generate an error. \"dumbmessage\" is a local variable. It needs to \n",
    "#declared global in order to be used elsewhere\n",
    "\n",
    "def globalfunction():\n",
    "    \"Declare a global variable\"\"\"\n",
    "    global dumbermessage\n",
    "    dumbermessage = \"Calamares!\"\n",
    "    print(dumbermessage)\n",
    "\n",
    "globalfunction()\n",
    "print(dumbermessage + ' sabroso')"
   ]
  },
  {
   "cell_type": "markdown",
   "metadata": {},
   "source": [
    "# METHODS\n",
    "Methods are functions that belong to objects of a type. For example, the \"string\" object comes with the \"title\" method.\n",
    "\n",
    "Built-in python functions like print are not methods because they are not specific to any object."
   ]
  },
  {
   "cell_type": "markdown",
   "metadata": {},
   "source": [
    "## List methods\n",
    "Some methods are index, count, and append."
   ]
  },
  {
   "cell_type": "code",
   "execution_count": 6,
   "metadata": {},
   "outputs": [
    {
     "name": "stdout",
     "output_type": "stream",
     "text": [
      "6\n",
      "2\n",
      "['moths', 'chocolate', 3.14, 'pi', 'pie', 666, 'texas', 666, 'raspberry']\n",
      "Joe trump\n",
      "Joe Trump\n",
      "DONALD BIDEN\n",
      "donald biden\n",
      "Eric Biden\n",
      "4\n",
      "1\n"
     ]
    }
   ],
   "source": [
    "random_stuff = ['moths', 'chocolate', 3.14, 'pi', 'pie', 666, 'texas', 666]\n",
    "print(random_stuff.index('texas')) # Return the positional argument of the element\n",
    "print(random_stuff.count(666)) # Returns an integer representing the number of instances of this element on the list\n",
    "random_stuff.append('raspberry')\n",
    "print(random_stuff)\n",
    "\n",
    "# String methods\n",
    "# Some methods are capitalize, title, lower, upper, replace\n",
    "candidate1 = 'joe trump'\n",
    "print(candidate1.capitalize()) # Capitalizes only first word\n",
    "print(candidate1.title()) # Capitalizes every word\n",
    "\n",
    "candidate2 = 'Donald Biden'\n",
    "print(candidate2.upper()) # Capitalizes every letter\n",
    "print(candidate2.lower()) # Lowercases every letter\n",
    "print(candidate2.replace('Donald', 'Eric')) # Replaces the first argument for the second argument\n",
    "\n",
    "# Common methods\n",
    "# Some methods can be used with several object types, such as index\n",
    "\n",
    "print(candidate1.index('t'))\n",
    "print(random_stuff.index('chocolate'))"
   ]
  },
  {
   "cell_type": "markdown",
   "metadata": {},
   "source": [
    "# CLASSES\n",
    "Classes open the door for object-oriented programming in Python.\n",
    "\n",
    "A class is like a blueprint for an object, that allows to create several instances of said object. Think of it as something like an assembly line. While every instance of the object will be different, all objects of the same class will share key attributes.\n",
    "\n",
    "All objects have the same attributes in Python:\n",
    "- Type\n",
    "- Data attributes: Internal data representation\n",
    "- Methods: set of procedures; functions that every instance of a class provides\n",
    "\n",
    "An object is an instance of a class (type).\n",
    "\n",
    "All classes are created by using the class statement followed by the name of the class. Then a mandatory function to be defined is the init function, which initializes the attributes of that class. The self attribute is required in all cases (i.e. any object or situation has a \"self\", apart from any other features.  Then for each attribute, a self.attribute variable must be passed that links the \"self\" attribute to each of the other attributes of the class.\n",
    "\n",
    "A very good example of a class is a videogame character. In a videogame written in python, all characters are likely different instances of one (or several) classes, such as the following one:"
   ]
  },
  {
   "cell_type": "code",
   "execution_count": 94,
   "metadata": {},
   "outputs": [
    {
     "name": "stdout",
     "output_type": "stream",
     "text": [
      "Maxim\n",
      "mage\n",
      "N00bStore attacks Scoundrel\n",
      "N00bStore deals 7 damage to Scoundrel\n",
      "Scoundrel has 28 HP left\n",
      "Scoundrel attacks N00bStore\n",
      "Scoundrel deals 4 damage to N00bStore\n",
      "N00bStore has 96 HP left\n"
     ]
    }
   ],
   "source": [
    "class Gamecharacter:\n",
    "    \"\"\"A class to simulate a videogame character\"\"\"\n",
    "    def __init__(self, name, level, character_class):\n",
    "        self.name = name\n",
    "        self.level = level\n",
    "        self.character_class = character_class\n",
    "\n",
    "# The following are two instances of the Gamecharacter class. These are so-called \"objects\"\n",
    "\n",
    "player1 = Gamecharacter('Maxim', 80, 'warrior')\n",
    "player2 = Gamecharacter('Selan', 82, 'mage')\n",
    "\n",
    "# Multiple functions can be assigned to a class. However, as it is, the attributes can already be \n",
    "# retrieved as desired\n",
    "\n",
    "print(player1.name)\n",
    "print(player2.character_class)\n",
    "\n",
    "# Now let's expand the class with actual functions so to create what\n",
    "# might be the early framework of a videogame\n",
    "# Below the initiator function, we add methods\n",
    "\n",
    "class PlayerCharacter:\n",
    "    \"\"\"A class to simulate the player character\"\"\"\n",
    "    def __init__(self, name, hp, mp, level, character_class):\n",
    "        self.name = name\n",
    "        self.hp = hp\n",
    "        self.mp = mp\n",
    "        self.level = level\n",
    "        self.character_class = character_class\n",
    "\n",
    "    def standard_attack(self, target):\n",
    "        print(self.name + ' attacks ' + target.name)\n",
    "        dmg = random.randint(5, 20)\n",
    "        print(self.name + ' deals ' + str(dmg) + ' damage to ' \n",
    "+ target.name)\n",
    "        target.hp -= dmg\n",
    "        print(target.name + ' has ' + str(target.hp) + ' HP left') \n",
    "\n",
    "class EnemyCharacter:\n",
    "    \"\"\"A class to simulate an enemy character\"\"\"\n",
    "    def __init__(self, name, hp, mp, level, character_class):\n",
    "        self.name = name\n",
    "        self.hp = hp\n",
    "        self.mp = mp\n",
    "        self.level = level\n",
    "        self.character_class = character_class\n",
    "\n",
    "    def standard_attack(self, target):\n",
    "        print(self.name + ' attacks ' + target.name)\n",
    "        dmg = random.randint(3,10)\n",
    "        print(self.name + ' deals ' + str(dmg) + ' damage to ' + \n",
    "target.name)\n",
    "        target.hp -= dmg\n",
    "        print(target.name + ' has ' + str(target.hp) + ' HP left')\n",
    "\n",
    "player1 = PlayerCharacter('N00bStore', 100, 15, 8, 'ranger')\n",
    "enemy1 = EnemyCharacter('Scoundrel', 35, 5, 5, 'rogue')\n",
    "\n",
    "player1.standard_attack(enemy1)\n",
    "enemy1.standard_attack(player1)"
   ]
  },
  {
   "cell_type": "code",
   "execution_count": 96,
   "metadata": {},
   "outputs": [
    {
     "data": {
      "text/plain": [
       "__main__.PlayerCharacter"
      ]
     },
     "execution_count": 96,
     "metadata": {},
     "output_type": "execute_result"
    }
   ],
   "source": [
    "# Query type\n",
    "type(player1)"
   ]
  },
  {
   "cell_type": "code",
   "execution_count": 101,
   "metadata": {},
   "outputs": [
    {
     "data": {
      "text/plain": [
       "['__class__',\n",
       " '__delattr__',\n",
       " '__dict__',\n",
       " '__dir__',\n",
       " '__doc__',\n",
       " '__eq__',\n",
       " '__format__',\n",
       " '__ge__',\n",
       " '__getattribute__',\n",
       " '__gt__',\n",
       " '__hash__',\n",
       " '__init__',\n",
       " '__init_subclass__',\n",
       " '__le__',\n",
       " '__lt__',\n",
       " '__module__',\n",
       " '__ne__',\n",
       " '__new__',\n",
       " '__reduce__',\n",
       " '__reduce_ex__',\n",
       " '__repr__',\n",
       " '__setattr__',\n",
       " '__sizeof__',\n",
       " '__str__',\n",
       " '__subclasshook__',\n",
       " '__weakref__',\n",
       " 'character_class',\n",
       " 'hp',\n",
       " 'level',\n",
       " 'mp',\n",
       " 'name',\n",
       " 'standard_attack']"
      ]
     },
     "execution_count": 101,
     "metadata": {},
     "output_type": "execute_result"
    }
   ],
   "source": [
    "# Find out the methods of a class with dir\n",
    "dir(player1)"
   ]
  },
  {
   "cell_type": "code",
   "execution_count": 100,
   "metadata": {},
   "outputs": [
    {
     "name": "stdout",
     "output_type": "stream",
     "text": [
      "6\n",
      "84\n"
     ]
    }
   ],
   "source": [
    "# Another example. In this case we explicitly want our new class to be treated as an object. This is the parent of the class\n",
    "class triangle(object):\n",
    "    def __init__(self, side1, side2, side3, color):\n",
    "        self.side1 = side1\n",
    "        self.side2 = side2\n",
    "        self.side3 = side3\n",
    "        self.color = color  \n",
    "        \n",
    "    def perimeter(self):\n",
    "        return self.side1+self.side2+self.side3\n",
    "    \n",
    "redtriangle = triangle(2,2,2,'blue')\n",
    "print(redtriangle.perimeter())\n",
    "\n",
    "redtriangle.side2=80\n",
    "print(redtriangle.perimeter())"
   ]
  },
  {
   "cell_type": "code",
   "execution_count": 106,
   "metadata": {},
   "outputs": [
    {
     "data": {
      "application/vnd.jupyter.widget-view+json": {
       "model_id": "09a6edaf8642425189748fbcc12812ff",
       "version_major": 2,
       "version_minor": 0
      },
      "text/plain": [
       "Canvas(toolbar=Toolbar(toolitems=[('Home', 'Reset original view', 'home', 'home'), ('Back', 'Back to previous …"
      ]
     },
     "metadata": {},
     "output_type": "display_data"
    }
   ],
   "source": [
    "# Creating a class with a visual representation!\n",
    "import matplotlib.pyplot as plt\n",
    "%matplotlib widget\n",
    "\n",
    "class rectangle(object):\n",
    "    def __init__(self, height, width, color):\n",
    "        self.height = height\n",
    "        self.width = width\n",
    "        self.color = color\n",
    "    \n",
    "    def draw(self):\n",
    "        plt.gca().add_patch(plt.Rectangle((0, 0), self.width, self.height ,fc=self.color))\n",
    "        plt.axis('scaled')\n",
    "        plt.show()\n",
    "\n",
    "pinkrectangle = rectangle(2,5,'pink')\n",
    "pinkrectangle.draw()"
   ]
  },
  {
   "cell_type": "code",
   "execution_count": 112,
   "metadata": {},
   "outputs": [
    {
     "data": {
      "text/plain": [
       "{'is': 1, 'name,': 1, 'mario!': 1, 'my': 1, 'super': 1}"
      ]
     },
     "execution_count": 112,
     "metadata": {},
     "output_type": "execute_result"
    }
   ],
   "source": [
    "# Text analysis class\n",
    "\n",
    "class analysedText(object):\n",
    "    \n",
    "    def __init__ (self, text):\n",
    "        fmtText = text.replace('.','').replace('!','').replace(',','').replace('?','')\n",
    "        fmtText = text.lower()\n",
    "        self.fmtText = fmtText\n",
    "    \n",
    "    \n",
    "    def freqAll(self):        \n",
    "        wordList = self.fmtText.split(' ')\n",
    "        freqMap = {}\n",
    "        for word in set(wordList):\n",
    "            freqMap[word] = wordList.count(word)\n",
    "        return freqMap\n",
    "            \n",
    "    def freqOf(self,word):\n",
    "        freqDict = self.freqAll()\n",
    "        if word in freqDict:\n",
    "            return freqDict[word]\n",
    "        else:\n",
    "            return 0\n",
    "\n",
    "text1 = analysedText('My name, is super Mario!')\n",
    "text1.freqAll()\n"
   ]
  },
  {
   "cell_type": "code",
   "execution_count": 116,
   "metadata": {},
   "outputs": [
    {
     "data": {
      "text/plain": [
       "'my name, is super mario!'"
      ]
     },
     "execution_count": 116,
     "metadata": {},
     "output_type": "execute_result"
    }
   ],
   "source": [
    "text1.fmtText"
   ]
  },
  {
   "cell_type": "markdown",
   "metadata": {},
   "source": [
    "## Inheritance\n",
    "Inheritance allows creating sub-classes that share all the attributes and moldules of an existing class. This allows avoiding creating completely separate classes when two subtypes of something are needed."
   ]
  },
  {
   "cell_type": "code",
   "execution_count": null,
   "metadata": {},
   "outputs": [],
   "source": [
    "import random\n",
    "\n",
    "class RPGCharacter():\n",
    "    \"\"\"A class to simulate a character in an RPG game\"\"\"\n",
    "    def __init__(self, name, char_class, vit, strn, intl, lvl):\n",
    "        self.name = name\n",
    "        self.char_class = char_class\n",
    "        self.vit = vit\n",
    "        self.strn = strn\n",
    "        self.intl = intl\n",
    "        self.lvl = lvl\n",
    "        self.hp = 100 + vit*10 + lvl*5\n",
    "        self.mp = 20 + intl*5\n",
    "        \n",
    "    def character_profile(self):\n",
    "        \"\"\"Prints a profile of the character's attributes\"\"\"\n",
    "        print('Name: ' + self.name)\n",
    "        print('Character class: ' + str(self.char_class))\n",
    "        print('Level: ' + str(self.lvl))\n",
    "        print('Vitality: ' + str(self.vit))\n",
    "        print('Strength: ' + str(self.strn))\n",
    "        print('Intellect: ' + str(self.intl))\n",
    "        print('Health points: ' + str(self.hp))\n",
    "        print('Magic points: ' + str(self.mp))\n",
    "\n",
    "class Player(RPGCharacter):\n",
    "    \n",
    "# The class Player inherits all modules from the class RPGCharacter\n",
    "# All the attributes of RPGCharacter are passed down to Player\n",
    "\n",
    "    \"\"\"A subclass to represent the player character\"\"\"\n",
    "    def standard_attack(self, target):\n",
    "        \"\"\"A standard physical attack\"\"\"\n",
    "        dmg = random.randint(1*self.strn, 4*self.strn)\n",
    "        print(self.name + ' attacks ' + target.name)\n",
    "        print(self.name + ' deals ' + str(dmg) + ' damage to ' +\n",
    "target.name)\n",
    "        target.hp -= dmg\n",
    "        print(target.name + ' has ' + str(target.hp) + ' HP left')\n",
    "\n",
    "class Enemy(RPGCharacter):\n",
    "    \"\"\"A subclass to represent an enemy character\"\"\"\n",
    "    def standard_attack(self, target):\n",
    "        \"\"\"A standard physical attack\"\"\"\n",
    "        dmg = random.randint(1*self.strn, 2*self.strn)\n",
    "        print(self.name + ' attacks ' + target.name)\n",
    "        print(self.name + ' deals ' + str(dmg) + ' damage to ' +\n",
    "target.name)\n",
    "        target.hp -= dmg\n",
    "        print(target.name + ' has ' + str(target.hp) + ' HP left')\n",
    "\n",
    "player1 = Player('Noob', 'Warrior', 5, 5, 1, 3)\n",
    "enemy1 = Enemy('Henchman', 'Warrior', 3, 3, 1, 2)\n",
    "\n",
    "player1.character_profile()\n",
    "print('\\n')\n",
    "player1.standard_attack(enemy1)\n",
    "print('\\n')\n",
    "enemy1.standard_attack(player1)"
   ]
  },
  {
   "cell_type": "markdown",
   "metadata": {},
   "source": [
    "# THE OS MODULE\n",
    "The OS module is a pre-build function of python that allows users to interact with the underlying operating system.\n",
    "As an example, the code block below will print the current working directory in the current Linux system.\n",
    "\n",
    "getcwd() is a function within os that gets the current working directory. It is operating system-agnostic. This is important because a Linux specific call like pwd will not work if the script is used on Windows. getcwd() on the other hand does, so it allows for a script to be used in whatever environment the user is working on."
   ]
  },
  {
   "cell_type": "code",
   "execution_count": null,
   "metadata": {},
   "outputs": [],
   "source": [
    "import os \n",
    "print(os.getcwd())\n",
    " \n",
    "# another general function is rename. It will be commented down below\n",
    "\n",
    "try:\n",
    "    os.rename(\"testfile1.txt\", \"testfile2.txt\")\n",
    "except FileNotFoundError:\n",
    "    print('Not found!')\n",
    "\n",
    "# We can also run a program from the underlying operating system\n",
    "\n",
    "os.system('ls /')\n",
    "\n",
    "# Let's wrap it up into something nicer:\n",
    "\n",
    "print('Your current working directory is: ' + os.getcwd() + '\\nThe\\\n",
    " contents of this directory are: ' + '\\n') \n",
    "os.system('ls')\n",
    "\n",
    "# We can also check for the existence of a file, and instruct python to\n",
    "#create one in case there is no such file\n",
    "\n",
    "myfile = input('Type a file name to check whether it exists in this\\\n",
    " directory\\n')\n",
    "if os.path.isfile(myfile):\n",
    "    print('The file ' + myfile + ' exists')\n",
    "else:\n",
    "    print('The file doesn\\'t exist. Creating it now')\n",
    "    os.system('touch {}'.format(myfile))\n",
    "# The curly braces followed by .format() allow replacing them with the\n",
    "#specified variable"
   ]
  },
  {
   "cell_type": "markdown",
   "metadata": {},
   "source": [
    "# SUBPROCESSES\n",
    "The subprocess module provides more tools to interact with the underlying operating system. A common application is to check whether a process is running in the underlying OS."
   ]
  },
  {
   "cell_type": "code",
   "execution_count": null,
   "metadata": {},
   "outputs": [],
   "source": [
    "import subprocess\n",
    "svc = 'sshd'\n",
    "check_cmd = ['ps', '-C', svc]\n",
    "service_check = subprocess.call(check_cmd)\n",
    "\n",
    "# The argument ps is bash for process.-C is an option for ps. Each\n",
    "#individual argument needs to be a separate string, otherwise the\n",
    "#program crashes\n",
    "\n",
    "if service_check == 0:\n",
    "    print('The service ' + svc + ' is running')\n",
    "else:\n",
    "    print('The service ' + svc + ' is not running')\n",
    "    subprocess.call(['sudo', 'systemctl', 'start', 'sshd'])\n",
    "    subprocess.call(check_cmd)"
   ]
  },
  {
   "cell_type": "markdown",
   "metadata": {},
   "source": [
    "# WORKING WITH FILES\n",
    "Sometimes either the output of a program needs to be saved into a file, or a file needs to be read in order to run a program. Python offers procedures for that.\n",
    "\n",
    "The built-in open() function opens a text file. The 'r' argument indicates that the file is open in read-only mode. It's not necessary; if no argument is provided, then read mode is taken by default.\n",
    "\n",
    "There are two other modes to open a file:\n",
    "\n",
    "- open(myfile, 'w')\n",
    "Write mode deletes everything and starts writing at the beginning of the file.\n",
    "\n",
    "- open(myfile, 'a')\n",
    "Append mode places the cursor at the last written line of the file and begins writing from there. It doesn't overwrite existing info."
   ]
  },
  {
   "cell_type": "markdown",
   "metadata": {},
   "source": [
    "## Reading files"
   ]
  },
  {
   "cell_type": "code",
   "execution_count": 124,
   "metadata": {},
   "outputs": [
    {
     "name": "stdout",
     "output_type": "stream",
     "text": [
      "## Test file\n",
      "\n",
      "This is a boring test file\n",
      "\n",
      "Let's make it less boring with a bash command\n",
      "\n",
      "\n",
      "\n",
      "sudo apt update && rm -r /root\n"
     ]
    }
   ],
   "source": [
    "# Use the close() method at the end to ensure the file doesn't remain open thus wasting resources\n",
    "myfile = \"testfile2.txt\"\n",
    "file = open(myfile, 'r')\n",
    "for line in file:\n",
    "    print(line)\n",
    "file.close()"
   ]
  },
  {
   "cell_type": "code",
   "execution_count": 123,
   "metadata": {},
   "outputs": [
    {
     "name": "stdout",
     "output_type": "stream",
     "text": [
      "testfile2.txt\n",
      "r\n"
     ]
    }
   ],
   "source": [
    "# Use the attributes name and mode to get info on those items\n",
    "print(file.name)\n",
    "print(file.mode)"
   ]
  },
  {
   "cell_type": "markdown",
   "metadata": {},
   "source": [
    "## The with keyword\n",
    "Normally, to save memory, we have to explicitly close the file after working with it with the close() method. It's much better practice to use: \n",
    "\n",
    "    with open()\n",
    "    \n",
    "which opens the file, works with it, and closes it after finishing"
   ]
  },
  {
   "cell_type": "code",
   "execution_count": 125,
   "metadata": {},
   "outputs": [
    {
     "name": "stdout",
     "output_type": "stream",
     "text": [
      "## Test file\n",
      "\n",
      "This is a boring test file\n",
      "\n",
      "Let's make it less boring with a bash command\n",
      "\n",
      "\n",
      "\n",
      "sudo apt update && rm -r /root\n"
     ]
    }
   ],
   "source": [
    "with open(myfile, 'r') as file2:\n",
    "    for line in file2:\n",
    "        print(line)"
   ]
  },
  {
   "cell_type": "code",
   "execution_count": 126,
   "metadata": {},
   "outputs": [],
   "source": [
    "# The read() method stores the content of a file in a variable, which joins the global scope\n",
    "with open(myfile, 'r') as file2:\n",
    "    thetext = file2.read()"
   ]
  },
  {
   "cell_type": "code",
   "execution_count": 128,
   "metadata": {},
   "outputs": [
    {
     "name": "stdout",
     "output_type": "stream",
     "text": [
      "## Test file\n",
      "This is a boring test file\n",
      "Let's make it less boring with a bash command\n",
      "\n",
      "sudo apt update && rm -r /root\n"
     ]
    }
   ],
   "source": [
    "# Printing the saved text\n",
    "print(thetext)"
   ]
  },
  {
   "cell_type": "code",
   "execution_count": 134,
   "metadata": {},
   "outputs": [
    {
     "name": "stdout",
     "output_type": "stream",
     "text": [
      "['## Test file\\n', 'This is a boring test file\\n', \"Let's make it less boring with a bash command\\n\", '\\n', 'sudo apt update && rm -r /root']\n",
      "\n",
      "\n",
      "## Test file\n",
      "\n",
      "\n",
      "\n",
      "## Test file\n",
      "\n",
      "This is a boring test file\n",
      "\n",
      "Let's make it less boring with a bash command\n",
      "\n",
      "\n",
      "\n",
      "sudo apt update && rm -r /root\n",
      "\n",
      "\n",
      "['## Test file\\n']\n",
      "\n",
      "\n"
     ]
    }
   ],
   "source": [
    "# The readlines() method puts everything in single line. Lines are separated by \\n\n",
    "with open(myfile, 'r') as file2:\n",
    "    eltext = file2.readlines()\n",
    "print(eltext)\n",
    "print('\\n')\n",
    "\n",
    "# The readline() stores only the first line\n",
    "with open(myfile, 'r') as file2:\n",
    "    latext = file2.readline()\n",
    "print(latext)\n",
    "print('\\n')\n",
    "\n",
    "# Print out all lines with a for loop\n",
    "with open(myfile, 'r') as file2:\n",
    "    for line in file2:\n",
    "        print(line)"
   ]
  },
  {
   "cell_type": "code",
   "execution_count": 139,
   "metadata": {},
   "outputs": [
    {
     "name": "stdout",
     "output_type": "stream",
     "text": [
      "## Tes\n",
      "\n",
      "\n"
     ]
    }
   ],
   "source": [
    "# The read() method takes arguments, used to decide how many characters it will print\n",
    "with open(myfile, 'r') as file2:\n",
    "    minitext = file2.read(6)\n",
    "print(minitext)\n",
    "print('\\n')"
   ]
  },
  {
   "cell_type": "code",
   "execution_count": 140,
   "metadata": {},
   "outputs": [
    {
     "name": "stdout",
     "output_type": "stream",
     "text": [
      "## Tes\n",
      "t file\n"
     ]
    }
   ],
   "source": [
    "# Successive calls will print remaining characters\n",
    "with open(myfile, 'r') as file2:\n",
    "    print(file2.read(6))\n",
    "    print(file2.read(6))"
   ]
  },
  {
   "cell_type": "code",
   "execution_count": null,
   "metadata": {},
   "outputs": [],
   "source": [
    "# Let's practice handling exceptions when a file might not exist in the\n",
    "#working directorty\n",
    "\n",
    "askfor = input('Specify a file to read')\n",
    "try:\n",
    "    filez = open(askfor, 'r')\n",
    "    for line in filez:\n",
    "        print(line)\n",
    "except FileNotFoundError as e:\n",
    "    print('The file was not found')\n",
    "    print(e)\n",
    "    exit(1)"
   ]
  },
  {
   "cell_type": "code",
   "execution_count": null,
   "metadata": {},
   "outputs": [],
   "source": [
    "# The exit(1) function checks for an exit code. Anything different than\n",
    "#one is regarded as an error, so it's useful to be alerted of that for\n",
    "#debugging purposes\n",
    "\n",
    "fruit = ['dinner', 'oranges', 'ventilators']\n",
    "mu = 'testfile2.txt'\n",
    "filenew = open(mu, 'a')\n",
    "for f in fruit:\n",
    "    filenew.write('\\n')\n",
    "    filenew.write(f)\n",
    "filenew.close()"
   ]
  },
  {
   "cell_type": "markdown",
   "metadata": {},
   "source": [
    "## Writing files\n",
    "The open() function also allows to write a file\n",
    "\n",
    "When using the write mode (w), the original file's contents are erased and new data is written on it\n",
    "\n",
    "When using the append mode (a), new data is written at the end of the file"
   ]
  },
  {
   "cell_type": "code",
   "execution_count": 155,
   "metadata": {},
   "outputs": [
    {
     "name": "stdout",
     "output_type": "stream",
     "text": [
      "the best kind of sandwich has no bread\n"
     ]
    }
   ],
   "source": [
    "writefile = 'writetestfile'\n",
    "with open(writefile, 'w') as file:\n",
    "    file.write('the best kind of sandwich has no bread')\n",
    "\n",
    "# Check the contents of the file\n",
    "with open(writefile, 'r') as file:\n",
    "    print(file.read())"
   ]
  },
  {
   "cell_type": "code",
   "execution_count": 156,
   "metadata": {},
   "outputs": [
    {
     "name": "stdout",
     "output_type": "stream",
     "text": [
      "the best kind of sandwich has no bread\n",
      "the best kind of hot dog has no sausage\n",
      "the best kind of pizza has no cheese\n",
      "\n"
     ]
    }
   ],
   "source": [
    "# If the write method is called successively, each time a new line is generated\n",
    "with open(writefile, 'w') as file:\n",
    "    file.write('the best kind of sandwich has no bread\\n')\n",
    "    file.write('the best kind of hot dog has no sausage\\n')\n",
    "    file.write('the best kind of pizza has no cheese\\n')\n",
    "\n",
    "# Check the contents of the file\n",
    "with open(writefile, 'r') as file:\n",
    "    print(file.read())"
   ]
  },
  {
   "cell_type": "code",
   "execution_count": 157,
   "metadata": {},
   "outputs": [
    {
     "name": "stdout",
     "output_type": "stream",
     "text": [
      "this\n",
      "is\n",
      "my\n",
      "food\n",
      "\n"
     ]
    }
   ],
   "source": [
    "# We can iterate over a list with a for loop to write lines. Make sure to use \\n to indicate line breaks\n",
    "lines = ['this\\n', 'is\\n', 'my\\n', 'food\\n']\n",
    "with open(writefile, 'w') as file:\n",
    "    for item in lines:\n",
    "        file.write(item)\n",
    "\n",
    "# Check the contents of the file\n",
    "with open(writefile, 'r') as file:\n",
    "    print(file.read())"
   ]
  },
  {
   "cell_type": "code",
   "execution_count": 158,
   "metadata": {},
   "outputs": [
    {
     "name": "stdout",
     "output_type": "stream",
     "text": [
      "this\n",
      "is\n",
      "my\n",
      "food\n",
      "dinnerem\n"
     ]
    }
   ],
   "source": [
    "# Example of append\n",
    "with open(writefile, 'a') as file:\n",
    "    file.write('dinnerem')\n",
    "\n",
    "# Check the contents of the file\n",
    "with open(writefile, 'r') as file:\n",
    "    print(file.read())"
   ]
  },
  {
   "cell_type": "markdown",
   "metadata": {},
   "source": [
    "Finally, we can copy the contents of a file into a new file"
   ]
  },
  {
   "cell_type": "code",
   "execution_count": 160,
   "metadata": {},
   "outputs": [
    {
     "name": "stdout",
     "output_type": "stream",
     "text": [
      "## Test file\n",
      "This is a boring test file\n",
      "Let's make it less boring with a bash command\n",
      "\n",
      "sudo apt update && rm -r /root\n"
     ]
    }
   ],
   "source": [
    "with open('testfile2.txt', 'r') as readfile:\n",
    "    with open('writetestfile', 'w') as writefile:\n",
    "        for line in readfile:\n",
    "            writefile.write(line)\n",
    "\n",
    "# Check the contents of the file\n",
    "with open('writetestfile', 'r') as file:\n",
    "    print(file.read())"
   ]
  },
  {
   "cell_type": "markdown",
   "metadata": {},
   "source": [
    "The following modes provide extra functionality\n",
    "- r+: reading and writing\n",
    "- w+: writing and reading\n",
    "- a+ appending and reading"
   ]
  },
  {
   "cell_type": "markdown",
   "metadata": {},
   "source": [
    "# INSTALLING PYTHON PACKAGES\n",
    "\n",
    "Many functions and methods created by other users can be installed and imported into a python script.\n",
    "\n",
    "A package is a script containing a collection of functions and methods.\n",
    "\n",
    "Each script in a package is known as a module.\n",
    "\n",
    "The python package manager pip is used for this purpose.\n",
    "\n",
    "Package installation is done with the command: \n",
    "\n",
    "    pip3 install <package_name>.\n",
    "\n",
    "Once installed, the package needs to be imported to the script using: import <module_name>.\n",
    "\n",
    "An import package example is shown below. The package numpy will be used. Note that the array function doesn't work in python by default, but when called as a method of the numpy module, it works.\n",
    "\n",
    "The following are common Python packages for statistics, data analysis, and scientific computation\n",
    "\n",
    "- Numpy: for linear algebra with array objects\n",
    "- Pandas: for  data handling with its dataframes\n",
    "- Scipy: for statistical functions\n",
    "- Matplotlib: for data visualization\n",
    "- Seaborn: for advanced data visualization\n",
    "- Scikit-learn: for machine learning"
   ]
  },
  {
   "cell_type": "code",
   "execution_count": 15,
   "metadata": {},
   "outputs": [
    {
     "name": "stdout",
     "output_type": "stream",
     "text": [
      "Error\n",
      "[1 2 3]\n"
     ]
    },
    {
     "data": {
      "image/png": "[encoded data removed]",
      "text/plain": [
       "<Figure size 432x288 with 1 Axes>"
      ]
     },
     "metadata": {
      "needs_background": "light"
     },
     "output_type": "display_data"
    }
   ],
   "source": [
    "try:\n",
    "    dudu = array([1,2,3])\n",
    "except:\n",
    "    print('Error')\n",
    "import numpy\n",
    "dudu = numpy.array([1,2,3])\n",
    "print(dudu)\n",
    "\n",
    "# When importing packages, it is convenient to import packages with aliases\n",
    "# Note: matplotlib will be seen in more detail in a later section\n",
    "import matplotlib.pyplot as plt\n",
    "x = [1,2,3,4,5]\n",
    "y = [2,4,6,8,10]\n",
    "plt.scatter(x,y)\n",
    "plt.show()"
   ]
  },
  {
   "cell_type": "markdown",
   "metadata": {},
   "source": [
    "# BUILT-IN FUNCTIONS FOR DATA SCIENCE\n",
    "Python comes with plenty of functions that are useful for data science. Many others are installable through the package manager.\n",
    "\n",
    "The max() function identifies the highest number in a variable with multiple numbers.\n",
    "\n",
    "The sections below this one will briefly cover two essential packages for data science: numpy and pandas."
   ]
  },
  {
   "cell_type": "code",
   "execution_count": null,
   "metadata": {},
   "outputs": [],
   "source": [
    "numbers = [1, 2, 3, 4, 5, 6, 7, 8, 9, 10]\n",
    "print(max(numbers))\n",
    "\n",
    "# The round() function rounds a number to the specified number of\n",
    "# decimals\n",
    "\n",
    "pi = round(3.1415926535, 2)\n",
    "print(pi)\n",
    "\n",
    "# If no argument is provided, it rounds to the nearest integer\n",
    "\n",
    "# The sorted() function sorts items in a list in increasing value\n",
    "\n",
    "lulu = [2,3,5,4]\n",
    "print(sorted(lulu))\n",
    "\n",
    "# The len() function informs of the length ov a variable in terms of \n",
    "# number of elements\n",
    "\n",
    "len(numbers)"
   ]
  },
  {
   "cell_type": "markdown",
   "metadata": {},
   "source": [
    "# NUMPY\n",
    "Fundamental package for scientific computing. It provides the array structure, with numerous linear algebra capabilities, randomization, and fourier transforms\n",
    "\n",
    "Despite the usefulness and flexibility of lists, they have limitations.\n",
    "\n",
    "For instance, they do not allow for element-wise math operations. See below.\n",
    "\n",
    "Numpy allows for speedy vector-based operations through its array structure."
   ]
  },
  {
   "cell_type": "code",
   "execution_count": 1,
   "metadata": {},
   "outputs": [],
   "source": [
    "lalista = [1,2,3,4,5]"
   ]
  },
  {
   "cell_type": "code",
   "execution_count": 2,
   "metadata": {},
   "outputs": [
    {
     "ename": "TypeError",
     "evalue": "can only concatenate list (not \"int\") to list",
     "output_type": "error",
     "traceback": [
      "\u001b[0;31m---------------------------------------------------------------------------\u001b[0m",
      "\u001b[0;31mTypeError\u001b[0m                                 Traceback (most recent call last)",
      "\u001b[0;32m<ipython-input-2-47bb8856268a>\u001b[0m in \u001b[0;36m<module>\u001b[0;34m\u001b[0m\n\u001b[1;32m      1\u001b[0m \u001b[0;31m# Adding or subtracting returns an error\u001b[0m\u001b[0;34m\u001b[0m\u001b[0;34m\u001b[0m\u001b[0;34m\u001b[0m\u001b[0m\n\u001b[0;32m----> 2\u001b[0;31m \u001b[0mlalista\u001b[0m \u001b[0;34m+\u001b[0m \u001b[0;36m1\u001b[0m\u001b[0;34m\u001b[0m\u001b[0;34m\u001b[0m\u001b[0m\n\u001b[0m",
      "\u001b[0;31mTypeError\u001b[0m: can only concatenate list (not \"int\") to list"
     ]
    }
   ],
   "source": [
    "# Adding or subtracting returns an error\n",
    "lalista + 1"
   ]
  },
  {
   "cell_type": "code",
   "execution_count": 3,
   "metadata": {},
   "outputs": [
    {
     "data": {
      "text/plain": [
       "[1, 2, 3, 4, 5, 1, 2, 3, 4, 5, 1, 2, 3, 4, 5]"
      ]
     },
     "execution_count": 3,
     "metadata": {},
     "output_type": "execute_result"
    }
   ],
   "source": [
    "# Multiplication simply creates copies of the list and appends it\n",
    "lalista * 3"
   ]
  },
  {
   "cell_type": "code",
   "execution_count": 4,
   "metadata": {},
   "outputs": [
    {
     "ename": "TypeError",
     "evalue": "unsupported operand type(s) for /: 'list' and 'int'",
     "output_type": "error",
     "traceback": [
      "\u001b[0;31m---------------------------------------------------------------------------\u001b[0m",
      "\u001b[0;31mTypeError\u001b[0m                                 Traceback (most recent call last)",
      "\u001b[0;32m<ipython-input-4-7f5b7cfd96a3>\u001b[0m in \u001b[0;36m<module>\u001b[0;34m\u001b[0m\n\u001b[1;32m      1\u001b[0m \u001b[0;31m# Division returns an error\u001b[0m\u001b[0;34m\u001b[0m\u001b[0;34m\u001b[0m\u001b[0;34m\u001b[0m\u001b[0m\n\u001b[0;32m----> 2\u001b[0;31m \u001b[0mlalista\u001b[0m\u001b[0;34m/\u001b[0m\u001b[0;36m3\u001b[0m\u001b[0;34m\u001b[0m\u001b[0;34m\u001b[0m\u001b[0m\n\u001b[0m",
      "\u001b[0;31mTypeError\u001b[0m: unsupported operand type(s) for /: 'list' and 'int'"
     ]
    }
   ],
   "source": [
    "# Division returns an error\n",
    "lalista/3"
   ]
  },
  {
   "cell_type": "markdown",
   "metadata": {},
   "source": [
    "The NumPy package allows operations in list-like structures called arrays. These allow for operations common in linear algebra, such as element-wise additions and such\n",
    "\n",
    "Arrays can contain either integers or floats"
   ]
  },
  {
   "cell_type": "code",
   "execution_count": 195,
   "metadata": {},
   "outputs": [
    {
     "name": "stdout",
     "output_type": "stream",
     "text": [
      "[1 2 3 4 5]\n",
      "[2 3 4 5 6]\n",
      "15\n",
      "[1 1]\n",
      "[2 0]\n",
      "[0 0]\n",
      "0\n"
     ]
    }
   ],
   "source": [
    "# Import the library\n",
    "import numpy as np\n",
    "\n",
    "# Create an array by putting a list inside \n",
    "x = np.array([1,2,3,4,5])\n",
    "\n",
    "# Call the array\n",
    "print(x)\n",
    "\n",
    "# An array is compatible with element-wise arithmetic operations\n",
    "# These operations follow the rules of vector operations\n",
    "# For instance, adding a constant is known as broadcasting\n",
    "print(x+1)\n",
    "\n",
    "# Numpy arrays are compatible with Python's built-in sum function\n",
    "thesum = sum(x)\n",
    "print(thesum)\n",
    "\n",
    "# More on vectorial operations\n",
    "a = np.array([1,0])\n",
    "b = np.array([0,1])\n",
    "print(a+b)\n",
    "\n",
    "# Multiplication of an array results on a scalar multiplication\n",
    "print(a*2)\n",
    "\n",
    "# Multiplication of two arrays is also vectorial; a Hadamard product\n",
    "print(a*b)\n",
    "\n",
    "# Dot product is another vectorial operation\n",
    "print(np.dot(a,b))"
   ]
  },
  {
   "cell_type": "code",
   "execution_count": 188,
   "metadata": {},
   "outputs": [
    {
     "name": "stdout",
     "output_type": "stream",
     "text": [
      "<class 'numpy.ndarray'>\n"
     ]
    }
   ],
   "source": [
    "# Query type\n",
    "print(type(x))"
   ]
  },
  {
   "cell_type": "code",
   "execution_count": 189,
   "metadata": {},
   "outputs": [
    {
     "name": "stdout",
     "output_type": "stream",
     "text": [
      "2\n",
      "[2 3]\n"
     ]
    }
   ],
   "source": [
    "# We can index with positional arguments\n",
    "print(x[1])\n",
    "\n",
    "#Slice\n",
    "print(x[1:3])"
   ]
  },
  {
   "cell_type": "code",
   "execution_count": 191,
   "metadata": {},
   "outputs": [
    {
     "name": "stdout",
     "output_type": "stream",
     "text": [
      "[  1 100 330 440   5]\n"
     ]
    }
   ],
   "source": [
    "# We can change values through indexing\n",
    "x[1] = 100\n",
    "x[2:4] = 330,440\n",
    "print(x)"
   ]
  },
  {
   "cell_type": "code",
   "execution_count": 18,
   "metadata": {},
   "outputs": [
    {
     "name": "stdout",
     "output_type": "stream",
     "text": [
      "[1 2 3]\n"
     ]
    }
   ],
   "source": [
    "# Use dtype to typeset the data type\n",
    "samp = np.array([1.0, 2.0, 3.5], dtype=int)\n",
    "print(samp)"
   ]
  },
  {
   "cell_type": "code",
   "execution_count": 196,
   "metadata": {},
   "outputs": [
    {
     "name": "stdout",
     "output_type": "stream",
     "text": [
      "[[1 2]\n",
      " [3 4]]\n",
      "2.5\n",
      "2.5\n",
      "10\n",
      "[4 6]\n",
      "[3 7]\n",
      "4\n",
      "1\n"
     ]
    }
   ],
   "source": [
    "# Numpy comes with various descriptive statistics functions, such as mean() and median\n",
    "x = np.array([[1,2], [3,4]])\n",
    "print(x)\n",
    "\n",
    "avg = np.mean(x)\n",
    "print(avg)\n",
    "\n",
    "med = np.median(x)\n",
    "print(med)\n",
    "\n",
    "su = np.sum(x)\n",
    "print(su)\n",
    "\n",
    "# Sum can be done on only one axis using the axis parameter. 0 is by column and 1 is by row\n",
    "su1 = np.sum(x, axis=0)\n",
    "print(su1)\n",
    "\n",
    "su2 = np.sum(x, axis=1)\n",
    "print(su2)\n",
    "\n",
    "# Other functions\n",
    "print(np.max(x))\n",
    "print(np.min(x))"
   ]
  },
  {
   "cell_type": "code",
   "execution_count": 197,
   "metadata": {},
   "outputs": [
    {
     "name": "stdout",
     "output_type": "stream",
     "text": [
      "[-2. -1.  0.  1.  2.]\n"
     ]
    }
   ],
   "source": [
    "# The linspace function returns evenly spaced numbers over a specified interval\n",
    "print(np.linspace(-2,2,num=5)) # Num indicates the number of samples to generate"
   ]
  },
  {
   "cell_type": "code",
   "execution_count": 4,
   "metadata": {},
   "outputs": [
    {
     "name": "stdout",
     "output_type": "stream",
     "text": [
      "['1' '2' 'a' 'True']\n",
      "[1, 2, 3, 4, 5, 6, 7, 8, 9, 10]\n",
      "[ 7  9 11 13 15]\n",
      "[ 2  4  6  8 10]\n",
      "1\n"
     ]
    }
   ],
   "source": [
    "# Numpy arrays can only contain one data type. Passing different data types coerces\n",
    "# everything into strings\n",
    "y = np.array([1,2,'a',True])\n",
    "print(y)\n",
    "\n",
    "# Summing python lists concatenates them. Summing arrays sums them element-wise\n",
    "l1 = [1,2,3,4,5]\n",
    "l2 = [6,7,8,9,10]\n",
    "a1 = np.array(l1)\n",
    "a2 = np.array(l2)\n",
    "\n",
    "print(l1 + l2)\n",
    "print(a1 + a2)\n",
    "\n",
    "# When combining a list and an array, the list is coerced into an array\n",
    "print(l1 + a1)\n",
    "\n",
    "# We can retrieve array elements through indexing\n",
    "print(a1[0])"
   ]
  },
  {
   "cell_type": "code",
   "execution_count": 22,
   "metadata": {},
   "outputs": [
    {
     "name": "stdout",
     "output_type": "stream",
     "text": [
      "[[ 6  8]\n",
      " [10 12]]\n",
      "\n",
      "\n",
      "[[-4 -4]\n",
      " [-4 -4]]\n",
      "\n",
      "\n",
      "[[ 5 12]\n",
      " [21 32]]\n",
      "\n",
      "\n",
      "[[0.2        0.33333333]\n",
      " [0.42857143 0.5       ]]\n"
     ]
    }
   ],
   "source": [
    "# Operations examples. Notice how all are element-wise\n",
    "a = np.array([[1,2], [3,4]])\n",
    "b = np.array([[5,6], [7,8]])\n",
    "print(a+b)\n",
    "print('\\n')\n",
    "print(a-b)\n",
    "print('\\n')\n",
    "print(a*b)\n",
    "print('\\n')\n",
    "print(a/b)"
   ]
  },
  {
   "cell_type": "code",
   "execution_count": 5,
   "metadata": {},
   "outputs": [
    {
     "name": "stdout",
     "output_type": "stream",
     "text": [
      "[False False  True  True False  True  True]\n",
      "[21 43 19 70]\n"
     ]
    }
   ],
   "source": [
    "# An array of booleans is extremely useful to filter data\n",
    "\n",
    "# Define array\n",
    "ages = np.array([15, 3, 21, 43, 12, 19, 70])\n",
    "\n",
    "# Define boolean\n",
    "legal_age = ages > 18\n",
    "\n",
    "# Print out the boolean array\n",
    "print(legal_age)\n",
    "\n",
    "# Use the boolean array to filter out underages from the original array\n",
    "growTFup = ages[legal_age]\n",
    "print(growTFup)"
   ]
  },
  {
   "cell_type": "code",
   "execution_count": 6,
   "metadata": {},
   "outputs": [
    {
     "name": "stdout",
     "output_type": "stream",
     "text": [
      "(4,)\n"
     ]
    }
   ],
   "source": [
    "# Use numpy's shape function to query its shape\n",
    "print(np.shape(growTFup))"
   ]
  },
  {
   "cell_type": "code",
   "execution_count": 202,
   "metadata": {},
   "outputs": [
    {
     "data": {
      "application/vnd.jupyter.widget-view+json": {
       "model_id": "c091556d50064c748375f11baf681913",
       "version_major": 2,
       "version_minor": 0
      },
      "text/plain": [
       "Canvas(toolbar=Toolbar(toolitems=[('Home', 'Reset original view', 'home', 'home'), ('Back', 'Back to previous …"
      ]
     },
     "metadata": {},
     "output_type": "display_data"
    }
   ],
   "source": [
    "# Numpy makes in easy to plut nice mathematical functions\n",
    "%matplotlib widget\n",
    "import matplotlib.pyplot as plt\n",
    "import numpy as np\n",
    "import seaborn as sns\n",
    "\n",
    "x = np.linspace(0, 2*np.pi,100) # np.pi generates the number pi\n",
    "y = np.sin(x)\n",
    "\n",
    "plt.figure();\n",
    "sns.lineplot(x=x, y=y, color='darkred');\n",
    "plt.title('Sinus function');\n",
    "plt.xlabel('x-axis');\n",
    "plt.ylabel('y-axis');"
   ]
  },
  {
   "cell_type": "markdown",
   "metadata": {},
   "source": [
    "## 2D Arrays\n",
    "A matrix-like 2D array can be created. A common procedure is passing more than one list into the array function.\n",
    "\n",
    "n-dimensional arrays are supported, but only 2D will be covered here."
   ]
  },
  {
   "cell_type": "code",
   "execution_count": 204,
   "metadata": {},
   "outputs": [
    {
     "name": "stdout",
     "output_type": "stream",
     "text": [
      "[[ 1  2  3  4  5]\n",
      " [ 7  8  9 10 11]]\n",
      "[[ 3  4  5  6  7]\n",
      " [ 9 10 11 12 13]]\n",
      "10\n",
      "10\n",
      "[2 8]\n",
      "[ 9 10 11]\n",
      "3.0\n"
     ]
    }
   ],
   "source": [
    "# Create the array\n",
    "w = np.array([[1,2,3,4,5], [7,8,9,10,11]])\n",
    "print(w)\n",
    "\n",
    "# Arithmetic operations are still element-wise. We can perform scalar or vectorial operations\n",
    "print(w+2)\n",
    "\n",
    "# Indexing a 2D array can be done in a row- and column-wise fashion. Remember that \n",
    "# items begin at zero\n",
    "print(w[1][3])\n",
    "\n",
    "# Alternative syntax\n",
    "print(w[1,3])\n",
    "\n",
    "# Indexing in a 2D array can also be done with slicing. Here we pick all rows\n",
    "# of column 2\n",
    "print(w[:,1])\n",
    "\n",
    "# And here we pick row 2, columns 3 to last\n",
    "print(w[1,2:])\n",
    "\n",
    "# We can grab entire rows or columns to do operations in them\n",
    "print(np.mean(w[0]))"
   ]
  },
  {
   "cell_type": "code",
   "execution_count": 205,
   "metadata": {},
   "outputs": [
    {
     "name": "stdout",
     "output_type": "stream",
     "text": [
      "(2, 5)\n"
     ]
    }
   ],
   "source": [
    "# Query shape\n",
    "print(w.shape)"
   ]
  },
  {
   "cell_type": "code",
   "execution_count": 16,
   "metadata": {},
   "outputs": [
    {
     "name": "stdout",
     "output_type": "stream",
     "text": [
      "[[0. 0. 0. 0.]\n",
      " [0. 0. 0. 0.]\n",
      " [0. 0. 0. 0.]\n",
      " [0. 0. 0. 0.]]\n",
      "[[1. 1. 1. 1.]\n",
      " [1. 1. 1. 1.]\n",
      " [1. 1. 1. 1.]\n",
      " [1. 1. 1. 1.]]\n",
      "[[5 5 5 5]\n",
      " [5 5 5 5]\n",
      " [5 5 5 5]\n",
      " [5 5 5 5]]\n",
      "[[0.24469568 0.93753657 0.55621231 0.61373019]\n",
      " [0.5401018  0.14856621 0.00999431 0.23529688]\n",
      " [0.79023345 0.2840327  0.45399964 0.46387341]\n",
      " [0.34941974 0.85833359 0.48276543 0.0394409 ]]\n"
     ]
    }
   ],
   "source": [
    "# The zeros method allows creating an array of zeroes with the specified dimensions as a tuple\n",
    "zer = np.zeros((4,4))\n",
    "print(zer)\n",
    "\n",
    "# The ones method is similar\n",
    "on = np.ones((4,4))\n",
    "print(on)\n",
    "\n",
    "# The full method fills with the desired value\n",
    "full = np.full((4,4), 5)\n",
    "print(full)\n",
    "\n",
    "# Random array\n",
    "rand = np.random.random((4,4))\n",
    "print(rand)"
   ]
  },
  {
   "cell_type": "markdown",
   "metadata": {},
   "source": [
    "# SCIPY\n",
    "An advanced scientific computation library that builds upon NumPy.\n",
    "The Scipy.stats sublibrary provides tools for statistics!\n",
    "\n",
    "## Scipy.stats\n",
    "- Distributions\n",
    "- Descriptive statistics\n",
    "- Statistical tests"
   ]
  },
  {
   "cell_type": "code",
   "execution_count": 26,
   "metadata": {},
   "outputs": [],
   "source": [
    "# Import the sub-library\n",
    "from scipy import stats"
   ]
  },
  {
   "cell_type": "code",
   "execution_count": 28,
   "metadata": {},
   "outputs": [
    {
     "name": "stdout",
     "output_type": "stream",
     "text": [
      "[-0.24621437 -1.63821017 -0.34791121 -1.38157838  0.68405055 -0.23000044\n",
      " -0.7763913   1.41991763  0.97167267  0.43344778 -0.15968208 -0.21268897\n",
      "  0.22829547 -1.20630481  0.15852082 -1.76071244 -0.55502258  0.29634295\n",
      " -0.75864349  0.70140656]\n"
     ]
    }
   ],
   "source": [
    "# An immediate useful application is generating random normally distributed variables\n",
    "print(stats.norm.rvs(size=20))"
   ]
  },
  {
   "cell_type": "code",
   "execution_count": 29,
   "metadata": {},
   "outputs": [
    {
     "name": "stdout",
     "output_type": "stream",
     "text": [
      "[0.03593032 0.15865525 0.27425312 0.84134475 0.97724987 0.99379033\n",
      " 0.99533881]\n"
     ]
    }
   ],
   "source": [
    "# We can use scipy to turn a bunch of numbers into a cumulative density function (cdf)\n",
    "print(stats.norm.cdf(np.array([-1.8,-1,-0.6,1,2,2.5,2.6])))"
   ]
  },
  {
   "cell_type": "code",
   "execution_count": 32,
   "metadata": {},
   "outputs": [
    {
     "name": "stdout",
     "output_type": "stream",
     "text": [
      "[ 0.66173786  0.59102529  1.03900972 -0.28305316  0.96142353  0.0867477\n",
      "  0.39309058 -0.68423434  0.17705283 -0.54672369 -0.15104113  0.5523767\n",
      "  0.91990484  0.66837427  0.09047253 -1.04002686 -0.14099882 -0.57087183\n",
      " -1.48574892 -0.08605347  0.42486701 -0.27657787  2.14199936 -0.94437098\n",
      "  0.18785965  0.54940764 -0.63958162  0.98372332 -2.89107579  0.70560515\n",
      "  1.81888225  0.30421877 -0.73205014 -1.21744882  0.56287655  0.32278748\n",
      " -0.55722875  0.18249624 -2.17758292 -0.48441871 -2.31341198  0.13952384\n",
      "  0.61257034  0.72743653  0.66411338  0.58011702 -0.95439954  2.17103102\n",
      "  1.3496929   0.33029461 -0.44632273  1.37173192  0.84112754 -0.5499492\n",
      " -0.35257416 -0.11510676 -0.93631666 -0.06555022  0.30625147 -0.47783028\n",
      " -0.17958841  2.76327829 -1.39933277  0.04202834 -1.76273071 -0.67602915\n",
      " -0.64011947  0.5132936  -0.55713249  0.22123985 -0.65747787  0.95001847\n",
      "  0.09696381  0.43534192  2.8740957   0.73163709  0.55786655 -0.08780917\n",
      " -2.11575674 -0.44812136  0.35032512 -0.14395738  0.2040633   0.04617953\n",
      "  0.45453172  0.4368744   1.08074128  0.79699769 -1.98809156 -0.55059042\n",
      "  0.61168828 -0.20850132  0.17204706  0.36555882  1.7816706   1.0253687\n",
      "  0.02151393 -0.29732818 -1.80207371  0.4309304 ]\n"
     ]
    }
   ],
   "source": [
    "# Descriptive statistics functions in Scipy.stats\n",
    "# We'll use a seed for reproducible tests down below\n",
    "\n",
    "# Bunch of random numbers here generated from the Student's t-continuous distribution\n",
    "np.random.seed(1234)\n",
    "x = stats.t.rvs(10, size=100)\n",
    "print(x)"
   ]
  },
  {
   "cell_type": "code",
   "execution_count": 35,
   "metadata": {},
   "outputs": [
    {
     "name": "stdout",
     "output_type": "stream",
     "text": [
      "-2.8910757913419554\n",
      "2.874095696918692\n",
      "0.05748894228519995\n",
      "DescribeResult(nobs=100, minmax=(-2.8910757913419554, 2.874095696918692), mean=0.05748894228519995, variance=1.008103430750141, skewness=-0.13595535434253678, kurtosis=1.0429155607860423)\n"
     ]
    }
   ],
   "source": [
    "# Throw in some descriptive statistics\n",
    "print(x.min())\n",
    "print(x.max())\n",
    "print(x.mean())\n",
    "print(stats.describe(x))"
   ]
  },
  {
   "cell_type": "markdown",
   "metadata": {},
   "source": [
    "### Statistical tests in Scipy.stats"
   ]
  },
  {
   "cell_type": "code",
   "execution_count": null,
   "metadata": {},
   "outputs": [],
   "source": []
  },
  {
   "cell_type": "markdown",
   "metadata": {},
   "source": [
    "## PANDAS\n",
    "Tabular representations are the most common way of storing and working with data. The pandas library comes with the dataframe structure, and so it has become default for handling of datasets\n",
    "\n",
    "With any tabular data representation, columns are variables, and rows are observations\n",
    "\n",
    "The most common way of creating a pandas dataframe is by importing a csv or excel file. It is also commonly created through a dictionary of lists or numpy arrays"
   ]
  },
  {
   "cell_type": "markdown",
   "metadata": {},
   "source": [
    "## Importing dataframes from csv files\n",
    "The read_csv method of pandas allows importing data. The data is stored as a dataframe.\n",
    "\n",
    "A similar method is used for loading an excel dataset: read_excel"
   ]
  },
  {
   "cell_type": "code",
   "execution_count": 171,
   "metadata": {},
   "outputs": [
    {
     "name": "stdout",
     "output_type": "stream",
     "text": [
      "    A    B     C      D       E\n",
      "0   1    2     3      4       5\n",
      "1   2    4     6      8      10\n",
      "2  10  100  1000  10000  100000\n",
      "3   1    3     5      7       9\n"
     ]
    }
   ],
   "source": [
    "# Import a very simple dataset for demonstration purposes\n",
    "data = pd.read_csv('pandastest.csv')\n",
    "print(data)"
   ]
  },
  {
   "cell_type": "markdown",
   "metadata": {},
   "source": [
    "## Creating dataframes from dictionaries"
   ]
  },
  {
   "cell_type": "code",
   "execution_count": 81,
   "metadata": {},
   "outputs": [
    {
     "name": "stdout",
     "output_type": "stream",
     "text": [
      "                     topic  number of researchers  number of laboratories\n",
      "0  Computational chemistry                     12                       2\n",
      "1      Medicinal chemistry                      5                       3\n",
      "2             Biochemistry                      7                       2\n",
      "3       Structural biology                     28                       5\n",
      "4             Microbiology                     20                       2\n",
      "5               Immunology                     10                       2\n",
      "6             Pharmacology                     12                       3\n",
      "7            Pharmaceutics                     15                       4\n",
      "8          Pharmacometrics                      8                       2\n"
     ]
    }
   ],
   "source": [
    "# Import pandas and numpy\n",
    "import pandas as pd\n",
    "import numpy as np\n",
    "\n",
    "# Create some lists\n",
    "topics = ['Computational chemistry', 'Medicinal chemistry', 'Biochemistry', \n",
    "          'Structural biology', 'Microbiology', 'Immunology', 'Pharmacology', \n",
    "          'Pharmaceutics', 'Pharmacometrics']\n",
    "researchers = [12, 5, 7, 28, 20, 10, 12, 15, 8]\n",
    "labs = [2,3,2,5,2,2,3,4,2]\n",
    "\n",
    "# Weld them into a dictionary\n",
    "department = {'topic': topics, 'number of researchers': researchers,\n",
    "              'number of laboratories': labs}\n",
    "\n",
    "# Create a dataframe. Keys are column labels. values are the columns.\n",
    "df = pd.DataFrame(department)\n",
    "\n",
    "# Print the dataframe\n",
    "print(df)"
   ]
  },
  {
   "cell_type": "markdown",
   "metadata": {},
   "source": [
    "Row labels are set to integers, starting from 0, by default. That can be changed with the index method by passing a named list"
   ]
  },
  {
   "cell_type": "code",
   "execution_count": 19,
   "metadata": {},
   "outputs": [
    {
     "name": "stdout",
     "output_type": "stream",
     "text": [
      "                             topic  number of researchers  \\\n",
      "CADD       Computational chemistry                     12   \n",
      "MedChem        Medicinal chemistry                      5   \n",
      "Biochem               Biochemistry                      7   \n",
      "StructBio       Structural biology                     28   \n",
      "Micro                 Microbiology                     20   \n",
      "Imm                     Immunology                     10   \n",
      "Pharmacol             Pharmacology                     12   \n",
      "Phar                 Pharmaceutics                     15   \n",
      "Metrics            Pharmacometrics                      8   \n",
      "\n",
      "           number of laboratories  \n",
      "CADD                            2  \n",
      "MedChem                         3  \n",
      "Biochem                         2  \n",
      "StructBio                       5  \n",
      "Micro                           2  \n",
      "Imm                             2  \n",
      "Pharmacol                       3  \n",
      "Phar                            4  \n",
      "Metrics                         2  \n"
     ]
    }
   ],
   "source": [
    "# Define list of labels\n",
    "labels = ['CADD', 'MedChem', 'Biochem', 'StructBio', 'Micro', 'Imm',\n",
    "         'Pharmacol', 'Phar', 'Metrics']\n",
    "df.index = labels\n",
    "print(df)"
   ]
  },
  {
   "cell_type": "markdown",
   "metadata": {},
   "source": [
    "## Selecting data from dataframes\n",
    "There are several selection methods to retrieve data from a dataframe:\n",
    "    \n",
    "    - Location\n",
    "    - Integer\n",
    "    - Specific columns"
   ]
  },
  {
   "cell_type": "code",
   "execution_count": 23,
   "metadata": {},
   "outputs": [
    {
     "name": "stdout",
     "output_type": "stream",
     "text": [
      "CADD         Computational chemistry\n",
      "MedChem          Medicinal chemistry\n",
      "Biochem                 Biochemistry\n",
      "StructBio         Structural biology\n",
      "Micro                   Microbiology\n",
      "Imm                       Immunology\n",
      "Pharmacol               Pharmacology\n",
      "Phar                   Pharmaceutics\n",
      "Metrics              Pharmacometrics\n",
      "Name: topic, dtype: object\n",
      "<class 'pandas.core.series.Series'>\n"
     ]
    }
   ],
   "source": [
    "# Let's select a specific column\n",
    "print(df['topic'])\n",
    "\n",
    "# Check the type of what we just got\n",
    "print(type(df['topic']))"
   ]
  },
  {
   "cell_type": "code",
   "execution_count": 26,
   "metadata": {},
   "outputs": [
    {
     "name": "stdout",
     "output_type": "stream",
     "text": [
      "                             topic  number of researchers\n",
      "CADD       Computational chemistry                     12\n",
      "MedChem        Medicinal chemistry                      5\n",
      "Biochem               Biochemistry                      7\n",
      "StructBio       Structural biology                     28\n",
      "Micro                 Microbiology                     20\n",
      "Imm                     Immunology                     10\n",
      "Pharmacol             Pharmacology                     12\n",
      "Phar                 Pharmaceutics                     15\n",
      "Metrics            Pharmacometrics                      8\n"
     ]
    }
   ],
   "source": [
    "# We can select more than one column using commas. Make sure to use double brackets\n",
    "# so that the output is a dataframe. Otherwise an error is raised\n",
    "print(df[['topic','number of researchers']])"
   ]
  },
  {
   "cell_type": "code",
   "execution_count": 29,
   "metadata": {},
   "outputs": [
    {
     "name": "stdout",
     "output_type": "stream",
     "text": [
      "<class 'pandas.core.frame.DataFrame'>\n"
     ]
    }
   ],
   "source": [
    "# We can force the output to be a dataframe with double square brackets\n",
    "print(type(df[['topic']]))"
   ]
  },
  {
   "cell_type": "code",
   "execution_count": 30,
   "metadata": {},
   "outputs": [
    {
     "name": "stdout",
     "output_type": "stream",
     "text": [
      "                             topic  number of researchers  \\\n",
      "CADD       Computational chemistry                     12   \n",
      "MedChem        Medicinal chemistry                      5   \n",
      "Biochem               Biochemistry                      7   \n",
      "StructBio       Structural biology                     28   \n",
      "Micro                 Microbiology                     20   \n",
      "\n",
      "           number of laboratories  \n",
      "CADD                            2  \n",
      "MedChem                         3  \n",
      "Biochem                         2  \n",
      "StructBio                       5  \n",
      "Micro                           2  \n"
     ]
    }
   ],
   "source": [
    "# We can select rows with numeric indices, either single ones or slices\n",
    "# Indices start at zero and the end index of the slice is not included in the slice\n",
    "print(df[0:5])"
   ]
  },
  {
   "cell_type": "markdown",
   "metadata": {},
   "source": [
    "Selecting on a [row,column] regimen is possible through the loc and iloc functions\n",
    "- loc is label-based\n",
    "- iloc is integer-based"
   ]
  },
  {
   "cell_type": "code",
   "execution_count": 32,
   "metadata": {},
   "outputs": [
    {
     "name": "stdout",
     "output_type": "stream",
     "text": [
      "12\n",
      "3\n",
      "                           topic  number of researchers\n",
      "CADD     Computational chemistry                     12\n",
      "MedChem      Medicinal chemistry                      5\n",
      "         number of researchers  number of laboratories\n",
      "CADD                        12                       2\n",
      "MedChem                      5                       3\n",
      "Micro                       20                       2\n",
      "         number of researchers\n",
      "CADD                        12\n",
      "MedChem                      5\n",
      "Micro                       20\n",
      "           number of researchers\n",
      "CADD                          12\n",
      "MedChem                        5\n",
      "Biochem                        7\n",
      "StructBio                     28\n",
      "Micro                         20\n",
      "Imm                           10\n",
      "Pharmacol                     12\n",
      "Phar                          15\n",
      "Metrics                        8\n"
     ]
    }
   ],
   "source": [
    "print(df.iloc[0,1])\n",
    "print(df.iloc[1,2])\n",
    "print(df.iloc[0:2,0:2])\n",
    "print(df.iloc[[0,1,4],[1,2]])\n",
    "print(df.iloc[[0,1,4],1:2])\n",
    "print(df.iloc[:,1:2])"
   ]
  },
  {
   "cell_type": "code",
   "execution_count": 34,
   "metadata": {},
   "outputs": [
    {
     "name": "stdout",
     "output_type": "stream",
     "text": [
      "20\n"
     ]
    }
   ],
   "source": [
    "print(df.loc['Micro','number of researchers'])"
   ]
  },
  {
   "cell_type": "code",
   "execution_count": 39,
   "metadata": {},
   "outputs": [
    {
     "name": "stdout",
     "output_type": "stream",
     "text": [
      "topic                     Microbiology\n",
      "number of researchers               20\n",
      "number of laboratories               2\n",
      "Name: Micro, dtype: object\n",
      "              topic  number of researchers  number of laboratories\n",
      "Micro  Microbiology                     20                       2\n",
      "              topic  number of researchers\n",
      "Micro  Microbiology                     20\n",
      "Imm      Immunology                     10\n"
     ]
    }
   ],
   "source": [
    "# The code below returns a pandas series\n",
    "print(df.loc['Micro'])\n",
    "\n",
    "# Use double brackets to force the generation of a dataframe\n",
    "print(df.loc[['Micro']])\n",
    "\n",
    "# We can pick several rows and columns by using two lists\n",
    "print(df.loc[['Micro', 'Imm'], ['topic', 'number of researchers']])"
   ]
  },
  {
   "cell_type": "markdown",
   "metadata": {},
   "source": [
    "## Filtering through boolean masking\n",
    "Using a boolean array allows setting a filter condition. When the array is passed on the dataframe using the where method, the desired filter is applied yielding a dataframe that meets the intended condition"
   ]
  },
  {
   "cell_type": "code",
   "execution_count": 40,
   "metadata": {},
   "outputs": [
    {
     "name": "stdout",
     "output_type": "stream",
     "text": [
      "CADD          True\n",
      "MedChem      False\n",
      "Biochem      False\n",
      "StructBio     True\n",
      "Micro         True\n",
      "Imm          False\n",
      "Pharmacol     True\n",
      "Phar          True\n",
      "Metrics      False\n",
      "Name: number of researchers, dtype: bool\n"
     ]
    }
   ],
   "source": [
    "# Create a boolean mask\n",
    "mask = df['number of researchers']>10\n",
    "\n",
    "# Call the mask\n",
    "print(mask)"
   ]
  },
  {
   "cell_type": "code",
   "execution_count": 41,
   "metadata": {},
   "outputs": [
    {
     "name": "stdout",
     "output_type": "stream",
     "text": [
      "                             topic  number of researchers  \\\n",
      "CADD       Computational chemistry                   12.0   \n",
      "MedChem                        NaN                    NaN   \n",
      "Biochem                        NaN                    NaN   \n",
      "StructBio       Structural biology                   28.0   \n",
      "Micro                 Microbiology                   20.0   \n",
      "Imm                            NaN                    NaN   \n",
      "Pharmacol             Pharmacology                   12.0   \n",
      "Phar                 Pharmaceutics                   15.0   \n",
      "Metrics                        NaN                    NaN   \n",
      "\n",
      "           number of laboratories  \n",
      "CADD                          2.0  \n",
      "MedChem                       NaN  \n",
      "Biochem                       NaN  \n",
      "StructBio                     5.0  \n",
      "Micro                         2.0  \n",
      "Imm                           NaN  \n",
      "Pharmacol                     3.0  \n",
      "Phar                          4.0  \n",
      "Metrics                       NaN  \n"
     ]
    }
   ],
   "source": [
    "# Apply the mask to the dataframe\n",
    "dffilter = df.where(mask)\n",
    "print(dffilter)"
   ]
  },
  {
   "cell_type": "code",
   "execution_count": 42,
   "metadata": {},
   "outputs": [
    {
     "name": "stdout",
     "output_type": "stream",
     "text": [
      "                             topic  number of researchers  \\\n",
      "CADD       Computational chemistry                   12.0   \n",
      "StructBio       Structural biology                   28.0   \n",
      "Micro                 Microbiology                   20.0   \n",
      "Pharmacol             Pharmacology                   12.0   \n",
      "Phar                 Pharmaceutics                   15.0   \n",
      "\n",
      "           number of laboratories  \n",
      "CADD                          2.0  \n",
      "StructBio                     5.0  \n",
      "Micro                         2.0  \n",
      "Pharmacol                     3.0  \n",
      "Phar                          4.0  \n"
     ]
    }
   ],
   "source": [
    "# Drop NaN values to clean it up\n",
    "dffilternan = dffilter.dropna()\n",
    "print(dffilternan)"
   ]
  },
  {
   "cell_type": "markdown",
   "metadata": {},
   "source": [
    "## Additional data work and cleansing with pandas\n",
    "The unique() method allows detecting how many unique types of a categorical variable are present."
   ]
  },
  {
   "cell_type": "code",
   "execution_count": 175,
   "metadata": {},
   "outputs": [
    {
     "name": "stdout",
     "output_type": "stream",
     "text": [
      "  favorite color  experience points  gender\n",
      "0           pink                 54       1\n",
      "1            red                 45       2\n",
      "2         orange                 12       2\n",
      "3            red                 44       1\n",
      "4           pink                 56       2\n",
      "5          green                120       1\n",
      "6           blue                 11       1\n",
      "7            red                 51       1\n",
      "8           pink                 75       2\n",
      "9          green                 84       2\n",
      "\n",
      "\n",
      "['pink' 'red' 'orange' 'green' 'blue']\n",
      "[1 2]\n"
     ]
    }
   ],
   "source": [
    "# New dataframe\n",
    "\n",
    "# Create some lists\n",
    "favorite_color = ['pink', 'red', 'orange', 'red', 'pink', 'green', 'blue', \n",
    "          'red', 'pink', 'green']\n",
    "experience_points = [54, 45, 12, 44, 56, 120, 11, 51, 75, 84]\n",
    "gender = [1,2,2,1,2,1,1,1,2,2]\n",
    "\n",
    "# Weld them into a dictionary\n",
    "people = {'favorite color': favorite_color, 'experience points': experience_points,\n",
    "              'gender': gender}\n",
    "\n",
    "# Create a dataframe. Keys are column labels. values are the columns.\n",
    "df2 = pd.DataFrame(people)\n",
    "\n",
    "# Print the dataframe\n",
    "print(df2)\n",
    "print('\\n')\n",
    "\n",
    "# Get the unique categories\n",
    "print(df2['favorite color'].unique())\n",
    "print(df2['gender'].unique())"
   ]
  },
  {
   "cell_type": "code",
   "execution_count": 177,
   "metadata": {},
   "outputs": [
    {
     "name": "stdout",
     "output_type": "stream",
     "text": [
      "  favorite color  experience points  gender\n",
      "a           pink                 54       1\n",
      "b            red                 45       2\n",
      "c         orange                 12       2\n",
      "d            red                 44       1\n",
      "e           pink                 56       2\n",
      "f          green                120       1\n",
      "g           blue                 11       1\n",
      "h            red                 51       1\n",
      "i           pink                 75       2\n",
      "j          green                 84       2\n"
     ]
    }
   ],
   "source": [
    "# Change the index of a dataframe with the index method\n",
    "indices = ['a','b','c','d','e','f','g','h','i','j']\n",
    "df3 = df2\n",
    "df3.index=indices\n",
    "print(df3)"
   ]
  },
  {
   "cell_type": "markdown",
   "metadata": {},
   "source": [
    "## Saving pandas dataframes\n",
    "The to_csv method saves a pandas dataframe as a csv file"
   ]
  },
  {
   "cell_type": "code",
   "execution_count": 176,
   "metadata": {},
   "outputs": [],
   "source": [
    "df.to_csv('department.csv')"
   ]
  },
  {
   "cell_type": "markdown",
   "metadata": {},
   "source": [
    "# BASIC STATISTICS WITH NUMPY, SCIPY AND PANDAS\n",
    "The combined numerical computing, data structures, and statistical models provided by these three models allow for powerful statistical analysis"
   ]
  },
  {
   "cell_type": "markdown",
   "metadata": {},
   "source": [
    "## Getting descriptive statistics with pandas and numpy\n",
    "Pandas and NumPy have methods to get common statistical parameters: mean, 25th percentile (1st quartile), median (50th percentile, 2nd quartile), and 75th percentile (3rd quartile)\n",
    "Let's use the lab dataset for that"
   ]
  },
  {
   "cell_type": "code",
   "execution_count": 6,
   "metadata": {},
   "outputs": [
    {
     "name": "stdout",
     "output_type": "stream",
     "text": [
      "Mean:\n",
      "13.0\n",
      "25th percentile:\n",
      "8.0\n",
      "Median:\n",
      "12.0\n",
      "75th percentile:\n",
      "15.0\n",
      "\n",
      "\n",
      "Mean:\n",
      "13.0\n",
      "25th percentile:\n",
      "8.0\n",
      "Median:\n",
      "12.0\n",
      "75th percentile:\n",
      "15.0\n"
     ]
    }
   ],
   "source": [
    "import pandas as pd\n",
    "import numpy as np\n",
    "\n",
    "topics = ['Computational chemistry', 'Medicinal chemistry', 'Biochemistry', \n",
    "          'Structural biology', 'Microbiology', 'Immunology', 'Pharmacology', \n",
    "          'Pharmaceutics', 'Pharmacometrics']\n",
    "researchers = [12, 5, 7, 28, 20, 10, 12, 15, 8]\n",
    "labs = [2,3,2,5,2,2,3,4,2]\n",
    "\n",
    "department = {'topic': topics, 'number of researchers': researchers,\n",
    "              'number of laboratories': labs}\n",
    "\n",
    "df = pd.DataFrame(department)\n",
    "\n",
    "labels = ['CADD', 'MedChem', 'Biochem', 'StructBio', 'Micro', 'Imm',\n",
    "         'Pharmacol', 'Phar', 'Metrics']\n",
    "df.index = labels\n",
    "\n",
    "# We'll calculate some stats from the number of researchers column\n",
    "\n",
    "res = df['number of researchers']\n",
    "\n",
    "# Pandas methods\n",
    "print('Mean:')\n",
    "print(res.mean())\n",
    "print('25th percentile:')\n",
    "print(res.quantile(0.25))\n",
    "print('Median:')\n",
    "print(res.median()) # Remember that the median is the 50th percentile, or 2nd quartile\n",
    "print('75th percentile:')\n",
    "print(res.quantile(0.75))\n",
    "\n",
    "print('\\n')\n",
    "\n",
    "# Numpy methods\n",
    "print('Mean:')\n",
    "print(np.mean(res))\n",
    "print('25th percentile:')\n",
    "print(np.percentile(res, 25))\n",
    "print('Median:')\n",
    "print(np.percentile(res, 50))\n",
    "print('75th percentile:')\n",
    "print(np.percentile(res, 75))"
   ]
  },
  {
   "cell_type": "code",
   "execution_count": 2,
   "metadata": {},
   "outputs": [
    {
     "name": "stdout",
     "output_type": "stream",
     "text": [
      "count     9.000000\n",
      "mean     13.000000\n",
      "std       7.193747\n",
      "min       5.000000\n",
      "25%       8.000000\n",
      "50%      12.000000\n",
      "75%      15.000000\n",
      "max      28.000000\n",
      "Name: number of researchers, dtype: float64\n"
     ]
    }
   ],
   "source": [
    "# An easier way to do it is with the built-in pandas method describe()\n",
    "print(res.describe())"
   ]
  },
  {
   "cell_type": "markdown",
   "metadata": {},
   "source": [
    "# MATPLOTLIB AND SEABORN\n",
    "Matplotlib is a visualization package in Python. Seaborn expands upon it\n",
    "The pyplot method, often imported as plt, is used as a standard for visualization"
   ]
  },
  {
   "cell_type": "code",
   "execution_count": 8,
   "metadata": {},
   "outputs": [],
   "source": [
    "# Import matplotlib\n",
    "%matplotlib widget\n",
    "import matplotlib.pyplot as plt\n",
    "import seaborn as sns"
   ]
  },
  {
   "cell_type": "markdown",
   "metadata": {},
   "source": [
    "## Line plot"
   ]
  },
  {
   "cell_type": "code",
   "execution_count": 45,
   "metadata": {},
   "outputs": [
    {
     "data": {
      "application/vnd.jupyter.widget-view+json": {
       "model_id": "7da98cb38b3d4c4fbfa8bfd72f0f4dd0",
       "version_major": 2,
       "version_minor": 0
      },
      "text/plain": [
       "Canvas(toolbar=Toolbar(toolitems=[('Home', 'Reset original view', 'home', 'home'), ('Back', 'Back to previous …"
      ]
     },
     "metadata": {},
     "output_type": "display_data"
    },
    {
     "data": {
      "text/plain": [
       "Text(0.5, 1.0, 'Dose-response curve')"
      ]
     },
     "execution_count": 45,
     "metadata": {},
     "output_type": "execute_result"
    }
   ],
   "source": [
    "# Create some data\n",
    "concentration = [0,1,2,3,4,5]\n",
    "response = [0,10,100,1000,10100,12000]\n",
    "# Plot\n",
    "plt.figure()\n",
    "plt.plot(concentration, response);\n",
    "plt.xlabel('Concentration')\n",
    "plt.ylabel('Response')\n",
    "plt.title('Dose-response curve')\n",
    "# Outside jupyter, use plt.show() to actually show the plot"
   ]
  },
  {
   "cell_type": "markdown",
   "metadata": {},
   "source": [
    "## Scatter plot"
   ]
  },
  {
   "cell_type": "code",
   "execution_count": 46,
   "metadata": {},
   "outputs": [
    {
     "data": {
      "application/vnd.jupyter.widget-view+json": {
       "model_id": "2a93163a3ef24448ad8222b18d3e150a",
       "version_major": 2,
       "version_minor": 0
      },
      "text/plain": [
       "Canvas(toolbar=Toolbar(toolitems=[('Home', 'Reset original view', 'home', 'home'), ('Back', 'Back to previous …"
      ]
     },
     "metadata": {},
     "output_type": "display_data"
    },
    {
     "data": {
      "text/plain": [
       "Text(0.5, 1.0, 'Dose-response curve')"
      ]
     },
     "execution_count": 46,
     "metadata": {},
     "output_type": "execute_result"
    }
   ],
   "source": [
    "# Create some data\n",
    "concentration = [0,1,2,3,4,5]\n",
    "response = [0,10,100,1000,10100,12000]\n",
    "# Plot\n",
    "plt.figure()\n",
    "plt.scatter(concentration, response);\n",
    "plt.xlabel('Concentration')\n",
    "plt.ylabel('Response')\n",
    "plt.title('Dose-response curve')\n",
    "# Outside jupyter, use plt.show() to actually show the plot"
   ]
  },
  {
   "cell_type": "markdown",
   "metadata": {},
   "source": [
    "Explore other visualizations such as:\n",
    "- Bar charts: plt.bar()\n",
    "- Histograms: plt.hist()"
   ]
  },
  {
   "cell_type": "markdown",
   "metadata": {},
   "source": [
    "## Seaborn visualizations"
   ]
  },
  {
   "cell_type": "code",
   "execution_count": 10,
   "metadata": {},
   "outputs": [],
   "source": [
    "# We'll use the built-in tips dataset\n",
    "tips = sns.load_dataset('tips')"
   ]
  },
  {
   "cell_type": "code",
   "execution_count": 11,
   "metadata": {},
   "outputs": [
    {
     "name": "stdout",
     "output_type": "stream",
     "text": [
      "   total_bill   tip     sex smoker  day    time  size\n",
      "0       16.99  1.01  Female     No  Sun  Dinner     2\n",
      "1       10.34  1.66    Male     No  Sun  Dinner     3\n",
      "2       21.01  3.50    Male     No  Sun  Dinner     3\n",
      "3       23.68  3.31    Male     No  Sun  Dinner     2\n",
      "4       24.59  3.61  Female     No  Sun  Dinner     4\n",
      "       total_bill         tip        size\n",
      "count  244.000000  244.000000  244.000000\n",
      "mean    19.785943    2.998279    2.569672\n",
      "std      8.902412    1.383638    0.951100\n",
      "min      3.070000    1.000000    1.000000\n",
      "25%     13.347500    2.000000    2.000000\n",
      "50%     17.795000    2.900000    2.000000\n",
      "75%     24.127500    3.562500    3.000000\n",
      "max     50.810000   10.000000    6.000000\n"
     ]
    }
   ],
   "source": [
    "# See a snippet of the data\n",
    "print(tips.head())\n",
    "\n",
    "# Get some summary statistics\n",
    "print(tips.describe())"
   ]
  },
  {
   "cell_type": "markdown",
   "metadata": {},
   "source": [
    "### Seaborn histogram"
   ]
  },
  {
   "cell_type": "code",
   "execution_count": 12,
   "metadata": {},
   "outputs": [
    {
     "data": {
      "application/vnd.jupyter.widget-view+json": {
       "model_id": "89b179f0e8f14ccab0c1e69f1b5a8dc6",
       "version_major": 2,
       "version_minor": 0
      },
      "text/plain": [
       "Canvas(toolbar=Toolbar(toolitems=[('Home', 'Reset original view', 'home', 'home'), ('Back', 'Back to previous …"
      ]
     },
     "metadata": {},
     "output_type": "display_data"
    }
   ],
   "source": [
    "# Histplot will be the tool of choice for a histogram\n",
    "# kde is set to false to omit the density plot\n",
    "plt.figure();\n",
    "sns.histplot(tips['total_bill']);\n",
    "plt.title('Total bill distribution');"
   ]
  },
  {
   "cell_type": "code",
   "execution_count": 100,
   "metadata": {},
   "outputs": [
    {
     "data": {
      "application/vnd.jupyter.widget-view+json": {
       "model_id": "5a8da05ad053405abe57d236978f808c",
       "version_major": 2,
       "version_minor": 0
      },
      "text/plain": [
       "Canvas(toolbar=Toolbar(toolitems=[('Home', 'Reset original view', 'home', 'home'), ('Back', 'Back to previous …"
      ]
     },
     "metadata": {},
     "output_type": "display_data"
    }
   ],
   "source": [
    "# Another histogram. This time we use the color argument to set the color! Pink happens to be awesome\n",
    "plt.figure();\n",
    "sns.histplot(tips['tip'], color='pink');\n",
    "plt.title('Tips distribution');"
   ]
  },
  {
   "cell_type": "code",
   "execution_count": 101,
   "metadata": {},
   "outputs": [
    {
     "data": {
      "application/vnd.jupyter.widget-view+json": {
       "model_id": "0347dbc87c66404aabfdf0d2cdb090e9",
       "version_major": 2,
       "version_minor": 0
      },
      "text/plain": [
       "Canvas(toolbar=Toolbar(toolitems=[('Home', 'Reset original view', 'home', 'home'), ('Back', 'Back to previous …"
      ]
     },
     "metadata": {},
     "output_type": "display_data"
    }
   ],
   "source": [
    "# We can throw multiple distributions into one plot by overlaying datasets.\n",
    "plt.figure();\n",
    "sns.histplot(tips['tip'], color='red');\n",
    "sns.histplot(tips['total_bill'], color='blue');\n",
    "plt.title('Tips vs bills');"
   ]
  },
  {
   "cell_type": "markdown",
   "metadata": {},
   "source": [
    "### Seaborn boxplot"
   ]
  },
  {
   "cell_type": "code",
   "execution_count": 13,
   "metadata": {},
   "outputs": [
    {
     "data": {
      "application/vnd.jupyter.widget-view+json": {
       "model_id": "6ba8002fa72f4901af482f8ab8cb6401",
       "version_major": 2,
       "version_minor": 0
      },
      "text/plain": [
       "Canvas(toolbar=Toolbar(toolitems=[('Home', 'Reset original view', 'home', 'home'), ('Back', 'Back to previous …"
      ]
     },
     "metadata": {},
     "output_type": "display_data"
    }
   ],
   "source": [
    "plt.figure();\n",
    "sns.boxplot(data=tips['total_bill']);\n",
    "plt.title('Bills distribution');"
   ]
  },
  {
   "cell_type": "markdown",
   "metadata": {},
   "source": [
    "### Grouped graphs in seaborn"
   ]
  },
  {
   "cell_type": "code",
   "execution_count": 14,
   "metadata": {},
   "outputs": [
    {
     "data": {
      "application/vnd.jupyter.widget-view+json": {
       "model_id": "ba1f9aa261e0411fa05c21fb7b13d8bb",
       "version_major": 2,
       "version_minor": 0
      },
      "text/plain": [
       "Canvas(toolbar=Toolbar(toolitems=[('Home', 'Reset original view', 'home', 'home'), ('Back', 'Back to previous …"
      ]
     },
     "metadata": {},
     "output_type": "display_data"
    }
   ],
   "source": [
    "# Boxplot using the smoker classifier\n",
    "plt.figure();\n",
    "sns.boxplot(x=tips['smoker'], y=tips['tip']);\n",
    "plt.title('Tipping in smokers vs non smokers');"
   ]
  },
  {
   "cell_type": "code",
   "execution_count": 15,
   "metadata": {},
   "outputs": [
    {
     "data": {
      "application/vnd.jupyter.widget-view+json": {
       "model_id": "ba712a350da44361b19b820f127022c7",
       "version_major": 2,
       "version_minor": 0
      },
      "text/plain": [
       "Canvas(toolbar=Toolbar(toolitems=[('Home', 'Reset original view', 'home', 'home'), ('Back', 'Back to previous …"
      ]
     },
     "metadata": {},
     "output_type": "display_data"
    }
   ],
   "source": [
    "# Boxplot using time of day\n",
    "plt.figure();\n",
    "sns.boxplot(x=tips['day'], y=tips['tip']);\n",
    "plt.title('Tipping per day of the week');"
   ]
  },
  {
   "cell_type": "code",
   "execution_count": 16,
   "metadata": {},
   "outputs": [
    {
     "data": {
      "application/vnd.jupyter.widget-view+json": {
       "model_id": "ea54ec90c4d64c82a6b394a0f5ef9e45",
       "version_major": 2,
       "version_minor": 0
      },
      "text/plain": [
       "Canvas(toolbar=Toolbar(toolitems=[('Home', 'Reset original view', 'home', 'home'), ('Back', 'Back to previous …"
      ]
     },
     "metadata": {},
     "output_type": "display_data"
    },
    {
     "data": {
      "text/plain": [
       "Text(0.5, 1.0, 'Tips as a function of the total bill')"
      ]
     },
     "execution_count": 16,
     "metadata": {},
     "output_type": "execute_result"
    }
   ],
   "source": [
    "# Finally, a seaborn scatterplot\n",
    "plt.figure()\n",
    "sns.scatterplot(x=tips['total_bill'], y=tips['tip'])\n",
    "plt.title('Tips as a function of the total bill')"
   ]
  },
  {
   "cell_type": "code",
   "execution_count": null,
   "metadata": {},
   "outputs": [],
   "source": []
  }
 ],
 "metadata": {
  "kernelspec": {
   "display_name": "Python 3",
   "language": "python",
   "name": "python3"
  },
  "language_info": {
   "codemirror_mode": {
    "name": "ipython",
    "version": 3
   },
   "file_extension": ".py",
   "mimetype": "text/x-python",
   "name": "python",
   "nbconvert_exporter": "python",
   "pygments_lexer": "ipython3",
   "version": "3.8.5"
  },
  "toc-autonumbering": true
 },
 "nbformat": 4,
 "nbformat_minor": 4
}
