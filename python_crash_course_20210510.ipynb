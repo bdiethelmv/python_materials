{
 "cells": [
  {
   "cell_type": "code",
   "execution_count": 1,
   "metadata": {},
   "outputs": [],
   "source": [
    "#!/usr/bin/python3\n",
    "## September 27 2020\n",
    "## Author: Benjamin Diethelm-Varela\n",
    "## Crash course in python for data science"
   ]
  },
  {
   "cell_type": "markdown",
   "metadata": {},
   "source": [
    "# FOREWORD\n",
    "\n",
    "This crash course covers fundamental concepts, syntax, and examples of the python 3 programming language\n",
    "\n",
    "I hope that, after reading through this guide, you may have learned a thing or two about Python\n",
    "\n",
    "## SOURCES AND INSPIRATION USED TO WRITE THIS GUIDE  \n",
    "\n",
    " Jay Lacroix (youtube.com/learnlinuxtv)\n",
    " \n",
    " Data Science from Scratch (O'Reilly Books)\n",
    " \n",
    " Tony Staunton - Basic Python Course (skillshare.com)\n",
    " \n",
    "\n",
    "## RECOMMENDED DOCUMENTATION\n",
    "Official python documentation and tutorial\n",
    "    - www.python.org\n",
    "    - Documentation at: docs.python.org/3/\n",
    "    - Tutorials at: docs.python.org/3/tutorials\n",
    "\n",
    "www.learnpython.org\n",
    "\n",
    "The Hitchhiker's Guide to Python - docs.python-guide.org\n",
    "\n",
    "Learn Python 3 the Hard Way - Zed A. Shaw\n",
    "\n",
    "Python 3 Object-oriented programming - Dusty Phillips\n",
    "\n",
    "## COMMENTS, INDENTATION, AND STYLE\n",
    "Refer to the Style Guide for Python Code for proper style.\n",
    "\n",
    "Comments such  are placed by starting the line with a hashbang (#, also called shebang or hashtag). The interpreter ignores comments. The exception is in the first line, where a hashbang is specifically used to declare the interpreter. Pythonic guidelines recommend limiting comment line length to about 72 characters.\n",
    "\n",
    "Indentation is common in Python. It is officially recommended that four spaces are used instead of a \"tab\" when using indentation."
   ]
  },
  {
   "cell_type": "markdown",
   "metadata": {},
   "source": [
    "# PRINT FUNCTION\n",
    "One of the most common procedures in python is instructing it to print some kind of output into the screen. This is most often done with the print method."
   ]
  },
  {
   "cell_type": "code",
   "execution_count": 2,
   "metadata": {},
   "outputs": [
    {
     "name": "stdout",
     "output_type": "stream",
     "text": [
      "Hello\n"
     ]
    }
   ],
   "source": [
    "print('Hello') "
   ]
  },
  {
   "cell_type": "markdown",
   "metadata": {},
   "source": [
    "# DATA TYPES\n",
    "There are various types of data in python, all of which are recognized as objects in the programming language. The most important are: strings, integers, floats (numbers with decimal figures), and booleans. Advanced data types are lists, dictionaries, functions, and classes. \n",
    "\n",
    "The type of a piece of data can be queried with the type() method."
   ]
  },
  {
   "cell_type": "code",
   "execution_count": 3,
   "metadata": {},
   "outputs": [
    {
     "name": "stdout",
     "output_type": "stream",
     "text": [
      "<class 'int'>\n",
      "<class 'float'>\n",
      "<class 'str'>\n",
      "<class 'str'>\n",
      "<class 'bool'>\n",
      "<class 'list'>\n",
      "<class 'dict'>\n",
      "This is\n",
      "a multiline\n",
      "string\n",
      "cuz\n",
      "why not\n"
     ]
    }
   ],
   "source": [
    "# This is an integer\n",
    "print(type(3))\n",
    "# This is a float\n",
    "print(type(3.5))\n",
    "# This is a string\n",
    "print(type('3.5'))\n",
    "# This is a string\n",
    "print(type('three point five'))\n",
    "# This is a boolean (called logical in some other languages)\n",
    "print(type(True))\n",
    "# This is a list \n",
    "print(type(['pepe', 'juan', 'pablo']))\n",
    "# This is a dictionary\n",
    "print(type({'pepe': 'fool', 'pablo': 'fooler'})) \n",
    "\n",
    "# Data types can be assigned to arbitrarily-named variables\n",
    "\n",
    "# This variable is an integer\n",
    "variable1 = 3 \n",
    "\n",
    "# This variable is a string\n",
    "variable2 = 'three' "
   ]
  },
  {
   "cell_type": "markdown",
   "metadata": {},
   "source": [
    "## STRINGS\n",
    "Strings are collections of characters. They can be enclosed in either single or double quotes. This doesn't generate issues as long as the quotes match."
   ]
  },
  {
   "cell_type": "code",
   "execution_count": null,
   "metadata": {},
   "outputs": [],
   "source": [
    "string1 = 'My name is N00b'\n",
    "string2 = \"Your name is Bob\"\n",
    "\n",
    "# This would generate an error if uncommented\n",
    "#string3 = 'Her name is Polka\"\n",
    "\n",
    "# Multiline strings are created by using triple double-quotes\n",
    "\n",
    "string4 = \"\"\"This is\n",
    "a multiline\n",
    "string\n",
    "cuz\n",
    "why not\"\"\"\n",
    "print(string4)"
   ]
  },
  {
   "cell_type": "markdown",
   "metadata": {},
   "source": [
    "# OBJECTS AND METHODS\n",
    "As said above, all data types in python are known as objects. All objects have functions associated to them that are specific to that object type. These are known as methods."
   ]
  },
  {
   "cell_type": "markdown",
   "metadata": {},
   "source": [
    "# LISTS\n",
    "A list is an ordered collection of items, be it strings, integers, floats, or any other.\n",
    "\n",
    "They can be assigned to any variable."
   ]
  },
  {
   "cell_type": "code",
   "execution_count": 2,
   "metadata": {},
   "outputs": [
    {
     "name": "stdout",
     "output_type": "stream",
     "text": [
      "John\n",
      "George\n"
     ]
    }
   ],
   "source": [
    "people = ['donald', 'alberto', 'joe']\n",
    "\n",
    "# Lists are stored in memory. If a variable is linked to it, the variable accesses the list whenever called\n",
    "\n",
    "# A list can contain a combination of data types, such as integers,floats and numbers. it can even contain \n",
    "# lists and dictionaries inside\n",
    "\n",
    "list1 = [1, 'orange', 'moths', 3.5, ['pedro', 'juan', 'diego']]\n",
    "\n",
    "ages = ['emma', 35, 'barbara', 84, 'pablo', 35]\n",
    "\n",
    "# Lists inside lists are known as nested lists\n",
    "\n",
    "testing_team = ['John', 'Paul', 'George']\n",
    "\n",
    "sales_team = ['Emma', 'Paco', 'Luis']\n",
    "\n",
    "employees = [testing_team, sales_team]\n",
    "\n",
    "# List elements can be accessed with positional arguments, from left to right, starting at zero\n",
    "\n",
    "print(testing_team[0])\n",
    "\n",
    "# Negative values can be used to access list items in reverse, where -1 is the position for the last item\n",
    "\n",
    "print(testing_team[-1])\n",
    "\n",
    "# A list slice can be created which grabs an interval of the list denoted by positional arguments and converts \n",
    "# that interval into a new list\n",
    "\n",
    "# When slicing, the element at the end of the interval is not sliced. In the case above, the slice consists of \n",
    "# items 0 and 1."
   ]
  },
  {
   "cell_type": "markdown",
   "metadata": {},
   "source": [
    "## LIST MANIPULATION AND SUBSETTING\n",
    "Selections of elements in a list are known as subsetting.\n",
    "\n",
    "Modifications made to the elements of a list are collectively known as list manipulation.\n",
    "\n",
    "Indices begin at zero, therefore the third element is accessed with index 2.\n",
    "\n",
    "When slicing, the end element of the slice is not included."
   ]
  },
  {
   "cell_type": "code",
   "execution_count": 5,
   "metadata": {},
   "outputs": [
    {
     "name": "stdout",
     "output_type": "stream",
     "text": [
      "['John', 'Paul']\n",
      "['John', 'Ringo', 'George']\n",
      "George\n",
      "Ringo\n",
      "['Emma', 'Paco', 'Luis', 'Donna']\n",
      "Ringo\n",
      "['Paco', 'Luis', 'Donna']\n",
      "['pepe', 'juan', 'ana']\n",
      "['ana', 'maria luisa', 'jimmy']\n",
      "['doom', 'quake', 'sim city', 'duke nukem', 'descent', 'x-com']\n"
     ]
    }
   ],
   "source": [
    "print(testing_team[0:2])\n",
    "\n",
    "# Lists can be modified with positional arguments\n",
    "\n",
    "testing_team[1] = 'Ringo'\n",
    "print(testing_team)\n",
    "\n",
    "# Negative indices allow accessing a list from the end and backwards. -1 is the last element\n",
    "\n",
    "print(testing_team[-1])\n",
    "print(testing_team[-2])\n",
    "\n",
    "# Lists can also be modified by using concatenation\n",
    "\n",
    "sales_team = sales_team + ['Donna']\n",
    "\n",
    "print(sales_team)\n",
    "\n",
    "# The delete function allows removing items from a list\n",
    "\n",
    "del(sales_team[0])\n",
    "testing_experts = testing_team[0:2]\n",
    "\n",
    "testing_team[1] = 'Ringo'\n",
    "print(testing_team[1])\n",
    "\n",
    "\n",
    "print(sales_team)\n",
    "\n",
    "# If the start number in a slice is not included, the slice begins at index 0\n",
    "\n",
    "family = ['pepe', 'juan', 'ana', 'maria luisa', 'jimmy']\n",
    "print(family[:3])\n",
    "\n",
    "# If the end number in a slice is not included, the slice contains items up to \n",
    "#and including the last element in the list\n",
    "\n",
    "print(family[2:])\n",
    "\n",
    "# Adding together two lists simply pastes their contents together into a new list\n",
    "\n",
    "games1 = ['doom', 'quake', 'sim city']\n",
    "games2 = ['duke nukem', 'descent', 'x-com']\n",
    "allgames = games1 + games2\n",
    "print(allgames)"
   ]
  },
  {
   "cell_type": "code",
   "execution_count": 6,
   "metadata": {},
   "outputs": [
    {
     "name": "stdout",
     "output_type": "stream",
     "text": [
      "['allison', 'charles', 'koketa', 'tamara']\n",
      "[1, 2, 3, 4, 5, 7]\n",
      "Sorting a mixed list is not supported\n"
     ]
    }
   ],
   "source": [
    "# Lists can be sorted with the sorted() method. For strings, it sorts alphabetically.\n",
    "# For numbers, it sorts from lower to higher. Not supported in lists containing mixed data\n",
    "\n",
    "mynames = ['charles', 'koketa', 'tamara', 'allison']\n",
    "mynums = [3, 4, 7, 2, 1, 5]\n",
    "myall = ['elvis', 'alderaan', 2, 3, 5, 'javier']\n",
    "\n",
    "my_n_sort = sorted(mynames)\n",
    "print(my_n_sort)\n",
    "my_nu_sort = sorted(mynums)\n",
    "print(my_nu_sort)\n",
    "try:\n",
    "    my_a_sort = sorted(myall)\n",
    "    print(my_a_sort)\n",
    "except:\n",
    "    print('Sorting a mixed list is not supported')"
   ]
  },
  {
   "cell_type": "code",
   "execution_count": 7,
   "metadata": {},
   "outputs": [
    {
     "name": "stdout",
     "output_type": "stream",
     "text": [
      "['tamara', 'koketa', 'charles', 'allison']\n",
      "[1, 2, 3, 4, 6]\n"
     ]
    }
   ],
   "source": [
    "# Reverse sorting is also possible. Also, the .sort() method is built into lists. sort()\n",
    "# permanently modifies a list\n",
    "\n",
    "my_n_revsort = sorted(mynames, reverse = True)\n",
    "print(my_n_revsort)\n",
    "\n",
    "po = [4, 6, 2, 3, 1]\n",
    "po.sort()\n",
    "print(po)"
   ]
  },
  {
   "cell_type": "code",
   "execution_count": 8,
   "metadata": {},
   "outputs": [
    {
     "name": "stdout",
     "output_type": "stream",
     "text": [
      "[0, 1, 4, 9, 16, 25, 36, 49, 64, 81]\n",
      "[1, 2, 5, 10, 17, 26, 37, 50, 65, 82]\n",
      "[(0, 0), (0, 1), (0, 4), (0, 9), (0, 16), (0, 25), (0, 36), (0, 49), (0, 64), (0, 81), (1, 0), (1, 1), (1, 4), (1, 9), (1, 16), (1, 25), (1, 36), (1, 49), (1, 64), (1, 81)]\n"
     ]
    }
   ],
   "source": [
    "# List comprehensions involve transforming a list into another list by providing an instruction to modify\n",
    "# its elements\n",
    "\n",
    "squares = [x * x for x in range(10)]\n",
    "print(squares)\n",
    "\n",
    "squares_modified = [x + 1 for x in squares]\n",
    "print(squares_modified)\n",
    "\n",
    "stupid_pairs = [(x,y)\n",
    "               for x in range(2)\n",
    "               for y in squares]\n",
    "print(stupid_pairs)"
   ]
  },
  {
   "cell_type": "code",
   "execution_count": 9,
   "metadata": {},
   "outputs": [
    {
     "name": "stdout",
     "output_type": "stream",
     "text": [
      "[0, 1, 2, 3, 4, 5, 6, 7, 8, 9, 10, 11, 12, 13, 14, 15, 16, 17, 18, 19, 20, 21, 22, 23, 24, 25, 26, 27, 28, 29, 30, 31, 32, 33, 34, 35, 36, 37, 38, 39, 40, 41, 42, 43, 44, 45, 46, 47, 48, 49, 50, 51, 52, 53, 54, 55, 56, 57, 58, 59, 60, 61, 62, 63, 64, 65, 66, 67, 68, 69, 70, 71, 72, 73, 74, 75, 76, 77, 78, 79, 80, 81, 82, 83, 84, 85, 86, 87, 88, 89, 90, 91, 92, 93, 94, 95, 96, 97, 98, 99]\n"
     ]
    }
   ],
   "source": [
    "# Lists can get a bit unwieldy\n",
    "\n",
    "reasonable_range = [x for x in range(100)]\n",
    "print(reasonable_range)\n",
    "\n",
    "dumb_range = [x for x in range(1000000)]\n",
    "# print(dumb_range) This would actually generate an error cuz too much data"
   ]
  },
  {
   "cell_type": "markdown",
   "metadata": {},
   "source": [
    "# TUPLES\n",
    "Tuples are a similar type of data structure as compared to lists; they consist of ordered collections of any type of variable.\n",
    "\n",
    "The main difference is that tuples cannot be altered. Any modification the likes of which is done in lists will result in an error. Tuples are thus inmutable.\n",
    "\n",
    "Some reasons for using tuples is in case a collection of non-mutable objects might be required for work, and also tuples employ less memory than lists."
   ]
  },
  {
   "cell_type": "code",
   "execution_count": 10,
   "metadata": {},
   "outputs": [
    {
     "name": "stdout",
     "output_type": "stream",
     "text": [
      "('donald', 38, ['puerquito', 43], 'maribel', True)\n",
      "Cannot modify a tuple\n"
     ]
    }
   ],
   "source": [
    "tuple1 = ('donald', 38, ['puerquito', 43], 'maribel', True)\n",
    "print(tuple1)\n",
    "\n",
    "try:\n",
    "    tuple1[0] = 'billy'\n",
    "except:\n",
    "    print('Cannot modify a tuple')"
   ]
  },
  {
   "cell_type": "markdown",
   "metadata": {},
   "source": [
    "# DICTIONARIES\n",
    "Dictionaries are types of data structure that store key-value pairs.\n",
    "\n",
    "Each key on the dictionary is associated to a specific value."
   ]
  },
  {
   "cell_type": "code",
   "execution_count": 11,
   "metadata": {},
   "outputs": [
    {
     "name": "stdout",
     "output_type": "stream",
     "text": [
      "Eljohnny\n",
      "None\n",
      "technician\n",
      "{'Name': 'Eljohnny', 'Age': 994, 'Gender': 'male', 'Job': 'technician'}\n",
      "4\n",
      "994\n"
     ]
    }
   ],
   "source": [
    "dictionary1 = {'Name': 'Eljohnny', 'Age': 994, 'Gender': 'male'}\n",
    "print(dictionary1['Name'])\n",
    "\n",
    "# The syntax above looks up the value associated with the provided key\n",
    "#and prints it\n",
    "# Keys can be queried using the get method so that an error is not returned for a non-existing key\n",
    "print(dictionary1.get('Job'))\n",
    "\n",
    "# New key-value pairs can be added with the following syntax\n",
    "\n",
    "dictionary1['Job'] = 'technician'\n",
    "# Using the above method with an existig key replaces it with the new value\n",
    "print(dictionary1.get('Job'))\n",
    "print(dictionary1)\n",
    "print(len(dictionary1))\n",
    "# The len() function above informs how many elements are in the dictionary\n",
    "print(dictionary1['Age'])"
   ]
  },
  {
   "cell_type": "code",
   "execution_count": 12,
   "metadata": {},
   "outputs": [
    {
     "name": "stdout",
     "output_type": "stream",
     "text": [
      "dict_keys(['Name', 'Age', 'Gender', 'Job'])\n",
      "dict_values(['Eljohnny', 994, 'male', 'technician'])\n",
      "dict_items([('Name', 'Eljohnny'), ('Age', 994), ('Gender', 'male'), ('Job', 'technician')])\n"
     ]
    }
   ],
   "source": [
    "# We can retrieve keys, values, or whole key-value pairs from dictionaries\n",
    "print(dictionary1.keys())\n",
    "print(dictionary1.values())\n",
    "print(dictionary1.items())\n",
    "# The last method (items()) returns a list of tuples consisting of all key-value pairs"
   ]
  },
  {
   "cell_type": "markdown",
   "metadata": {},
   "source": [
    "# SETS\n",
    "A set represents a collection of distinct elements. They are quick to check, and they don't contain repeated elements."
   ]
  },
  {
   "cell_type": "code",
   "execution_count": 13,
   "metadata": {},
   "outputs": [
    {
     "name": "stdout",
     "output_type": "stream",
     "text": [
      "{1}\n",
      "{1, 2, 'chorgle'}\n"
     ]
    },
    {
     "data": {
      "text/plain": [
       "False"
      ]
     },
     "execution_count": 13,
     "metadata": {},
     "output_type": "execute_result"
    }
   ],
   "source": [
    "set1 = set()\n",
    "set1.add(1)\n",
    "print(set1)\n",
    "set1.add(1)\n",
    "set1.add(2)\n",
    "set1.add('chorgle')\n",
    "set1.add('chorgle')\n",
    "print(set1)\n",
    "'brogle' in set1"
   ]
  },
  {
   "cell_type": "code",
   "execution_count": 14,
   "metadata": {},
   "outputs": [
    {
     "name": "stdout",
     "output_type": "stream",
     "text": [
      "{'jaime', 'john', 'jeremias', 'juan', 'jorge'}\n"
     ]
    }
   ],
   "source": [
    "# When combining lists into a set, only distinct elements will join the set\n",
    "list_a = ['juan', 'john', 'jorge']\n",
    "list_b = ['jaime', 'john', 'jeremias']\n",
    "set2 = set(list_a + list_b)\n",
    "print(set2)"
   ]
  },
  {
   "cell_type": "markdown",
   "metadata": {},
   "source": [
    "# WHITESPACE AND INDENTATION\n",
    "Blocks of code are separated by indents, so care must be taken to be thorough with them. \n",
    "Inside data structures (functions, dictionaries, lists, etc.), spaces can be used with no issue; they are simply ignored by the interpreter.\n",
    "\n",
    "Spaces inside of a string are printed, so their use does make a difference in this situation."
   ]
  },
  {
   "cell_type": "code",
   "execution_count": 15,
   "metadata": {},
   "outputs": [
    {
     "name": "stdout",
     "output_type": "stream",
     "text": [
      "Item will be printed\n",
      "1\n",
      "Item will be printed\n",
      "2\n",
      "Item will be printed\n",
      "3\n",
      "Item will be printed\n",
      "4\n",
      "Item will be printed\n",
      "5\n",
      "Item will be printed\n",
      "6\n",
      "John\n",
      "Paul\n",
      "George\n",
      "Ringo\n",
      "The book is about 2 friends who go on 3 vacation trips.\n"
     ]
    }
   ],
   "source": [
    "list1 = [1, 2, 3, 4, 5, 6] # An equivalent way of writing the same list \n",
    "#is displayed on the commented line belowi\n",
    "#list1=[1,2,3,4,5,6]\n",
    "\n",
    "for item in list1:\n",
    "    print('Item will be printed') # The indentation marks the \n",
    "#beginning of the \"item\" block of code\n",
    "    print(item)\n",
    "\n",
    "# Whitespaces, indents and new lines can be used without issue inside \n",
    "#structures delimited by parentheses and brackets\n",
    "# Breakdown into multiple lines is often recommended for better code \n",
    "#readability \n",
    "\n",
    "list2 = [ 'john',\n",
    "    'paul',\n",
    "    'george',\n",
    "    'ringo'\n",
    "    ]\n",
    "\n",
    "for item in list2:\n",
    "    print(item.title())\n",
    "\n",
    "# When a statement not delimited by parentheses needs to continue on a \n",
    "#separate line, a backlash indicates that said line is a continuation \n",
    "#of the previous one\n",
    "\n",
    "profile = 'The book is about ' + str(list1[1]) + \\\n",
    "    ' friends who go on ' + str(list1[2]) + \\\n",
    "    ' vacation trips.'\n",
    "print(profile)"
   ]
  },
  {
   "cell_type": "markdown",
   "metadata": {},
   "source": [
    "# EXCEPTIONS\n",
    "When an error occurs, python will crash. Exceptions can be created to instruct python how to handle an error and thus continue working. This is done through a try-except block"
   ]
  },
  {
   "cell_type": "code",
   "execution_count": 3,
   "metadata": {},
   "outputs": [
    {
     "name": "stdout",
     "output_type": "stream",
     "text": [
      "You can't divide by zero.\n",
      "No can do.\n",
      "You screwed up again\n",
      "integer division or modulo by zero\n"
     ]
    }
   ],
   "source": [
    "try:\n",
    "    print(5/0)\n",
    "except ZeroDivisionError:\n",
    "    print('You can\\'t divide by zero.')\n",
    "\n",
    "# In order to guard against any possible error, the except block can be\n",
    "#setup without any argument\n",
    "\n",
    "try:\n",
    "    print(5//0)\n",
    "except:\n",
    "    print('No can do.')\n",
    "\n",
    "# We can also capture the error as an alias and then print it for\n",
    "#troubleshooting\n",
    "\n",
    "try:\n",
    "    print(5//0)\n",
    "except ZeroDivisionError as err:\n",
    "    print('You screwed up again')\n",
    "    print(err)"
   ]
  },
  {
   "cell_type": "markdown",
   "metadata": {},
   "source": [
    "# USER INPUT\n",
    "The input function allows storing user input as a variable."
   ]
  },
  {
   "cell_type": "code",
   "execution_count": 4,
   "metadata": {},
   "outputs": [
    {
     "name": "stdout",
     "output_type": "stream",
     "text": [
      "Please enter your name\n",
      "\n"
     ]
    },
    {
     "name": "stdin",
     "output_type": "stream",
     "text": [
      " dudu\n"
     ]
    },
    {
     "name": "stdout",
     "output_type": "stream",
     "text": [
      "Hello Dudu\n"
     ]
    },
    {
     "name": "stdin",
     "output_type": "stream",
     "text": [
      "Please enter your favorite color\n",
      " pink\n"
     ]
    },
    {
     "name": "stdout",
     "output_type": "stream",
     "text": [
      "Your favorite color is pink\n"
     ]
    },
    {
     "name": "stdin",
     "output_type": "stream",
     "text": [
      "Enter your age\n",
      " butterflies\n"
     ]
    },
    {
     "name": "stdout",
     "output_type": "stream",
     "text": [
      "I asked for your age. In numbers. You clown\n"
     ]
    }
   ],
   "source": [
    "print('Please enter your name\\n')\n",
    "name1 = input()\n",
    "print('Hello ' + name1.title())\n",
    "\n",
    "# An input statement can be made so that it by itself contains the text \n",
    "#string to be shown to the user instead of having to print it in a \n",
    "#separate print function\n",
    "\n",
    "color2 = input('Please enter your favorite color\\n')\n",
    "print('Your favorite color is ' + color2)\n",
    "\n",
    "# Bear in mind that an input statement always produces a string. If \n",
    "#the user input needs to be subject to calculus, it must be coerced \n",
    "#into an integer or float\n",
    "# This is a good opportunity to add an exception in case the user \n",
    "#inputs a string that is not convertible into an integer\n",
    "\n",
    "age = input('Enter your age\\n')\n",
    "try:\n",
    "    age_sum = int(age) + 2\n",
    "    print('In 2 more years you will be ' + str(age_sum) + ' years old.')\n",
    "except ValueError:\n",
    "    print('I asked for your age. In numbers. You clown')"
   ]
  },
  {
   "cell_type": "markdown",
   "metadata": {},
   "source": [
    "# GENERATORS AND ITERATORS\n",
    "A generator is a code block that iterates through a large data structure and acquires only data relevant to the specified conditions.\n",
    "A common way to produce a generator is through the yield operator."
   ]
  },
  {
   "cell_type": "code",
   "execution_count": null,
   "metadata": {},
   "outputs": [],
   "source": [
    "def funct1(x):\n",
    "    ran = [z for z in range(x)]\n",
    "    for item in ran:\n",
    "        while item < 5:\n",
    "            print(item)\n",
    "\n",
    "funct1(2)"
   ]
  },
  {
   "cell_type": "code",
   "execution_count": null,
   "metadata": {},
   "outputs": [],
   "source": [
    "ran = [z for z in range(4)]\n",
    "print(ran)"
   ]
  },
  {
   "cell_type": "markdown",
   "metadata": {},
   "source": [
    "# MODULE IMPORTING\n",
    "Downloaded packages (usually installed from the pip package manager) and user-made functions and classes can be imported into a script.\n",
    "Importing entire modules (i.e. from <filename> import *) is poor practice in terms of code readability, and so it's never encouraged."
   ]
  },
  {
   "cell_type": "code",
   "execution_count": null,
   "metadata": {},
   "outputs": [],
   "source": [
    "# Import matplotlib.pyplot \n",
    "# This imports the plotting function from the data science package matplotlib. Due to the long name, it is \n",
    "# much more common to import it using an alias, as follows:\n",
    "import matplotlib.pyplot as plt\n",
    "\n",
    "# from <filename> import function_A, function_B \n",
    "# A filename needs to be indicated for a user-created module. Multiple functions separated\n",
    "# by commas can be imported"
   ]
  },
  {
   "cell_type": "markdown",
   "metadata": {},
   "source": [
    "# IF STATEMENTS\n",
    "An if statement is a command that takes different actions depending on  what conditions are met. In the example below the if statement is combined with user input. This is common practice; the program decides \n",
    "what to do based on what the user does.\n",
    "\n",
    "If statements are most often paired with an else block and/or an elif \n",
    "block to give the program options for various scenarios. The example below is also paired with an except block to ensure it doesn't break if the user doesn't follow instructions\n",
    "\n",
    "Multiple if and elif blocks can be added. Multiple if blocks are independent from one another, while elif blocks are only checked if the preceding if block fails."
   ]
  },
  {
   "cell_type": "code",
   "execution_count": null,
   "metadata": {},
   "outputs": [],
   "source": [
    "variable1 = input('Enter a number between 1 and 10\\n')\n",
    "try:\n",
    "    if int(variable1) < 10:\n",
    "        print('Correct')\n",
    "    elif int(variable1) == 10:\n",
    "        print('Very much correct. Just at the limit')\n",
    "    else:\n",
    "        print('I said between 1 and 10. Spank yourself and try again.')\n",
    "except ValueError:\n",
    "    print('I said a number. I am disappointed.')\n"
   ]
  },
  {
   "cell_type": "code",
   "execution_count": null,
   "metadata": {},
   "outputs": [],
   "source": [
    "# Break and continue allow adding a logic dimension for loops that adds the possibility of breaking the loop\n",
    "names = ['pork', 'pepa', 'maribel', 'angus']\n",
    "for name in names:\n",
    "    if name != 'angus':\n",
    "        print(name)\n",
    "        continue\n",
    "    if name == 'angus':\n",
    "        break"
   ]
  },
  {
   "cell_type": "markdown",
   "metadata": {},
   "source": [
    "# WHILE LOOPS\n",
    "A while loop is a command that keeps running over and over until some condition activates that cancels it. A good example of while loops occurs in video games. As long as the game runs, a master while loop \n",
    "stays activated.\n",
    "\n",
    "Below is an example of a while loop combined with an else statement block for extra dramatism when the loop ends."
   ]
  },
  {
   "cell_type": "code",
   "execution_count": null,
   "metadata": {},
   "outputs": [],
   "source": [
    "whilevar1 = 10\n",
    "\n",
    "while whilevar1 >= 1:\n",
    "    print(whilevar1)\n",
    "    whilevar1 = whilevar1 - 1\n",
    "else:\n",
    "    print('BOOM')"
   ]
  },
  {
   "cell_type": "markdown",
   "metadata": {},
   "source": [
    "# FOR LOOPS\n",
    "For loops take every instance in a variable and perform the same action on each instance one at a time, element-wise."
   ]
  },
  {
   "cell_type": "code",
   "execution_count": null,
   "metadata": {},
   "outputs": [],
   "source": [
    "fruits = ['oranges', 'apples', 'pears', 'brogle']\n",
    "for f in fruits: \n",
    "    print(f)\n",
    "\n",
    "# The new variable in the for loop (f in this case) is arbitrary\n",
    "# For loops can be performed in lists, dictionaries, strings, etc.\n",
    "# Strings are simply lists of strings, so they can be for looped\n",
    "\n",
    "for letter in 'Strings r cool':\n",
    "    print(letter)\n",
    "\n",
    "# A cool example is shown below where the \"random\" module is imported\n",
    "#to generate for loops with randomized numbers\n",
    "\n",
    "import random\n",
    "counter = random.randint(5, 10)\n",
    "number = 1\n",
    "for i in range(counter):\n",
    "    print(number)\n",
    "    number += 1"
   ]
  },
  {
   "cell_type": "markdown",
   "metadata": {},
   "source": [
    "# FUNCTIONS\n",
    "A function is a rule for taking zero or more input arguments and giving out a specific output."
   ]
  },
  {
   "cell_type": "code",
   "execution_count": null,
   "metadata": {},
   "outputs": [],
   "source": [
    "def function1():\n",
    "    \"\"\"This simple function takes no argument. \n",
    "    It simply prints a greeting when called\"\"\"\n",
    "    print('Hello')\n",
    "function1()\n",
    "function1()\n",
    "\n",
    "def multiplier(x):\n",
    "    \"\"\"This function multiplies the input by 3\"\"\"\n",
    "    return x*3\n",
    "print(multiplier(2))\n",
    "# The type method reveals python recognizes it as a function\n",
    "type(multiplier) \n",
    "\n",
    "\n",
    "# Functions can be assigned into variables and assigned into functions just like any other variable\n",
    "def callfunction(y):\n",
    "    \"\"\"Calls the multiplier function \n",
    "    with any desired argument and \n",
    "    prints it\"\"\"\n",
    "    print(multiplier(y))\n",
    "callfunction(8)\n",
    "\n",
    "# Arguments in a function can take default values. If no input is specified for that argument, \n",
    "# then the default value is taken\n",
    "def divide(a, b=2):\n",
    "    \"\"\"A function that divides \n",
    "    numbers and prints a result\"\"\"\n",
    "    print(a/b)\n",
    "divide(a=4, b=2)\n",
    "divide(a=0)"
   ]
  },
  {
   "cell_type": "markdown",
   "metadata": {},
   "source": [
    "# LOCAL AND GLOBAL VARIABLES\n",
    "Variables which are defined within a function cannot be called upon outside of the context of the function. These are local variables. \n",
    "\n",
    "Variables accessible to the entirety of the script are global variables. A local variable defined in a function can be made global."
   ]
  },
  {
   "cell_type": "code",
   "execution_count": null,
   "metadata": {},
   "outputs": [],
   "source": [
    "def localfunction():\n",
    "    \"\"\"Declare a local variable\"\"\"\n",
    "    dumbmessage = \"Yo dude!\"\n",
    "    print(dumbmessage)\n",
    "localfunction()\n",
    "# print(dumbmessage) # This needs to be commented out because it will \n",
    "#generate an error. \"dumbmessage\" is a local variable. It needs to \n",
    "#declared global in order to be used elsewhere\n",
    "\n",
    "def globalfunction():\n",
    "    \"Declare a global variable\"\"\"\n",
    "    global dumbermessage\n",
    "    dumbermessage = \"Henlo fren!\"\n",
    "    print(dumbermessage)\n",
    "\n",
    "globalfunction()\n",
    "print(dumbermessage)"
   ]
  },
  {
   "cell_type": "markdown",
   "metadata": {},
   "source": [
    "# METHODS\n",
    "Methods are functions that belong to objects of a type. For example, the \"string\" object comes with the \"title\" method.\n",
    "\n",
    "Built-in python functions like print are not methods because they are not specific to any object."
   ]
  },
  {
   "cell_type": "markdown",
   "metadata": {},
   "source": [
    "## List methods\n",
    "Some methods are index, count, and append."
   ]
  },
  {
   "cell_type": "code",
   "execution_count": 6,
   "metadata": {},
   "outputs": [
    {
     "name": "stdout",
     "output_type": "stream",
     "text": [
      "6\n",
      "2\n",
      "['moths', 'chocolate', 3.14, 'pi', 'pie', 666, 'texas', 666, 'raspberry']\n",
      "Joe trump\n",
      "Joe Trump\n",
      "DONALD BIDEN\n",
      "donald biden\n",
      "Eric Biden\n",
      "4\n",
      "1\n"
     ]
    }
   ],
   "source": [
    "random_stuff = ['moths', 'chocolate', 3.14, 'pi', 'pie', 666, 'texas', 666]\n",
    "print(random_stuff.index('texas')) # Return the positional argument of the element\n",
    "print(random_stuff.count(666)) # Returns an integer representing the number of instances of this element on the list\n",
    "random_stuff.append('raspberry')\n",
    "print(random_stuff)\n",
    "\n",
    "# String methods\n",
    "# Some methods are capitalize, title, lower, upper, replace\n",
    "candidate1 = 'joe trump'\n",
    "print(candidate1.capitalize()) # Capitalizes only first word\n",
    "print(candidate1.title()) # Capitalizes every word\n",
    "\n",
    "candidate2 = 'Donald Biden'\n",
    "print(candidate2.upper()) # Capitalizes every letter\n",
    "print(candidate2.lower()) # Lowercases every letter\n",
    "print(candidate2.replace('Donald', 'Eric')) # Replaces the first argument for the second argument\n",
    "\n",
    "# Common methods\n",
    "# Some methods can be used with several object types, such as index\n",
    "\n",
    "print(candidate1.index('t'))\n",
    "print(random_stuff.index('chocolate'))"
   ]
  },
  {
   "cell_type": "markdown",
   "metadata": {},
   "source": [
    "# CLASSES\n",
    "Classes open the door for object-oriented programming in python.\n",
    "\n",
    "A class is like a blueprint for an object, that allows to create several instances of said object. Think of it as something like an assembly line. While every instance of the object will be different, all objects of the same class will share key attributes.\n",
    "\n",
    "All classes are created by using the class statement followed by the name of the class. Then a mandatory function to be defined is the init function, which initializes the attributes of that class. The self attribute is required in all cases (i.e. any object or situation has a \"self\", apart from any other features.  Then for each attribute, a self.attribute variable must be passed that links the \"self\" attribute to each of the other attributes of the class.\n",
    "\n",
    "A very good example of a class is a videogame character. In a videogame written in python, all characters are likely different instances of one (or several) classes, such as the following one:"
   ]
  },
  {
   "cell_type": "code",
   "execution_count": null,
   "metadata": {},
   "outputs": [],
   "source": [
    "class Gamecharacter:\n",
    "    \"\"\"A class to simulate a videogame character\"\"\"\n",
    "    def __init__(self, name, level, character_class):\n",
    "        self.name = name\n",
    "        self.level = level\n",
    "        self.character_class = character_class\n",
    "\n",
    "# The following are two instances of the Gamecharacter class. These are so-called \"objects\"\n",
    "\n",
    "player1 = Gamecharacter('Maxim', 80, 'warrior')\n",
    "player2 = Gamecharacter('Selan', 82, 'mage')\n",
    "\n",
    "# Multiple functions can be assigned to a class. However, as it is, the attributes can already be \n",
    "# retrieved as desired\n",
    "\n",
    "print(player1.name)\n",
    "print(player2.character_class)\n",
    "\n",
    "# Now let's expand the class with actual functions so to create what\n",
    "# might be the early framework of a videogame\n",
    "\n",
    "class PlayerCharacter:\n",
    "    \"\"\"A class to simulate the player character\"\"\"\n",
    "    def __init__(self, name, hp, mp, level, character_class):\n",
    "        self.name = name\n",
    "        self.hp = hp\n",
    "        self.mp = mp\n",
    "        self.level = level\n",
    "        self.character_class = character_class\n",
    "\n",
    "    def standard_attack(self, target):\n",
    "        print(self.name + ' attacks ' + target.name)\n",
    "        dmg = random.randint(5, 20)\n",
    "        print(self.name + ' deals ' + str(dmg) + ' damage to ' \n",
    "+ target.name)\n",
    "        target.hp -= dmg\n",
    "        print(target.name + ' has ' + str(target.hp) + ' HP left') \n",
    "\n",
    "class EnemyCharacter:\n",
    "    \"\"\"A class to simulate an enemy character\"\"\"\n",
    "    def __init__(self, name, hp, mp, level, character_class):\n",
    "        self.name = name\n",
    "        self.hp = hp\n",
    "        self.mp = mp\n",
    "        self.level = level\n",
    "        self.character_class = character_class\n",
    "\n",
    "    def standard_attack(self, target):\n",
    "        print(self.name + ' attacks ' + target.name)\n",
    "        dmg = random.randint(3,10)\n",
    "        print(self.name + ' deals ' + str(dmg) + ' damage to ' + \n",
    "target.name)\n",
    "        target.hp -= dmg\n",
    "        print(target.name + ' has ' + str(target.hp) + ' HP left')\n",
    "\n",
    "player1 = PlayerCharacter('N00bStore', 100, 15, 8, 'ranger')\n",
    "enemy1 = EnemyCharacter('Scoundrel', 35, 5, 5, 'rogue')\n",
    "\n",
    "player1.standard_attack(enemy1)\n",
    "enemy1.standard_attack(player1)"
   ]
  },
  {
   "cell_type": "markdown",
   "metadata": {},
   "source": [
    "## INHERITANCE\n",
    "Inheritance allows creating sub-classes that share all the attributes and moldules of an existing class. This allows avoiding creating completely separate classes when two subtypes of something are needed."
   ]
  },
  {
   "cell_type": "code",
   "execution_count": null,
   "metadata": {},
   "outputs": [],
   "source": [
    "import random\n",
    "\n",
    "class RPGCharacter():\n",
    "    \"\"\"A class to simulate a character in an RPG game\"\"\"\n",
    "    def __init__(self, name, char_class, vit, strn, intl, lvl):\n",
    "        self.name = name\n",
    "        self.char_class = char_class\n",
    "        self.vit = vit\n",
    "        self.strn = strn\n",
    "        self.intl = intl\n",
    "        self.lvl = lvl\n",
    "        self.hp = 100 + vit*10 + lvl*5\n",
    "        self.mp = 20 + intl*5\n",
    "        \n",
    "    def character_profile(self):\n",
    "        \"\"\"Prints a profile of the character's attributes\"\"\"\n",
    "        print('Name: ' + self.name)\n",
    "        print('Character class: ' + str(self.char_class))\n",
    "        print('Level: ' + str(self.lvl))\n",
    "        print('Vitality: ' + str(self.vit))\n",
    "        print('Strength: ' + str(self.strn))\n",
    "        print('Intellect: ' + str(self.intl))\n",
    "        print('Health points: ' + str(self.hp))\n",
    "        print('Magic points: ' + str(self.mp))\n",
    "\n",
    "class Player(RPGCharacter):\n",
    "    \n",
    "# The class Player inherits all modules from the class RPGCharacter\n",
    "# All the attributes of RPGCharacter are passed down to Player\n",
    "\n",
    "    \"\"\"A subclass to represent the player character\"\"\"\n",
    "    def standard_attack(self, target):\n",
    "        \"\"\"A standard physical attack\"\"\"\n",
    "        dmg = random.randint(1*self.strn, 4*self.strn)\n",
    "        print(self.name + ' attacks ' + target.name)\n",
    "        print(self.name + ' deals ' + str(dmg) + ' damage to ' +\n",
    "target.name)\n",
    "        target.hp -= dmg\n",
    "        print(target.name + ' has ' + str(target.hp) + ' HP left')\n",
    "\n",
    "class Enemy(RPGCharacter):\n",
    "    \"\"\"A subclass to represent an enemy character\"\"\"\n",
    "    def standard_attack(self, target):\n",
    "        \"\"\"A standard physical attack\"\"\"\n",
    "        dmg = random.randint(1*self.strn, 2*self.strn)\n",
    "        print(self.name + ' attacks ' + target.name)\n",
    "        print(self.name + ' deals ' + str(dmg) + ' damage to ' +\n",
    "target.name)\n",
    "        target.hp -= dmg\n",
    "        print(target.name + ' has ' + str(target.hp) + ' HP left')\n",
    "\n",
    "player1 = Player('Noob', 'Warrior', 5, 5, 1, 3)\n",
    "enemy1 = Enemy('Henchman', 'Warrior', 3, 3, 1, 2)\n",
    "\n",
    "player1.character_profile()\n",
    "print('\\n')\n",
    "player1.standard_attack(enemy1)\n",
    "print('\\n')\n",
    "enemy1.standard_attack(player1)"
   ]
  },
  {
   "cell_type": "markdown",
   "metadata": {},
   "source": [
    "# THE OS MODULE\n",
    "The OS module is a pre-build function of python that allows users to interact with the underlying operating system.\n",
    "As an example, the code block below will print the current working directory in the current Linux system.\n",
    "\n",
    "getcwd() is a function within os that gets the current working directory. It is operating system-agnostic. This is important because a Linux specific call like pwd will not work if the script is used on Windows. getcwd() on the other hand does, so it allows for a script to be used in whatever environment the user is working on."
   ]
  },
  {
   "cell_type": "code",
   "execution_count": null,
   "metadata": {},
   "outputs": [],
   "source": [
    "import os \n",
    "print(os.getcwd())\n",
    " \n",
    "# another general function is rename. It will be commented down below\n",
    "\n",
    "try:\n",
    "    os.rename(\"testfile1.txt\", \"testfile2.txt\")\n",
    "except FileNotFoundError:\n",
    "    print('Not found!')\n",
    "\n",
    "# We can also run a program from the underlying operating system\n",
    "\n",
    "os.system('ls /')\n",
    "\n",
    "# Let's wrap it up into something nicer:\n",
    "\n",
    "print('Your current working directory is: ' + os.getcwd() + '\\nThe\\\n",
    " contents of this directory are: ' + '\\n') \n",
    "os.system('ls')\n",
    "\n",
    "# We can also check for the existence of a file, and instruct python to\n",
    "#create one in case there is no such file\n",
    "\n",
    "myfile = input('Type a file name to check whether it exists in this\\\n",
    " directory\\n')\n",
    "if os.path.isfile(myfile):\n",
    "    print('The file ' + myfile + ' exists')\n",
    "else:\n",
    "    print('The file doesn\\'t exist. Creating it now')\n",
    "    os.system('touch {}'.format(myfile))\n",
    "# The curly braces followed by .format() allow replacing them with the\n",
    "#specified variable"
   ]
  },
  {
   "cell_type": "markdown",
   "metadata": {},
   "source": [
    "# SUBPROCESSES\n",
    "The subprocess module provides more tools to interact with the underlying operating system. A common application is to check whether a process is running in the underlying OS."
   ]
  },
  {
   "cell_type": "code",
   "execution_count": null,
   "metadata": {},
   "outputs": [],
   "source": [
    "import subprocess\n",
    "svc = 'sshd'\n",
    "check_cmd = ['ps', '-C', svc]\n",
    "service_check = subprocess.call(check_cmd)\n",
    "\n",
    "# The argument ps is bash for process.-C is an option for ps. Each\n",
    "#individual argument needs to be a separate string, otherwise the\n",
    "#program crashes\n",
    "\n",
    "if service_check == 0:\n",
    "    print('The service ' + svc + ' is running')\n",
    "else:\n",
    "    print('The service ' + svc + ' is not running')\n",
    "    subprocess.call(['sudo', 'systemctl', 'start', 'sshd'])\n",
    "    subprocess.call(check_cmd)"
   ]
  },
  {
   "cell_type": "markdown",
   "metadata": {},
   "source": [
    "# WORKING WITH FILES\n",
    "Sometimes either the output of a program needs to be saved into a file, or a file needs to be read in order to run a program. Python offers procedures for that.\n",
    "\n",
    "The open() function opens a text file. The 'r' argument indicates that the file is open in read-only mode. It's not necessary; if no argument is provided, then read mode is taken by default.\n",
    "\n",
    "There are two other modes to open a file:\n",
    "\n",
    "- open(myfile, 'w')\n",
    "Write mode deletes everything and starts writing at the beginning of the file.\n",
    "\n",
    "- open(myfile, 'a')\n",
    "Append mode places the cursor at the last written line of the file and begins writing from there. It doesn't overwrite existing info."
   ]
  },
  {
   "cell_type": "code",
   "execution_count": null,
   "metadata": {},
   "outputs": [],
   "source": [
    "myfile = \"testfile2.txt\"\n",
    "files = open(myfile, 'r')\n",
    "for line in files:\n",
    "    print(line)\n",
    "\n",
    "# Let's practice handling exceptions when a file might not exist in the\n",
    "#working directorty\n",
    "\n",
    "askfor = input('Specify a file to read')\n",
    "try:\n",
    "    filez = open(askfor, 'r')\n",
    "    for line in filez:\n",
    "        print(line)\n",
    "except FileNotFoundError as e:\n",
    "    print('The file was not found')\n",
    "    print(e)\n",
    "    exit(1)\n",
    "\n",
    "# The exit(1) function checks for an exit code. Anything different than\n",
    "#one is regarded as an error, so it's useful to be alerted of that for\n",
    "#debugging purposes\n",
    "\n",
    "fruit = ['dinner', 'oranges', 'ventilators']\n",
    "mu = 'testfile2.txt'\n",
    "filenew = open(mu, 'a')\n",
    "for f in fruit:\n",
    "    filenew.write('\\n')\n",
    "    filenew.write(f)\n",
    "filenew.close()"
   ]
  },
  {
   "cell_type": "markdown",
   "metadata": {},
   "source": [
    "# INSTALLING PYTHON PACKAGES\n",
    "\n",
    "Many functions and methods created by other users can be installed and imported into a python script.\n",
    "\n",
    "A package is a script containing a collection of functions and methods.\n",
    "\n",
    "Each script in a package is known as a module.\n",
    "\n",
    "The python package manager pip is used for this purpose.\n",
    "\n",
    "Package installation is done with the command: \n",
    "\n",
    "    pip3 install <package_name>.\n",
    "\n",
    "Once installed, the package needs to be imported to the script using: import <module_name>.\n",
    "\n",
    "An import package example is shown below. The package numpy will be used. Note that the array function doesn't work in python by default, but when called as a method of the numpy module, it works.\n",
    "\n",
    "The following are common Python packages for statistics, data analysis, and scientific computation\n",
    "\n",
    "- Numpy: for linear algebra with array objects\n",
    "- Pandas: for  data handling with its dataframes\n",
    "- Scipy: for statistical functions\n",
    "- Matplotlib: for data visualization\n",
    "- Seaborn: for advanced data visualization\n",
    "- Scikit-learn: for machine learning"
   ]
  },
  {
   "cell_type": "code",
   "execution_count": 15,
   "metadata": {},
   "outputs": [
    {
     "name": "stdout",
     "output_type": "stream",
     "text": [
      "Error\n",
      "[1 2 3]\n"
     ]
    },
    {
     "data": {
      "image/png": "[encoded data removed]",
      "text/plain": [
       "<Figure size 432x288 with 1 Axes>"
      ]
     },
     "metadata": {
      "needs_background": "light"
     },
     "output_type": "display_data"
    }
   ],
   "source": [
    "try:\n",
    "    dudu = array([1,2,3])\n",
    "except:\n",
    "    print('Error')\n",
    "import numpy\n",
    "dudu = numpy.array([1,2,3])\n",
    "print(dudu)\n",
    "\n",
    "# When importing packages, it is convenient to import packages with aliases\n",
    "# Note: matplotlib will be seen in more detail in a later section\n",
    "import matplotlib.pyplot as plt\n",
    "x = [1,2,3,4,5]\n",
    "y = [2,4,6,8,10]\n",
    "plt.scatter(x,y)\n",
    "plt.show()"
   ]
  },
  {
   "cell_type": "markdown",
   "metadata": {},
   "source": [
    "# BUILT-IN FUNCTIONS FOR DATA SCIENCE\n",
    "Python comes with plenty of functions that are useful for data science. Many others are installable through the package manager.\n",
    "\n",
    "The max() function identifies the highest number in a variable with multiple numbers.\n",
    "\n",
    "The sections below this one will briefly cover two essential packages for data science: numpy and pandas."
   ]
  },
  {
   "cell_type": "code",
   "execution_count": null,
   "metadata": {},
   "outputs": [],
   "source": [
    "numbers = [1, 2, 3, 4, 5, 6, 7, 8, 9, 10]\n",
    "print(max(numbers))\n",
    "\n",
    "# The round() function rounds a number to the specified number of\n",
    "# decimals\n",
    "\n",
    "pi = round(3.1415926535, 2)\n",
    "print(pi)\n",
    "\n",
    "# If no argument is provided, it rounds to the nearest integer\n",
    "\n",
    "# The sorted() function sorts items in a list in increasing value\n",
    "\n",
    "lulu = [2,3,5,4]\n",
    "print(sorted(lulu))\n",
    "\n",
    "# The len() function informs of the length ov a variable in terms of \n",
    "# number of elements\n",
    "\n",
    "len(numbers)"
   ]
  },
  {
   "cell_type": "markdown",
   "metadata": {},
   "source": [
    "# NUMPY\n",
    "Fundamental package for scientific computing. It provides the array structure, with numerous linear algebra capabilities, randomization, and fourier transforms\n",
    "\n",
    "Despite the usefulness and flexibility of lists, they have limitations.\n",
    "\n",
    "For instance, they do not allow for element-wise math operations. See below."
   ]
  },
  {
   "cell_type": "code",
   "execution_count": 1,
   "metadata": {},
   "outputs": [],
   "source": [
    "lalista = [1,2,3,4,5]"
   ]
  },
  {
   "cell_type": "code",
   "execution_count": 2,
   "metadata": {},
   "outputs": [
    {
     "ename": "TypeError",
     "evalue": "can only concatenate list (not \"int\") to list",
     "output_type": "error",
     "traceback": [
      "\u001b[0;31m---------------------------------------------------------------------------\u001b[0m",
      "\u001b[0;31mTypeError\u001b[0m                                 Traceback (most recent call last)",
      "\u001b[0;32m<ipython-input-2-47bb8856268a>\u001b[0m in \u001b[0;36m<module>\u001b[0;34m\u001b[0m\n\u001b[1;32m      1\u001b[0m \u001b[0;31m# Adding or subtracting returns an error\u001b[0m\u001b[0;34m\u001b[0m\u001b[0;34m\u001b[0m\u001b[0;34m\u001b[0m\u001b[0m\n\u001b[0;32m----> 2\u001b[0;31m \u001b[0mlalista\u001b[0m \u001b[0;34m+\u001b[0m \u001b[0;36m1\u001b[0m\u001b[0;34m\u001b[0m\u001b[0;34m\u001b[0m\u001b[0m\n\u001b[0m",
      "\u001b[0;31mTypeError\u001b[0m: can only concatenate list (not \"int\") to list"
     ]
    }
   ],
   "source": [
    "# Adding or subtracting returns an error\n",
    "lalista + 1"
   ]
  },
  {
   "cell_type": "code",
   "execution_count": 3,
   "metadata": {},
   "outputs": [
    {
     "data": {
      "text/plain": [
       "[1, 2, 3, 4, 5, 1, 2, 3, 4, 5, 1, 2, 3, 4, 5]"
      ]
     },
     "execution_count": 3,
     "metadata": {},
     "output_type": "execute_result"
    }
   ],
   "source": [
    "# Multiplication simply creates copies of the list and appends it\n",
    "lalista * 3"
   ]
  },
  {
   "cell_type": "code",
   "execution_count": 4,
   "metadata": {},
   "outputs": [
    {
     "ename": "TypeError",
     "evalue": "unsupported operand type(s) for /: 'list' and 'int'",
     "output_type": "error",
     "traceback": [
      "\u001b[0;31m---------------------------------------------------------------------------\u001b[0m",
      "\u001b[0;31mTypeError\u001b[0m                                 Traceback (most recent call last)",
      "\u001b[0;32m<ipython-input-4-7f5b7cfd96a3>\u001b[0m in \u001b[0;36m<module>\u001b[0;34m\u001b[0m\n\u001b[1;32m      1\u001b[0m \u001b[0;31m# Division returns an error\u001b[0m\u001b[0;34m\u001b[0m\u001b[0;34m\u001b[0m\u001b[0;34m\u001b[0m\u001b[0m\n\u001b[0;32m----> 2\u001b[0;31m \u001b[0mlalista\u001b[0m\u001b[0;34m/\u001b[0m\u001b[0;36m3\u001b[0m\u001b[0;34m\u001b[0m\u001b[0;34m\u001b[0m\u001b[0m\n\u001b[0m",
      "\u001b[0;31mTypeError\u001b[0m: unsupported operand type(s) for /: 'list' and 'int'"
     ]
    }
   ],
   "source": [
    "# Division returns an error\n",
    "lalista/3"
   ]
  },
  {
   "cell_type": "markdown",
   "metadata": {},
   "source": [
    "The NumPy package allows operations in list-like structures called arrays. These allow for operations common in linear algebra, such as element-wise additions and such\n",
    "\n",
    "Arrays can contain either integers or floats"
   ]
  },
  {
   "cell_type": "code",
   "execution_count": 2,
   "metadata": {},
   "outputs": [
    {
     "name": "stdout",
     "output_type": "stream",
     "text": [
      "[1 2 3 4 5]\n",
      "[2 3 4 5 6]\n",
      "15\n"
     ]
    }
   ],
   "source": [
    "# Import the library\n",
    "import numpy as np\n",
    "\n",
    "# Create an array by putting a list inside \n",
    "x = np.array([1,2,3,4,5])\n",
    "\n",
    "# Call the array\n",
    "print(x)\n",
    "\n",
    "# An array is compatible with element-wise arithmetic operations\n",
    "print(x+1)\n",
    "\n",
    "# Numpy arrays are compatible with Python's built-in sum function\n",
    "thesum = sum(x)\n",
    "print(thesum)"
   ]
  },
  {
   "cell_type": "code",
   "execution_count": 7,
   "metadata": {},
   "outputs": [
    {
     "name": "stdout",
     "output_type": "stream",
     "text": [
      "<class 'numpy.ndarray'>\n"
     ]
    }
   ],
   "source": [
    "# Query type\n",
    "print(type(x))"
   ]
  },
  {
   "cell_type": "code",
   "execution_count": 18,
   "metadata": {},
   "outputs": [
    {
     "name": "stdout",
     "output_type": "stream",
     "text": [
      "[1 2 3]\n"
     ]
    }
   ],
   "source": [
    "# Use dtype to typeset the data type\n",
    "samp = np.array([1.0, 2.0, 3.5], dtype=int)\n",
    "print(samp)"
   ]
  },
  {
   "cell_type": "code",
   "execution_count": 25,
   "metadata": {},
   "outputs": [
    {
     "name": "stdout",
     "output_type": "stream",
     "text": [
      "[[1 2]\n",
      " [3 4]]\n",
      "2.5\n",
      "2.5\n",
      "10\n",
      "[4 6]\n",
      "[3 7]\n"
     ]
    }
   ],
   "source": [
    "# Numpy comes with various descriptive statistics functions, such as mean() and median\n",
    "x = np.array([[1,2], [3,4]])\n",
    "print(x)\n",
    "\n",
    "avg = np.mean(x)\n",
    "print(avg)\n",
    "\n",
    "med = np.median(x)\n",
    "print(med)\n",
    "\n",
    "su = np.sum(x)\n",
    "print(su)\n",
    "\n",
    "# Sum can be done on only one axis using the axis parameter. 0 is by column and 1 is by row\n",
    "su1 = np.sum(x, axis=0)\n",
    "print(su1)\n",
    "\n",
    "su2 = np.sum(x, axis=1)\n",
    "print(su2)"
   ]
  },
  {
   "cell_type": "code",
   "execution_count": 4,
   "metadata": {},
   "outputs": [
    {
     "name": "stdout",
     "output_type": "stream",
     "text": [
      "['1' '2' 'a' 'True']\n",
      "[1, 2, 3, 4, 5, 6, 7, 8, 9, 10]\n",
      "[ 7  9 11 13 15]\n",
      "[ 2  4  6  8 10]\n",
      "1\n"
     ]
    }
   ],
   "source": [
    "# Numpy arrays can only contain one data type. Passing different data types coerces\n",
    "# everything into strings\n",
    "y = np.array([1,2,'a',True])\n",
    "print(y)\n",
    "\n",
    "# Summing python lists concatenates them. Summing arrays sums them element-wise\n",
    "l1 = [1,2,3,4,5]\n",
    "l2 = [6,7,8,9,10]\n",
    "a1 = np.array(l1)\n",
    "a2 = np.array(l2)\n",
    "\n",
    "print(l1 + l2)\n",
    "print(a1 + a2)\n",
    "\n",
    "# When combining a list and an array, the list is coerced into an array\n",
    "print(l1 + a1)\n",
    "\n",
    "# We can retrieve array elements through indexing\n",
    "print(a1[0])"
   ]
  },
  {
   "cell_type": "code",
   "execution_count": 22,
   "metadata": {},
   "outputs": [
    {
     "name": "stdout",
     "output_type": "stream",
     "text": [
      "[[ 6  8]\n",
      " [10 12]]\n",
      "\n",
      "\n",
      "[[-4 -4]\n",
      " [-4 -4]]\n",
      "\n",
      "\n",
      "[[ 5 12]\n",
      " [21 32]]\n",
      "\n",
      "\n",
      "[[0.2        0.33333333]\n",
      " [0.42857143 0.5       ]]\n"
     ]
    }
   ],
   "source": [
    "# Operations examples. Notice how all are element-wise\n",
    "a = np.array([[1,2], [3,4]])\n",
    "b = np.array([[5,6], [7,8]])\n",
    "print(a+b)\n",
    "print('\\n')\n",
    "print(a-b)\n",
    "print('\\n')\n",
    "print(a*b)\n",
    "print('\\n')\n",
    "print(a/b)"
   ]
  },
  {
   "cell_type": "code",
   "execution_count": 5,
   "metadata": {},
   "outputs": [
    {
     "name": "stdout",
     "output_type": "stream",
     "text": [
      "[False False  True  True False  True  True]\n",
      "[21 43 19 70]\n"
     ]
    }
   ],
   "source": [
    "# An array of booleans is extremely useful to filter data\n",
    "\n",
    "# Define array\n",
    "ages = np.array([15, 3, 21, 43, 12, 19, 70])\n",
    "\n",
    "# Define boolean\n",
    "legal_age = ages > 18\n",
    "\n",
    "# Print out the boolean array\n",
    "print(legal_age)\n",
    "\n",
    "# Use the boolean array to filter out underages from the original array\n",
    "growTFup = ages[legal_age]\n",
    "print(growTFup)"
   ]
  },
  {
   "cell_type": "code",
   "execution_count": 6,
   "metadata": {},
   "outputs": [
    {
     "name": "stdout",
     "output_type": "stream",
     "text": [
      "(4,)\n"
     ]
    }
   ],
   "source": [
    "# Use numpy's shape function to query its shape\n",
    "print(np.shape(growTFup))"
   ]
  },
  {
   "cell_type": "markdown",
   "metadata": {},
   "source": [
    "## 2D Arrays\n",
    "A matrix-like 2D array can be created. A common procedure is passing more than one list into the array function"
   ]
  },
  {
   "cell_type": "code",
   "execution_count": 9,
   "metadata": {},
   "outputs": [
    {
     "name": "stdout",
     "output_type": "stream",
     "text": [
      "[[ 1  2  3  4  5]\n",
      " [ 7  8  9 10 11]]\n",
      "[[ 3  4  5  6  7]\n",
      " [ 9 10 11 12 13]]\n",
      "10\n",
      "10\n",
      "[2 8]\n",
      "[ 9 10 11]\n",
      "3.0\n"
     ]
    }
   ],
   "source": [
    "# Create the array\n",
    "w = np.array([[1,2,3,4,5], [7,8,9,10,11]])\n",
    "print(w)\n",
    "\n",
    "# Arithmetic operations are still element-wise\n",
    "print(w+2)\n",
    "\n",
    "# Indexing a 2D array can be done in a row- and column-wise fashion. Remember that \n",
    "# items begin at zero\n",
    "print(w[1][3])\n",
    "\n",
    "# Alternative syntax\n",
    "print(w[1,3])\n",
    "\n",
    "# Indexing in a 2D array can also be done with slicing. Here we pick all rows\n",
    "# of column 2\n",
    "print(w[:,1])\n",
    "\n",
    "# And here we pick row 2, columns 3 to last\n",
    "print(w[1,2:])\n",
    "\n",
    "# We can grab entire rows or columns to do operations in them\n",
    "print(np.mean(w[0]))"
   ]
  },
  {
   "cell_type": "code",
   "execution_count": 16,
   "metadata": {},
   "outputs": [
    {
     "name": "stdout",
     "output_type": "stream",
     "text": [
      "[[0. 0. 0. 0.]\n",
      " [0. 0. 0. 0.]\n",
      " [0. 0. 0. 0.]\n",
      " [0. 0. 0. 0.]]\n",
      "[[1. 1. 1. 1.]\n",
      " [1. 1. 1. 1.]\n",
      " [1. 1. 1. 1.]\n",
      " [1. 1. 1. 1.]]\n",
      "[[5 5 5 5]\n",
      " [5 5 5 5]\n",
      " [5 5 5 5]\n",
      " [5 5 5 5]]\n",
      "[[0.24469568 0.93753657 0.55621231 0.61373019]\n",
      " [0.5401018  0.14856621 0.00999431 0.23529688]\n",
      " [0.79023345 0.2840327  0.45399964 0.46387341]\n",
      " [0.34941974 0.85833359 0.48276543 0.0394409 ]]\n"
     ]
    }
   ],
   "source": [
    "# The zeros method allows creating an array of zeroes with the specified dimensions as a tuple\n",
    "zer = np.zeros((4,4))\n",
    "print(zer)\n",
    "\n",
    "# The ones method is similar\n",
    "on = np.ones((4,4))\n",
    "print(on)\n",
    "\n",
    "# The full method fills with the desired value\n",
    "full = np.full((4,4), 5)\n",
    "print(full)\n",
    "\n",
    "# Random array\n",
    "rand = np.random.random((4,4))\n",
    "print(rand)"
   ]
  },
  {
   "cell_type": "markdown",
   "metadata": {},
   "source": [
    "# SCIPY\n",
    "An advanced scientific computation library that builds upon NumPy.\n",
    "The Scipy.stats sublibrary provides tools for statistics!\n",
    "\n",
    "## Scipy.stats\n",
    "- Distributions\n",
    "- Descriptive statistics\n",
    "- Statistical tests"
   ]
  },
  {
   "cell_type": "code",
   "execution_count": 26,
   "metadata": {},
   "outputs": [],
   "source": [
    "# Import the sub-library\n",
    "from scipy import stats"
   ]
  },
  {
   "cell_type": "code",
   "execution_count": 28,
   "metadata": {},
   "outputs": [
    {
     "name": "stdout",
     "output_type": "stream",
     "text": [
      "[-0.24621437 -1.63821017 -0.34791121 -1.38157838  0.68405055 -0.23000044\n",
      " -0.7763913   1.41991763  0.97167267  0.43344778 -0.15968208 -0.21268897\n",
      "  0.22829547 -1.20630481  0.15852082 -1.76071244 -0.55502258  0.29634295\n",
      " -0.75864349  0.70140656]\n"
     ]
    }
   ],
   "source": [
    "# An immediate useful application is generating random normally distributed variables\n",
    "print(stats.norm.rvs(size=20))"
   ]
  },
  {
   "cell_type": "code",
   "execution_count": 29,
   "metadata": {},
   "outputs": [
    {
     "name": "stdout",
     "output_type": "stream",
     "text": [
      "[0.03593032 0.15865525 0.27425312 0.84134475 0.97724987 0.99379033\n",
      " 0.99533881]\n"
     ]
    }
   ],
   "source": [
    "# We can use scipy to turn a bunch of numbers into a cumulative density function (cdf)\n",
    "print(stats.norm.cdf(np.array([-1.8,-1,-0.6,1,2,2.5,2.6])))"
   ]
  },
  {
   "cell_type": "code",
   "execution_count": 32,
   "metadata": {},
   "outputs": [
    {
     "name": "stdout",
     "output_type": "stream",
     "text": [
      "[ 0.66173786  0.59102529  1.03900972 -0.28305316  0.96142353  0.0867477\n",
      "  0.39309058 -0.68423434  0.17705283 -0.54672369 -0.15104113  0.5523767\n",
      "  0.91990484  0.66837427  0.09047253 -1.04002686 -0.14099882 -0.57087183\n",
      " -1.48574892 -0.08605347  0.42486701 -0.27657787  2.14199936 -0.94437098\n",
      "  0.18785965  0.54940764 -0.63958162  0.98372332 -2.89107579  0.70560515\n",
      "  1.81888225  0.30421877 -0.73205014 -1.21744882  0.56287655  0.32278748\n",
      " -0.55722875  0.18249624 -2.17758292 -0.48441871 -2.31341198  0.13952384\n",
      "  0.61257034  0.72743653  0.66411338  0.58011702 -0.95439954  2.17103102\n",
      "  1.3496929   0.33029461 -0.44632273  1.37173192  0.84112754 -0.5499492\n",
      " -0.35257416 -0.11510676 -0.93631666 -0.06555022  0.30625147 -0.47783028\n",
      " -0.17958841  2.76327829 -1.39933277  0.04202834 -1.76273071 -0.67602915\n",
      " -0.64011947  0.5132936  -0.55713249  0.22123985 -0.65747787  0.95001847\n",
      "  0.09696381  0.43534192  2.8740957   0.73163709  0.55786655 -0.08780917\n",
      " -2.11575674 -0.44812136  0.35032512 -0.14395738  0.2040633   0.04617953\n",
      "  0.45453172  0.4368744   1.08074128  0.79699769 -1.98809156 -0.55059042\n",
      "  0.61168828 -0.20850132  0.17204706  0.36555882  1.7816706   1.0253687\n",
      "  0.02151393 -0.29732818 -1.80207371  0.4309304 ]\n"
     ]
    }
   ],
   "source": [
    "# Descriptive statistics functions in Scipy.stats\n",
    "# We'll use a seed for reproducible tests down below\n",
    "\n",
    "# Bunch of random numbers here generated from the Student's t-continuous distribution\n",
    "np.random.seed(1234)\n",
    "x = stats.t.rvs(10, size=100)\n",
    "print(x)"
   ]
  },
  {
   "cell_type": "code",
   "execution_count": 35,
   "metadata": {},
   "outputs": [
    {
     "name": "stdout",
     "output_type": "stream",
     "text": [
      "-2.8910757913419554\n",
      "2.874095696918692\n",
      "0.05748894228519995\n",
      "DescribeResult(nobs=100, minmax=(-2.8910757913419554, 2.874095696918692), mean=0.05748894228519995, variance=1.008103430750141, skewness=-0.13595535434253678, kurtosis=1.0429155607860423)\n"
     ]
    }
   ],
   "source": [
    "# Throw in some descriptive statistics\n",
    "print(x.min())\n",
    "print(x.max())\n",
    "print(x.mean())\n",
    "print(stats.describe(x))"
   ]
  },
  {
   "cell_type": "markdown",
   "metadata": {},
   "source": [
    "### Statistical tests in Scipy.stats"
   ]
  },
  {
   "cell_type": "code",
   "execution_count": null,
   "metadata": {},
   "outputs": [],
   "source": []
  },
  {
   "cell_type": "markdown",
   "metadata": {},
   "source": [
    "## PANDAS\n",
    "Tabular representations are the most common way of storing and working with data. The pandas library comes with the dataframe structure, and so it has become default for handling of datasets\n",
    "\n",
    "With any tabular data representation, columns are variables, and rows are observations\n",
    "\n",
    "The most common way of creating a pandas dataframe is by importing a csv or excel file. It is also commonly created through a dictionary of lists or numpy arrays"
   ]
  },
  {
   "cell_type": "code",
   "execution_count": 18,
   "metadata": {},
   "outputs": [
    {
     "name": "stdout",
     "output_type": "stream",
     "text": [
      "                     topic  number of researchers  number of laboratories\n",
      "0  Computational chemistry                     12                       2\n",
      "1      Medicinal chemistry                      5                       3\n",
      "2             Biochemistry                      7                       2\n",
      "3       Structural biology                     28                       5\n",
      "4             Microbiology                     20                       2\n",
      "5               Immunology                     10                       2\n",
      "6             Pharmacology                     12                       3\n",
      "7            Pharmaceutics                     15                       4\n",
      "8          Pharmacometrics                      8                       2\n"
     ]
    }
   ],
   "source": [
    "# Import pandas and numpy\n",
    "import pandas as pd\n",
    "import numpy as np\n",
    "\n",
    "# Create some lists\n",
    "topics = ['Computational chemistry', 'Medicinal chemistry', 'Biochemistry', \n",
    "          'Structural biology', 'Microbiology', 'Immunology', 'Pharmacology', \n",
    "          'Pharmaceutics', 'Pharmacometrics']\n",
    "researchers = [12, 5, 7, 28, 20, 10, 12, 15, 8]\n",
    "labs = [2,3,2,5,2,2,3,4,2]\n",
    "\n",
    "# Weld them into a dictionary\n",
    "department = {'topic': topics, 'number of researchers': researchers,\n",
    "              'number of laboratories': labs}\n",
    "\n",
    "# Create a dataframe\n",
    "df = pd.DataFrame(department)\n",
    "\n",
    "# Print the dataframe\n",
    "print(df)"
   ]
  },
  {
   "cell_type": "markdown",
   "metadata": {},
   "source": [
    "Row labels are set to integers, starting from 0, by default. That can be changed with the index method by passing a named list"
   ]
  },
  {
   "cell_type": "code",
   "execution_count": 19,
   "metadata": {},
   "outputs": [
    {
     "name": "stdout",
     "output_type": "stream",
     "text": [
      "                             topic  number of researchers  \\\n",
      "CADD       Computational chemistry                     12   \n",
      "MedChem        Medicinal chemistry                      5   \n",
      "Biochem               Biochemistry                      7   \n",
      "StructBio       Structural biology                     28   \n",
      "Micro                 Microbiology                     20   \n",
      "Imm                     Immunology                     10   \n",
      "Pharmacol             Pharmacology                     12   \n",
      "Phar                 Pharmaceutics                     15   \n",
      "Metrics            Pharmacometrics                      8   \n",
      "\n",
      "           number of laboratories  \n",
      "CADD                            2  \n",
      "MedChem                         3  \n",
      "Biochem                         2  \n",
      "StructBio                       5  \n",
      "Micro                           2  \n",
      "Imm                             2  \n",
      "Pharmacol                       3  \n",
      "Phar                            4  \n",
      "Metrics                         2  \n"
     ]
    }
   ],
   "source": [
    "# Define list of labels\n",
    "labels = ['CADD', 'MedChem', 'Biochem', 'StructBio', 'Micro', 'Imm',\n",
    "         'Pharmacol', 'Phar', 'Metrics']\n",
    "df.index = labels\n",
    "print(df)"
   ]
  },
  {
   "cell_type": "markdown",
   "metadata": {},
   "source": [
    "## Importing dataframes from csv files\n",
    "The read_csv method of pandas allows data importing\n",
    "An example below lists the hypothetial file.csv file"
   ]
  },
  {
   "cell_type": "code",
   "execution_count": 20,
   "metadata": {},
   "outputs": [
    {
     "ename": "FileNotFoundError",
     "evalue": "[Errno 2] No such file or directory: 'file.csv'",
     "output_type": "error",
     "traceback": [
      "\u001b[0;31m---------------------------------------------------------------------------\u001b[0m",
      "\u001b[0;31mFileNotFoundError\u001b[0m                         Traceback (most recent call last)",
      "\u001b[0;32m<ipython-input-20-2e9f1a8e68b9>\u001b[0m in \u001b[0;36m<module>\u001b[0;34m\u001b[0m\n\u001b[1;32m      2\u001b[0m \u001b[0;31m# index_col=0 avoids getting an extra index in the form of integers\u001b[0m\u001b[0;34m\u001b[0m\u001b[0;34m\u001b[0m\u001b[0;34m\u001b[0m\u001b[0m\n\u001b[1;32m      3\u001b[0m \u001b[0;31m# Note: gives an error. Just for syntax demonstration purposes\u001b[0m\u001b[0;34m\u001b[0m\u001b[0;34m\u001b[0m\u001b[0;34m\u001b[0m\u001b[0m\n\u001b[0;32m----> 4\u001b[0;31m \u001b[0mdata\u001b[0m \u001b[0;34m=\u001b[0m \u001b[0mpd\u001b[0m\u001b[0;34m.\u001b[0m\u001b[0mread_csv\u001b[0m\u001b[0;34m(\u001b[0m\u001b[0;34m'file.csv'\u001b[0m\u001b[0;34m,\u001b[0m \u001b[0mindex_col\u001b[0m\u001b[0;34m=\u001b[0m\u001b[0;36m0\u001b[0m\u001b[0;34m)\u001b[0m\u001b[0;34m\u001b[0m\u001b[0;34m\u001b[0m\u001b[0m\n\u001b[0m",
      "\u001b[0;32m~/.local/lib/python3.8/site-packages/pandas/io/parsers.py\u001b[0m in \u001b[0;36mread_csv\u001b[0;34m(filepath_or_buffer, sep, delimiter, header, names, index_col, usecols, squeeze, prefix, mangle_dupe_cols, dtype, engine, converters, true_values, false_values, skipinitialspace, skiprows, skipfooter, nrows, na_values, keep_default_na, na_filter, verbose, skip_blank_lines, parse_dates, infer_datetime_format, keep_date_col, date_parser, dayfirst, cache_dates, iterator, chunksize, compression, thousands, decimal, lineterminator, quotechar, quoting, doublequote, escapechar, comment, encoding, dialect, error_bad_lines, warn_bad_lines, delim_whitespace, low_memory, memory_map, float_precision, storage_options)\u001b[0m\n\u001b[1;32m    608\u001b[0m     \u001b[0mkwds\u001b[0m\u001b[0;34m.\u001b[0m\u001b[0mupdate\u001b[0m\u001b[0;34m(\u001b[0m\u001b[0mkwds_defaults\u001b[0m\u001b[0;34m)\u001b[0m\u001b[0;34m\u001b[0m\u001b[0;34m\u001b[0m\u001b[0m\n\u001b[1;32m    609\u001b[0m \u001b[0;34m\u001b[0m\u001b[0m\n\u001b[0;32m--> 610\u001b[0;31m     \u001b[0;32mreturn\u001b[0m \u001b[0m_read\u001b[0m\u001b[0;34m(\u001b[0m\u001b[0mfilepath_or_buffer\u001b[0m\u001b[0;34m,\u001b[0m \u001b[0mkwds\u001b[0m\u001b[0;34m)\u001b[0m\u001b[0;34m\u001b[0m\u001b[0;34m\u001b[0m\u001b[0m\n\u001b[0m\u001b[1;32m    611\u001b[0m \u001b[0;34m\u001b[0m\u001b[0m\n\u001b[1;32m    612\u001b[0m \u001b[0;34m\u001b[0m\u001b[0m\n",
      "\u001b[0;32m~/.local/lib/python3.8/site-packages/pandas/io/parsers.py\u001b[0m in \u001b[0;36m_read\u001b[0;34m(filepath_or_buffer, kwds)\u001b[0m\n\u001b[1;32m    460\u001b[0m \u001b[0;34m\u001b[0m\u001b[0m\n\u001b[1;32m    461\u001b[0m     \u001b[0;31m# Create the parser.\u001b[0m\u001b[0;34m\u001b[0m\u001b[0;34m\u001b[0m\u001b[0;34m\u001b[0m\u001b[0m\n\u001b[0;32m--> 462\u001b[0;31m     \u001b[0mparser\u001b[0m \u001b[0;34m=\u001b[0m \u001b[0mTextFileReader\u001b[0m\u001b[0;34m(\u001b[0m\u001b[0mfilepath_or_buffer\u001b[0m\u001b[0;34m,\u001b[0m \u001b[0;34m**\u001b[0m\u001b[0mkwds\u001b[0m\u001b[0;34m)\u001b[0m\u001b[0;34m\u001b[0m\u001b[0;34m\u001b[0m\u001b[0m\n\u001b[0m\u001b[1;32m    463\u001b[0m \u001b[0;34m\u001b[0m\u001b[0m\n\u001b[1;32m    464\u001b[0m     \u001b[0;32mif\u001b[0m \u001b[0mchunksize\u001b[0m \u001b[0;32mor\u001b[0m \u001b[0miterator\u001b[0m\u001b[0;34m:\u001b[0m\u001b[0;34m\u001b[0m\u001b[0;34m\u001b[0m\u001b[0m\n",
      "\u001b[0;32m~/.local/lib/python3.8/site-packages/pandas/io/parsers.py\u001b[0m in \u001b[0;36m__init__\u001b[0;34m(self, f, engine, **kwds)\u001b[0m\n\u001b[1;32m    817\u001b[0m             \u001b[0mself\u001b[0m\u001b[0;34m.\u001b[0m\u001b[0moptions\u001b[0m\u001b[0;34m[\u001b[0m\u001b[0;34m\"has_index_names\"\u001b[0m\u001b[0;34m]\u001b[0m \u001b[0;34m=\u001b[0m \u001b[0mkwds\u001b[0m\u001b[0;34m[\u001b[0m\u001b[0;34m\"has_index_names\"\u001b[0m\u001b[0;34m]\u001b[0m\u001b[0;34m\u001b[0m\u001b[0;34m\u001b[0m\u001b[0m\n\u001b[1;32m    818\u001b[0m \u001b[0;34m\u001b[0m\u001b[0m\n\u001b[0;32m--> 819\u001b[0;31m         \u001b[0mself\u001b[0m\u001b[0;34m.\u001b[0m\u001b[0m_engine\u001b[0m \u001b[0;34m=\u001b[0m \u001b[0mself\u001b[0m\u001b[0;34m.\u001b[0m\u001b[0m_make_engine\u001b[0m\u001b[0;34m(\u001b[0m\u001b[0mself\u001b[0m\u001b[0;34m.\u001b[0m\u001b[0mengine\u001b[0m\u001b[0;34m)\u001b[0m\u001b[0;34m\u001b[0m\u001b[0;34m\u001b[0m\u001b[0m\n\u001b[0m\u001b[1;32m    820\u001b[0m \u001b[0;34m\u001b[0m\u001b[0m\n\u001b[1;32m    821\u001b[0m     \u001b[0;32mdef\u001b[0m \u001b[0mclose\u001b[0m\u001b[0;34m(\u001b[0m\u001b[0mself\u001b[0m\u001b[0;34m)\u001b[0m\u001b[0;34m:\u001b[0m\u001b[0;34m\u001b[0m\u001b[0;34m\u001b[0m\u001b[0m\n",
      "\u001b[0;32m~/.local/lib/python3.8/site-packages/pandas/io/parsers.py\u001b[0m in \u001b[0;36m_make_engine\u001b[0;34m(self, engine)\u001b[0m\n\u001b[1;32m   1048\u001b[0m             )\n\u001b[1;32m   1049\u001b[0m         \u001b[0;31m# error: Too many arguments for \"ParserBase\"\u001b[0m\u001b[0;34m\u001b[0m\u001b[0;34m\u001b[0m\u001b[0;34m\u001b[0m\u001b[0m\n\u001b[0;32m-> 1050\u001b[0;31m         \u001b[0;32mreturn\u001b[0m \u001b[0mmapping\u001b[0m\u001b[0;34m[\u001b[0m\u001b[0mengine\u001b[0m\u001b[0;34m]\u001b[0m\u001b[0;34m(\u001b[0m\u001b[0mself\u001b[0m\u001b[0;34m.\u001b[0m\u001b[0mf\u001b[0m\u001b[0;34m,\u001b[0m \u001b[0;34m**\u001b[0m\u001b[0mself\u001b[0m\u001b[0;34m.\u001b[0m\u001b[0moptions\u001b[0m\u001b[0;34m)\u001b[0m  \u001b[0;31m# type: ignore[call-arg]\u001b[0m\u001b[0;34m\u001b[0m\u001b[0;34m\u001b[0m\u001b[0m\n\u001b[0m\u001b[1;32m   1051\u001b[0m \u001b[0;34m\u001b[0m\u001b[0m\n\u001b[1;32m   1052\u001b[0m     \u001b[0;32mdef\u001b[0m \u001b[0m_failover_to_python\u001b[0m\u001b[0;34m(\u001b[0m\u001b[0mself\u001b[0m\u001b[0;34m)\u001b[0m\u001b[0;34m:\u001b[0m\u001b[0;34m\u001b[0m\u001b[0;34m\u001b[0m\u001b[0m\n",
      "\u001b[0;32m~/.local/lib/python3.8/site-packages/pandas/io/parsers.py\u001b[0m in \u001b[0;36m__init__\u001b[0;34m(self, src, **kwds)\u001b[0m\n\u001b[1;32m   1865\u001b[0m \u001b[0;34m\u001b[0m\u001b[0m\n\u001b[1;32m   1866\u001b[0m         \u001b[0;31m# open handles\u001b[0m\u001b[0;34m\u001b[0m\u001b[0;34m\u001b[0m\u001b[0;34m\u001b[0m\u001b[0m\n\u001b[0;32m-> 1867\u001b[0;31m         \u001b[0mself\u001b[0m\u001b[0;34m.\u001b[0m\u001b[0m_open_handles\u001b[0m\u001b[0;34m(\u001b[0m\u001b[0msrc\u001b[0m\u001b[0;34m,\u001b[0m \u001b[0mkwds\u001b[0m\u001b[0;34m)\u001b[0m\u001b[0;34m\u001b[0m\u001b[0;34m\u001b[0m\u001b[0m\n\u001b[0m\u001b[1;32m   1868\u001b[0m         \u001b[0;32massert\u001b[0m \u001b[0mself\u001b[0m\u001b[0;34m.\u001b[0m\u001b[0mhandles\u001b[0m \u001b[0;32mis\u001b[0m \u001b[0;32mnot\u001b[0m \u001b[0;32mNone\u001b[0m\u001b[0;34m\u001b[0m\u001b[0;34m\u001b[0m\u001b[0m\n\u001b[1;32m   1869\u001b[0m         \u001b[0;32mfor\u001b[0m \u001b[0mkey\u001b[0m \u001b[0;32min\u001b[0m \u001b[0;34m(\u001b[0m\u001b[0;34m\"storage_options\"\u001b[0m\u001b[0;34m,\u001b[0m \u001b[0;34m\"encoding\"\u001b[0m\u001b[0;34m,\u001b[0m \u001b[0;34m\"memory_map\"\u001b[0m\u001b[0;34m,\u001b[0m \u001b[0;34m\"compression\"\u001b[0m\u001b[0;34m)\u001b[0m\u001b[0;34m:\u001b[0m\u001b[0;34m\u001b[0m\u001b[0;34m\u001b[0m\u001b[0m\n",
      "\u001b[0;32m~/.local/lib/python3.8/site-packages/pandas/io/parsers.py\u001b[0m in \u001b[0;36m_open_handles\u001b[0;34m(self, src, kwds)\u001b[0m\n\u001b[1;32m   1360\u001b[0m         \u001b[0mLet\u001b[0m \u001b[0mthe\u001b[0m \u001b[0mreaders\u001b[0m \u001b[0mopen\u001b[0m \u001b[0mIOHanldes\u001b[0m \u001b[0mafter\u001b[0m \u001b[0mthey\u001b[0m \u001b[0mare\u001b[0m \u001b[0mdone\u001b[0m \u001b[0;32mwith\u001b[0m \u001b[0mtheir\u001b[0m \u001b[0mpotential\u001b[0m \u001b[0mraises\u001b[0m\u001b[0;34m.\u001b[0m\u001b[0;34m\u001b[0m\u001b[0;34m\u001b[0m\u001b[0m\n\u001b[1;32m   1361\u001b[0m         \"\"\"\n\u001b[0;32m-> 1362\u001b[0;31m         self.handles = get_handle(\n\u001b[0m\u001b[1;32m   1363\u001b[0m             \u001b[0msrc\u001b[0m\u001b[0;34m,\u001b[0m\u001b[0;34m\u001b[0m\u001b[0;34m\u001b[0m\u001b[0m\n\u001b[1;32m   1364\u001b[0m             \u001b[0;34m\"r\"\u001b[0m\u001b[0;34m,\u001b[0m\u001b[0;34m\u001b[0m\u001b[0;34m\u001b[0m\u001b[0m\n",
      "\u001b[0;32m~/.local/lib/python3.8/site-packages/pandas/io/common.py\u001b[0m in \u001b[0;36mget_handle\u001b[0;34m(path_or_buf, mode, encoding, compression, memory_map, is_text, errors, storage_options)\u001b[0m\n\u001b[1;32m    640\u001b[0m                 \u001b[0merrors\u001b[0m \u001b[0;34m=\u001b[0m \u001b[0;34m\"replace\"\u001b[0m\u001b[0;34m\u001b[0m\u001b[0;34m\u001b[0m\u001b[0m\n\u001b[1;32m    641\u001b[0m             \u001b[0;31m# Encoding\u001b[0m\u001b[0;34m\u001b[0m\u001b[0;34m\u001b[0m\u001b[0;34m\u001b[0m\u001b[0m\n\u001b[0;32m--> 642\u001b[0;31m             handle = open(\n\u001b[0m\u001b[1;32m    643\u001b[0m                 \u001b[0mhandle\u001b[0m\u001b[0;34m,\u001b[0m\u001b[0;34m\u001b[0m\u001b[0;34m\u001b[0m\u001b[0m\n\u001b[1;32m    644\u001b[0m                 \u001b[0mioargs\u001b[0m\u001b[0;34m.\u001b[0m\u001b[0mmode\u001b[0m\u001b[0;34m,\u001b[0m\u001b[0;34m\u001b[0m\u001b[0;34m\u001b[0m\u001b[0m\n",
      "\u001b[0;31mFileNotFoundError\u001b[0m: [Errno 2] No such file or directory: 'file.csv'"
     ]
    }
   ],
   "source": [
    "# Import the data\n",
    "# index_col=0 avoids getting an extra index in the form of integers\n",
    "# Note: gives an error. Just for syntax demonstration purposes\n",
    "data = pd.read_csv('file.csv', index_col=0)"
   ]
  },
  {
   "cell_type": "markdown",
   "metadata": {},
   "source": [
    "## Selecting data from dataframes\n",
    "There are several selection methods to retrieve data from a dataframe:\n",
    "    \n",
    "    - Location\n",
    "    - Integer\n",
    "    - Specific columns"
   ]
  },
  {
   "cell_type": "code",
   "execution_count": 23,
   "metadata": {},
   "outputs": [
    {
     "name": "stdout",
     "output_type": "stream",
     "text": [
      "CADD         Computational chemistry\n",
      "MedChem          Medicinal chemistry\n",
      "Biochem                 Biochemistry\n",
      "StructBio         Structural biology\n",
      "Micro                   Microbiology\n",
      "Imm                       Immunology\n",
      "Pharmacol               Pharmacology\n",
      "Phar                   Pharmaceutics\n",
      "Metrics              Pharmacometrics\n",
      "Name: topic, dtype: object\n",
      "<class 'pandas.core.series.Series'>\n"
     ]
    }
   ],
   "source": [
    "# Let's select a specific column\n",
    "print(df['topic'])\n",
    "\n",
    "# Check the type of what we just got\n",
    "print(type(df['topic']))"
   ]
  },
  {
   "cell_type": "code",
   "execution_count": 26,
   "metadata": {},
   "outputs": [
    {
     "name": "stdout",
     "output_type": "stream",
     "text": [
      "                             topic  number of researchers\n",
      "CADD       Computational chemistry                     12\n",
      "MedChem        Medicinal chemistry                      5\n",
      "Biochem               Biochemistry                      7\n",
      "StructBio       Structural biology                     28\n",
      "Micro                 Microbiology                     20\n",
      "Imm                     Immunology                     10\n",
      "Pharmacol             Pharmacology                     12\n",
      "Phar                 Pharmaceutics                     15\n",
      "Metrics            Pharmacometrics                      8\n"
     ]
    }
   ],
   "source": [
    "# We can select more than one column using commas. Make sure to use double brackets\n",
    "# so that the output is a dataframe. Otherwise an error is raised\n",
    "print(df[['topic','number of researchers']])"
   ]
  },
  {
   "cell_type": "code",
   "execution_count": 29,
   "metadata": {},
   "outputs": [
    {
     "name": "stdout",
     "output_type": "stream",
     "text": [
      "<class 'pandas.core.frame.DataFrame'>\n"
     ]
    }
   ],
   "source": [
    "# We can force the output to be a dataframe with double square brackets\n",
    "print(type(df[['topic']]))"
   ]
  },
  {
   "cell_type": "code",
   "execution_count": 30,
   "metadata": {},
   "outputs": [
    {
     "name": "stdout",
     "output_type": "stream",
     "text": [
      "                             topic  number of researchers  \\\n",
      "CADD       Computational chemistry                     12   \n",
      "MedChem        Medicinal chemistry                      5   \n",
      "Biochem               Biochemistry                      7   \n",
      "StructBio       Structural biology                     28   \n",
      "Micro                 Microbiology                     20   \n",
      "\n",
      "           number of laboratories  \n",
      "CADD                            2  \n",
      "MedChem                         3  \n",
      "Biochem                         2  \n",
      "StructBio                       5  \n",
      "Micro                           2  \n"
     ]
    }
   ],
   "source": [
    "# We can select rows with numeric indices, either single ones or slices\n",
    "# Indices start at zero and the end index of the slice is not included in the slice\n",
    "print(df[0:5])"
   ]
  },
  {
   "cell_type": "markdown",
   "metadata": {},
   "source": [
    "Selecting on a [row,column] regimen is possible through the loc and iloc functions\n",
    "- loc is label-based\n",
    "- iloc is integer-based"
   ]
  },
  {
   "cell_type": "code",
   "execution_count": 32,
   "metadata": {},
   "outputs": [
    {
     "name": "stdout",
     "output_type": "stream",
     "text": [
      "12\n",
      "3\n",
      "                           topic  number of researchers\n",
      "CADD     Computational chemistry                     12\n",
      "MedChem      Medicinal chemistry                      5\n",
      "         number of researchers  number of laboratories\n",
      "CADD                        12                       2\n",
      "MedChem                      5                       3\n",
      "Micro                       20                       2\n",
      "         number of researchers\n",
      "CADD                        12\n",
      "MedChem                      5\n",
      "Micro                       20\n",
      "           number of researchers\n",
      "CADD                          12\n",
      "MedChem                        5\n",
      "Biochem                        7\n",
      "StructBio                     28\n",
      "Micro                         20\n",
      "Imm                           10\n",
      "Pharmacol                     12\n",
      "Phar                          15\n",
      "Metrics                        8\n"
     ]
    }
   ],
   "source": [
    "print(df.iloc[0,1])\n",
    "print(df.iloc[1,2])\n",
    "print(df.iloc[0:2,0:2])\n",
    "print(df.iloc[[0,1,4],[1,2]])\n",
    "print(df.iloc[[0,1,4],1:2])\n",
    "print(df.iloc[:,1:2])"
   ]
  },
  {
   "cell_type": "code",
   "execution_count": 34,
   "metadata": {},
   "outputs": [
    {
     "name": "stdout",
     "output_type": "stream",
     "text": [
      "20\n"
     ]
    }
   ],
   "source": [
    "print(df.loc['Micro','number of researchers'])"
   ]
  },
  {
   "cell_type": "code",
   "execution_count": 39,
   "metadata": {},
   "outputs": [
    {
     "name": "stdout",
     "output_type": "stream",
     "text": [
      "topic                     Microbiology\n",
      "number of researchers               20\n",
      "number of laboratories               2\n",
      "Name: Micro, dtype: object\n",
      "              topic  number of researchers  number of laboratories\n",
      "Micro  Microbiology                     20                       2\n",
      "              topic  number of researchers\n",
      "Micro  Microbiology                     20\n",
      "Imm      Immunology                     10\n"
     ]
    }
   ],
   "source": [
    "# The code below returns a pandas series\n",
    "print(df.loc['Micro'])\n",
    "\n",
    "# Use double brackets to force the generation of a dataframe\n",
    "print(df.loc[['Micro']])\n",
    "\n",
    "# We can pick several rows and columns by using two lists\n",
    "print(df.loc[['Micro', 'Imm'], ['topic', 'number of researchers']])"
   ]
  },
  {
   "cell_type": "markdown",
   "metadata": {},
   "source": [
    "## Filtering through boolean masking\n",
    "Using a boolean array allows setting a filter condition. When the array is passed on the dataframe using the where method, the desired filter is applied yielding a dataframe that meets the intended condition"
   ]
  },
  {
   "cell_type": "code",
   "execution_count": 40,
   "metadata": {},
   "outputs": [
    {
     "name": "stdout",
     "output_type": "stream",
     "text": [
      "CADD          True\n",
      "MedChem      False\n",
      "Biochem      False\n",
      "StructBio     True\n",
      "Micro         True\n",
      "Imm          False\n",
      "Pharmacol     True\n",
      "Phar          True\n",
      "Metrics      False\n",
      "Name: number of researchers, dtype: bool\n"
     ]
    }
   ],
   "source": [
    "# Create a boolean mask\n",
    "mask = df['number of researchers']>10\n",
    "\n",
    "# Call the mask\n",
    "print(mask)"
   ]
  },
  {
   "cell_type": "code",
   "execution_count": 41,
   "metadata": {},
   "outputs": [
    {
     "name": "stdout",
     "output_type": "stream",
     "text": [
      "                             topic  number of researchers  \\\n",
      "CADD       Computational chemistry                   12.0   \n",
      "MedChem                        NaN                    NaN   \n",
      "Biochem                        NaN                    NaN   \n",
      "StructBio       Structural biology                   28.0   \n",
      "Micro                 Microbiology                   20.0   \n",
      "Imm                            NaN                    NaN   \n",
      "Pharmacol             Pharmacology                   12.0   \n",
      "Phar                 Pharmaceutics                   15.0   \n",
      "Metrics                        NaN                    NaN   \n",
      "\n",
      "           number of laboratories  \n",
      "CADD                          2.0  \n",
      "MedChem                       NaN  \n",
      "Biochem                       NaN  \n",
      "StructBio                     5.0  \n",
      "Micro                         2.0  \n",
      "Imm                           NaN  \n",
      "Pharmacol                     3.0  \n",
      "Phar                          4.0  \n",
      "Metrics                       NaN  \n"
     ]
    }
   ],
   "source": [
    "# Apply the mask to the dataframe\n",
    "dffilter = df.where(mask)\n",
    "print(dffilter)"
   ]
  },
  {
   "cell_type": "code",
   "execution_count": 42,
   "metadata": {},
   "outputs": [
    {
     "name": "stdout",
     "output_type": "stream",
     "text": [
      "                             topic  number of researchers  \\\n",
      "CADD       Computational chemistry                   12.0   \n",
      "StructBio       Structural biology                   28.0   \n",
      "Micro                 Microbiology                   20.0   \n",
      "Pharmacol             Pharmacology                   12.0   \n",
      "Phar                 Pharmaceutics                   15.0   \n",
      "\n",
      "           number of laboratories  \n",
      "CADD                          2.0  \n",
      "StructBio                     5.0  \n",
      "Micro                         2.0  \n",
      "Pharmacol                     3.0  \n",
      "Phar                          4.0  \n"
     ]
    }
   ],
   "source": [
    "# Drop NaN values to clean it up\n",
    "dffilternan = dffilter.dropna()\n",
    "print(dffilternan)"
   ]
  },
  {
   "cell_type": "markdown",
   "metadata": {},
   "source": [
    "# MATPLOTLIB\n",
    "Matplotlib is a visualization package in Python\n",
    "The pyplot method, often imported as plt, is used as a standard for visualization"
   ]
  },
  {
   "cell_type": "code",
   "execution_count": 44,
   "metadata": {},
   "outputs": [],
   "source": [
    "# Import matplotlib\n",
    "%matplotlib widget\n",
    "import matplotlib.pyplot as plt"
   ]
  },
  {
   "cell_type": "markdown",
   "metadata": {},
   "source": [
    "## Line plot"
   ]
  },
  {
   "cell_type": "code",
   "execution_count": 45,
   "metadata": {},
   "outputs": [
    {
     "data": {
      "application/vnd.jupyter.widget-view+json": {
       "model_id": "7da98cb38b3d4c4fbfa8bfd72f0f4dd0",
       "version_major": 2,
       "version_minor": 0
      },
      "text/plain": [
       "Canvas(toolbar=Toolbar(toolitems=[('Home', 'Reset original view', 'home', 'home'), ('Back', 'Back to previous …"
      ]
     },
     "metadata": {},
     "output_type": "display_data"
    },
    {
     "data": {
      "text/plain": [
       "Text(0.5, 1.0, 'Dose-response curve')"
      ]
     },
     "execution_count": 45,
     "metadata": {},
     "output_type": "execute_result"
    }
   ],
   "source": [
    "# Create some data\n",
    "concentration = [0,1,2,3,4,5]\n",
    "response = [0,10,100,1000,10100,12000]\n",
    "# Plot\n",
    "plt.figure()\n",
    "plt.plot(concentration, response);\n",
    "plt.xlabel('Concentration')\n",
    "plt.ylabel('Response')\n",
    "plt.title('Dose-response curve')\n",
    "# Outside jupyter, use plt.show() to actually show the plot"
   ]
  },
  {
   "cell_type": "markdown",
   "metadata": {},
   "source": [
    "## Scatter plot"
   ]
  },
  {
   "cell_type": "code",
   "execution_count": 46,
   "metadata": {},
   "outputs": [
    {
     "data": {
      "application/vnd.jupyter.widget-view+json": {
       "model_id": "2a93163a3ef24448ad8222b18d3e150a",
       "version_major": 2,
       "version_minor": 0
      },
      "text/plain": [
       "Canvas(toolbar=Toolbar(toolitems=[('Home', 'Reset original view', 'home', 'home'), ('Back', 'Back to previous …"
      ]
     },
     "metadata": {},
     "output_type": "display_data"
    },
    {
     "data": {
      "text/plain": [
       "Text(0.5, 1.0, 'Dose-response curve')"
      ]
     },
     "execution_count": 46,
     "metadata": {},
     "output_type": "execute_result"
    }
   ],
   "source": [
    "# Create some data\n",
    "concentration = [0,1,2,3,4,5]\n",
    "response = [0,10,100,1000,10100,12000]\n",
    "# Plot\n",
    "plt.figure()\n",
    "plt.scatter(concentration, response);\n",
    "plt.xlabel('Concentration')\n",
    "plt.ylabel('Response')\n",
    "plt.title('Dose-response curve')\n",
    "# Outside jupyter, use plt.show() to actually show the plot"
   ]
  },
  {
   "cell_type": "markdown",
   "metadata": {},
   "source": [
    "Explore other visualizations such as:\n",
    "- Bar charts: plt.bar()\n",
    "- Histograms: plt.hist()"
   ]
  }
 ],
 "metadata": {
  "kernelspec": {
   "display_name": "Python 3",
   "language": "python",
   "name": "python3"
  },
  "language_info": {
   "codemirror_mode": {
    "name": "ipython",
    "version": 3
   },
   "file_extension": ".py",
   "mimetype": "text/x-python",
   "name": "python",
   "nbconvert_exporter": "python",
   "pygments_lexer": "ipython3",
   "version": "3.8.5"
  }
 },
 "nbformat": 4,
 "nbformat_minor": 4
}
